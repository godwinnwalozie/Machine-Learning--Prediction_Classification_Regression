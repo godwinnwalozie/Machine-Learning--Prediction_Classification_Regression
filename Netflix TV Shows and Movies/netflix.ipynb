{
 "cells": [
  {
   "cell_type": "markdown",
   "id": "155b1579-f959-4aec-82df-8c31aa845d8a",
   "metadata": {},
   "source": [
    "# **Netflix - TV Shows and Movies**\n",
    "\n",
    "This data set was created to list all shows available on Netflix streaming, and analyze the data to find interesting facts. This data was acquired in May 2022 containing data available in the United States.\n",
    "Content\n",
    "\n",
    "This dataset has two files containing the titles (titles.csv) and the cast (credits.csv) for the title.\n",
    "\n",
    "This dataset contains +5k unique titles on Netflix with 15 columns containing their information, including:\n",
    "\n",
    "    ID: The title ID on JustWatch.\n",
    "    title: The name of the title.\n",
    "    show type: TV show or movie.\n",
    "    description: A brief description.\n",
    "    release year: The release year.\n",
    "    age certification: The age certification.\n",
    "    runtime: The length of the episode (SHOW) or movie.\n",
    "    genres: A list of genres.\n",
    "    production countries: A list of countries that produced the title.\n",
    "    seasons: Number of seasons if it's a SHOW.\n",
    "    IMDB ID: The title ID on IMDB.\n",
    "    IMDB Score: Score on IMDB.\n",
    "    IMDB Votes: Votes on IMDB.\n",
    "    TMDB Popularity: Popularity on TMDB.\n",
    "    TMDB Score: Score on TMDB.\n",
    "\n",
    "And over +77k credits of actors and directors on Netflix titles with 5 columns containing their information, including:\n",
    "\n",
    "    person ID: The person ID on JustWatch.\n",
    "    ID: The title ID on JustWatch.\n",
    "    name: The actor or director's name.\n",
    "    character name: The character name.\n",
    "    role: ACTOR or DIRECTOR.\n",
    "\n",
    "Tasks\n",
    "\n",
    "   - Developing a content-based recommender system using the genres and/or descriptions.\n",
    "   - Identifying the main content available on the streaming.\n",
    "   - Network analysis on the cast of the titles.\n",
    "   - Exploratory data analysis to find interesting insights.\n",
    "\n"
   ]
  },
  {
   "cell_type": "code",
   "execution_count": 15,
   "id": "7d63a08b-89dd-4ea1-893e-53089e324b4a",
   "metadata": {},
   "outputs": [],
   "source": [
    "import pandas as pd\n",
    "import numpy as np\n",
    "import matplotlib.pyplot as plt\n",
    "import seaborn as sns\n",
    "%matplotlib inline\n",
    "from datetime import datetime, date, time\n",
    "from dateutil import parser"
   ]
  },
  {
   "cell_type": "code",
   "execution_count": 16,
   "id": "081faea5-49a7-4b36-9504-59808a6f40f2",
   "metadata": {},
   "outputs": [
    {
     "data": {
      "text/html": [
       "<div>\n",
       "<style scoped>\n",
       "    .dataframe tbody tr th:only-of-type {\n",
       "        vertical-align: middle;\n",
       "    }\n",
       "\n",
       "    .dataframe tbody tr th {\n",
       "        vertical-align: top;\n",
       "    }\n",
       "\n",
       "    .dataframe thead th {\n",
       "        text-align: right;\n",
       "    }\n",
       "</style>\n",
       "<table border=\"1\" class=\"dataframe\">\n",
       "  <thead>\n",
       "    <tr style=\"text-align: right;\">\n",
       "      <th></th>\n",
       "      <th>id</th>\n",
       "      <th>title</th>\n",
       "      <th>type</th>\n",
       "      <th>description</th>\n",
       "      <th>release_year</th>\n",
       "      <th>age_certification</th>\n",
       "      <th>runtime</th>\n",
       "      <th>genres</th>\n",
       "      <th>production_countries</th>\n",
       "      <th>seasons</th>\n",
       "      <th>imdb_id</th>\n",
       "      <th>imdb_score</th>\n",
       "      <th>imdb_votes</th>\n",
       "      <th>tmdb_popularity</th>\n",
       "      <th>tmdb_score</th>\n",
       "    </tr>\n",
       "  </thead>\n",
       "  <tbody>\n",
       "    <tr>\n",
       "      <th>0</th>\n",
       "      <td>ts300399</td>\n",
       "      <td>Five Came Back: The Reference Films</td>\n",
       "      <td>SHOW</td>\n",
       "      <td>This collection includes 12 World War II-era p...</td>\n",
       "      <td>1945</td>\n",
       "      <td>TV-MA</td>\n",
       "      <td>48</td>\n",
       "      <td>['documentation']</td>\n",
       "      <td>['US']</td>\n",
       "      <td>1.0</td>\n",
       "      <td>NaN</td>\n",
       "      <td>NaN</td>\n",
       "      <td>NaN</td>\n",
       "      <td>0.600</td>\n",
       "      <td>NaN</td>\n",
       "    </tr>\n",
       "    <tr>\n",
       "      <th>1</th>\n",
       "      <td>tm84618</td>\n",
       "      <td>Taxi Driver</td>\n",
       "      <td>MOVIE</td>\n",
       "      <td>A mentally unstable Vietnam War veteran works ...</td>\n",
       "      <td>1976</td>\n",
       "      <td>R</td>\n",
       "      <td>113</td>\n",
       "      <td>['crime', 'drama']</td>\n",
       "      <td>['US']</td>\n",
       "      <td>NaN</td>\n",
       "      <td>tt0075314</td>\n",
       "      <td>8.3</td>\n",
       "      <td>795222.0</td>\n",
       "      <td>27.612</td>\n",
       "      <td>8.2</td>\n",
       "    </tr>\n",
       "  </tbody>\n",
       "</table>\n",
       "</div>"
      ],
      "text/plain": [
       "         id                                title   type  \\\n",
       "0  ts300399  Five Came Back: The Reference Films   SHOW   \n",
       "1   tm84618                          Taxi Driver  MOVIE   \n",
       "\n",
       "                                         description  release_year  \\\n",
       "0  This collection includes 12 World War II-era p...          1945   \n",
       "1  A mentally unstable Vietnam War veteran works ...          1976   \n",
       "\n",
       "  age_certification  runtime              genres production_countries  \\\n",
       "0             TV-MA       48   ['documentation']               ['US']   \n",
       "1                 R      113  ['crime', 'drama']               ['US']   \n",
       "\n",
       "   seasons    imdb_id  imdb_score  imdb_votes  tmdb_popularity  tmdb_score  \n",
       "0      1.0        NaN         NaN         NaN            0.600         NaN  \n",
       "1      NaN  tt0075314         8.3    795222.0           27.612         8.2  "
      ]
     },
     "execution_count": 16,
     "metadata": {},
     "output_type": "execute_result"
    }
   ],
   "source": [
    "titles = pd.read_csv('titles.csv')\n",
    "titles.head(2)"
   ]
  },
  {
   "cell_type": "code",
   "execution_count": 17,
   "id": "611b9fe8-372c-4721-8272-f7cf4b5e48d9",
   "metadata": {},
   "outputs": [
    {
     "data": {
      "text/plain": [
       "(5806, 15)"
      ]
     },
     "execution_count": 17,
     "metadata": {},
     "output_type": "execute_result"
    }
   ],
   "source": [
    "titles.shape"
   ]
  },
  {
   "cell_type": "code",
   "execution_count": 18,
   "id": "edd91b96-a487-445d-a7f0-0d0541d1842d",
   "metadata": {},
   "outputs": [
    {
     "data": {
      "text/html": [
       "<div>\n",
       "<style scoped>\n",
       "    .dataframe tbody tr th:only-of-type {\n",
       "        vertical-align: middle;\n",
       "    }\n",
       "\n",
       "    .dataframe tbody tr th {\n",
       "        vertical-align: top;\n",
       "    }\n",
       "\n",
       "    .dataframe thead th {\n",
       "        text-align: right;\n",
       "    }\n",
       "</style>\n",
       "<table border=\"1\" class=\"dataframe\">\n",
       "  <thead>\n",
       "    <tr style=\"text-align: right;\">\n",
       "      <th></th>\n",
       "      <th>person_id</th>\n",
       "      <th>id</th>\n",
       "      <th>name</th>\n",
       "      <th>character</th>\n",
       "      <th>role</th>\n",
       "    </tr>\n",
       "  </thead>\n",
       "  <tbody>\n",
       "    <tr>\n",
       "      <th>0</th>\n",
       "      <td>3748</td>\n",
       "      <td>tm84618</td>\n",
       "      <td>Robert De Niro</td>\n",
       "      <td>Travis Bickle</td>\n",
       "      <td>ACTOR</td>\n",
       "    </tr>\n",
       "    <tr>\n",
       "      <th>1</th>\n",
       "      <td>14658</td>\n",
       "      <td>tm84618</td>\n",
       "      <td>Jodie Foster</td>\n",
       "      <td>Iris Steensma</td>\n",
       "      <td>ACTOR</td>\n",
       "    </tr>\n",
       "    <tr>\n",
       "      <th>2</th>\n",
       "      <td>7064</td>\n",
       "      <td>tm84618</td>\n",
       "      <td>Albert Brooks</td>\n",
       "      <td>Tom</td>\n",
       "      <td>ACTOR</td>\n",
       "    </tr>\n",
       "    <tr>\n",
       "      <th>3</th>\n",
       "      <td>3739</td>\n",
       "      <td>tm84618</td>\n",
       "      <td>Harvey Keitel</td>\n",
       "      <td>Matthew 'Sport' Higgins</td>\n",
       "      <td>ACTOR</td>\n",
       "    </tr>\n",
       "    <tr>\n",
       "      <th>4</th>\n",
       "      <td>48933</td>\n",
       "      <td>tm84618</td>\n",
       "      <td>Cybill Shepherd</td>\n",
       "      <td>Betsy</td>\n",
       "      <td>ACTOR</td>\n",
       "    </tr>\n",
       "  </tbody>\n",
       "</table>\n",
       "</div>"
      ],
      "text/plain": [
       "   person_id       id             name                character   role\n",
       "0       3748  tm84618   Robert De Niro            Travis Bickle  ACTOR\n",
       "1      14658  tm84618     Jodie Foster            Iris Steensma  ACTOR\n",
       "2       7064  tm84618    Albert Brooks                      Tom  ACTOR\n",
       "3       3739  tm84618    Harvey Keitel  Matthew 'Sport' Higgins  ACTOR\n",
       "4      48933  tm84618  Cybill Shepherd                    Betsy  ACTOR"
      ]
     },
     "execution_count": 18,
     "metadata": {},
     "output_type": "execute_result"
    }
   ],
   "source": [
    "credits = pd.read_csv('credits.csv')\n",
    "credits.head(5)"
   ]
  },
  {
   "cell_type": "code",
   "execution_count": 19,
   "id": "fc4f0ca2-c632-44f1-9162-2b3ef9c3de29",
   "metadata": {},
   "outputs": [
    {
     "data": {
      "text/plain": [
       "(77213, 5)"
      ]
     },
     "execution_count": 19,
     "metadata": {},
     "output_type": "execute_result"
    }
   ],
   "source": [
    "credits.shape"
   ]
  },
  {
   "cell_type": "code",
   "execution_count": 20,
   "id": "b3406686-1ca5-4f3d-a498-403a964088fe",
   "metadata": {},
   "outputs": [
    {
     "name": "stdout",
     "output_type": "stream",
     "text": [
      "<class 'pandas.core.frame.DataFrame'>\n",
      "RangeIndex: 5806 entries, 0 to 5805\n",
      "Data columns (total 15 columns):\n",
      " #   Column                Non-Null Count  Dtype  \n",
      "---  ------                --------------  -----  \n",
      " 0   id                    5806 non-null   object \n",
      " 1   title                 5805 non-null   object \n",
      " 2   type                  5806 non-null   object \n",
      " 3   description           5788 non-null   object \n",
      " 4   release_year          5806 non-null   int64  \n",
      " 5   age_certification     3196 non-null   object \n",
      " 6   runtime               5806 non-null   int64  \n",
      " 7   genres                5806 non-null   object \n",
      " 8   production_countries  5806 non-null   object \n",
      " 9   seasons               2047 non-null   float64\n",
      " 10  imdb_id               5362 non-null   object \n",
      " 11  imdb_score            5283 non-null   float64\n",
      " 12  imdb_votes            5267 non-null   float64\n",
      " 13  tmdb_popularity       5712 non-null   float64\n",
      " 14  tmdb_score            5488 non-null   float64\n",
      "dtypes: float64(5), int64(2), object(8)\n",
      "memory usage: 680.5+ KB\n"
     ]
    }
   ],
   "source": [
    "titles.info()"
   ]
  },
  {
   "cell_type": "code",
   "execution_count": 21,
   "id": "bede8c6c-94c0-40ad-97f1-1684709999c5",
   "metadata": {},
   "outputs": [],
   "source": [
    "# lets merge both files\n",
    "merged = pd.merge(titles, credits, left_on = 'id', right_on = 'id', how ='inner' )"
   ]
  },
  {
   "cell_type": "code",
   "execution_count": 22,
   "id": "e76bcf15-827d-45bb-a26e-9048750010d2",
   "metadata": {},
   "outputs": [
    {
     "data": {
      "text/html": [
       "<div>\n",
       "<style scoped>\n",
       "    .dataframe tbody tr th:only-of-type {\n",
       "        vertical-align: middle;\n",
       "    }\n",
       "\n",
       "    .dataframe tbody tr th {\n",
       "        vertical-align: top;\n",
       "    }\n",
       "\n",
       "    .dataframe thead th {\n",
       "        text-align: right;\n",
       "    }\n",
       "</style>\n",
       "<table border=\"1\" class=\"dataframe\">\n",
       "  <thead>\n",
       "    <tr style=\"text-align: right;\">\n",
       "      <th></th>\n",
       "      <th>id</th>\n",
       "      <th>title</th>\n",
       "      <th>type</th>\n",
       "      <th>description</th>\n",
       "      <th>release_year</th>\n",
       "      <th>age_certification</th>\n",
       "      <th>runtime</th>\n",
       "      <th>genres</th>\n",
       "      <th>production_countries</th>\n",
       "      <th>seasons</th>\n",
       "      <th>imdb_id</th>\n",
       "      <th>imdb_score</th>\n",
       "      <th>imdb_votes</th>\n",
       "      <th>tmdb_popularity</th>\n",
       "      <th>tmdb_score</th>\n",
       "      <th>person_id</th>\n",
       "      <th>name</th>\n",
       "      <th>character</th>\n",
       "      <th>role</th>\n",
       "    </tr>\n",
       "  </thead>\n",
       "  <tbody>\n",
       "    <tr>\n",
       "      <th>0</th>\n",
       "      <td>tm84618</td>\n",
       "      <td>Taxi Driver</td>\n",
       "      <td>MOVIE</td>\n",
       "      <td>A mentally unstable Vietnam War veteran works ...</td>\n",
       "      <td>1976</td>\n",
       "      <td>R</td>\n",
       "      <td>113</td>\n",
       "      <td>['crime', 'drama']</td>\n",
       "      <td>['US']</td>\n",
       "      <td>NaN</td>\n",
       "      <td>tt0075314</td>\n",
       "      <td>8.3</td>\n",
       "      <td>795222.0</td>\n",
       "      <td>27.612</td>\n",
       "      <td>8.2</td>\n",
       "      <td>3748</td>\n",
       "      <td>Robert De Niro</td>\n",
       "      <td>Travis Bickle</td>\n",
       "      <td>ACTOR</td>\n",
       "    </tr>\n",
       "    <tr>\n",
       "      <th>1</th>\n",
       "      <td>tm84618</td>\n",
       "      <td>Taxi Driver</td>\n",
       "      <td>MOVIE</td>\n",
       "      <td>A mentally unstable Vietnam War veteran works ...</td>\n",
       "      <td>1976</td>\n",
       "      <td>R</td>\n",
       "      <td>113</td>\n",
       "      <td>['crime', 'drama']</td>\n",
       "      <td>['US']</td>\n",
       "      <td>NaN</td>\n",
       "      <td>tt0075314</td>\n",
       "      <td>8.3</td>\n",
       "      <td>795222.0</td>\n",
       "      <td>27.612</td>\n",
       "      <td>8.2</td>\n",
       "      <td>14658</td>\n",
       "      <td>Jodie Foster</td>\n",
       "      <td>Iris Steensma</td>\n",
       "      <td>ACTOR</td>\n",
       "    </tr>\n",
       "  </tbody>\n",
       "</table>\n",
       "</div>"
      ],
      "text/plain": [
       "        id        title   type  \\\n",
       "0  tm84618  Taxi Driver  MOVIE   \n",
       "1  tm84618  Taxi Driver  MOVIE   \n",
       "\n",
       "                                         description  release_year  \\\n",
       "0  A mentally unstable Vietnam War veteran works ...          1976   \n",
       "1  A mentally unstable Vietnam War veteran works ...          1976   \n",
       "\n",
       "  age_certification  runtime              genres production_countries  \\\n",
       "0                 R      113  ['crime', 'drama']               ['US']   \n",
       "1                 R      113  ['crime', 'drama']               ['US']   \n",
       "\n",
       "   seasons    imdb_id  imdb_score  imdb_votes  tmdb_popularity  tmdb_score  \\\n",
       "0      NaN  tt0075314         8.3    795222.0           27.612         8.2   \n",
       "1      NaN  tt0075314         8.3    795222.0           27.612         8.2   \n",
       "\n",
       "   person_id            name      character   role  \n",
       "0       3748  Robert De Niro  Travis Bickle  ACTOR  \n",
       "1      14658    Jodie Foster  Iris Steensma  ACTOR  "
      ]
     },
     "execution_count": 22,
     "metadata": {},
     "output_type": "execute_result"
    }
   ],
   "source": [
    "merged.head(2)"
   ]
  },
  {
   "cell_type": "code",
   "execution_count": 23,
   "id": "df4f22e0-2034-44e0-a8ce-01994133b0f9",
   "metadata": {},
   "outputs": [
    {
     "name": "stdout",
     "output_type": "stream",
     "text": [
      "<class 'pandas.core.frame.DataFrame'>\n",
      "Int64Index: 77213 entries, 0 to 77212\n",
      "Data columns (total 19 columns):\n",
      " #   Column                Non-Null Count  Dtype  \n",
      "---  ------                --------------  -----  \n",
      " 0   id                    77213 non-null  object \n",
      " 1   title                 77212 non-null  object \n",
      " 2   type                  77213 non-null  object \n",
      " 3   description           77160 non-null  object \n",
      " 4   release_year          77213 non-null  int64  \n",
      " 5   age_certification     46595 non-null  object \n",
      " 6   runtime               77213 non-null  int64  \n",
      " 7   genres                77213 non-null  object \n",
      " 8   production_countries  77213 non-null  object \n",
      " 9   seasons               13976 non-null  float64\n",
      " 10  imdb_id               73388 non-null  object \n",
      " 11  imdb_score            72937 non-null  float64\n",
      " 12  imdb_votes            72850 non-null  float64\n",
      " 13  tmdb_popularity       77202 non-null  float64\n",
      " 14  tmdb_score            76093 non-null  float64\n",
      " 15  person_id             77213 non-null  int64  \n",
      " 16  name                  77213 non-null  object \n",
      " 17  character             67586 non-null  object \n",
      " 18  role                  77213 non-null  object \n",
      "dtypes: float64(5), int64(3), object(11)\n",
      "memory usage: 11.8+ MB\n"
     ]
    }
   ],
   "source": [
    "merged.info()"
   ]
  },
  {
   "cell_type": "code",
   "execution_count": 24,
   "id": "04162cc4-ea55-4db7-b2fe-68cb3af7e5a9",
   "metadata": {},
   "outputs": [
    {
     "data": {
      "text/plain": [
       "(77213, 19)"
      ]
     },
     "execution_count": 24,
     "metadata": {},
     "output_type": "execute_result"
    }
   ],
   "source": [
    "merged.shape"
   ]
  },
  {
   "cell_type": "code",
   "execution_count": 25,
   "id": "ac23ed50-de7a-4b07-9d93-d44d88e24188",
   "metadata": {},
   "outputs": [
    {
     "data": {
      "text/html": [
       "<div>\n",
       "<style scoped>\n",
       "    .dataframe tbody tr th:only-of-type {\n",
       "        vertical-align: middle;\n",
       "    }\n",
       "\n",
       "    .dataframe tbody tr th {\n",
       "        vertical-align: top;\n",
       "    }\n",
       "\n",
       "    .dataframe thead th {\n",
       "        text-align: right;\n",
       "    }\n",
       "</style>\n",
       "<table border=\"1\" class=\"dataframe\">\n",
       "  <thead>\n",
       "    <tr style=\"text-align: right;\">\n",
       "      <th></th>\n",
       "      <th>release_year</th>\n",
       "      <th>runtime</th>\n",
       "      <th>seasons</th>\n",
       "      <th>imdb_score</th>\n",
       "      <th>imdb_votes</th>\n",
       "      <th>tmdb_popularity</th>\n",
       "      <th>tmdb_score</th>\n",
       "      <th>person_id</th>\n",
       "    </tr>\n",
       "  </thead>\n",
       "  <tbody>\n",
       "    <tr>\n",
       "      <th>release_year</th>\n",
       "      <td>1.000000</td>\n",
       "      <td>-0.217585</td>\n",
       "      <td>-0.545062</td>\n",
       "      <td>-0.145228</td>\n",
       "      <td>-0.267392</td>\n",
       "      <td>0.065736</td>\n",
       "      <td>0.014113</td>\n",
       "      <td>0.200378</td>\n",
       "    </tr>\n",
       "    <tr>\n",
       "      <th>runtime</th>\n",
       "      <td>-0.217585</td>\n",
       "      <td>1.000000</td>\n",
       "      <td>-0.193556</td>\n",
       "      <td>-0.028351</td>\n",
       "      <td>0.247052</td>\n",
       "      <td>-0.040442</td>\n",
       "      <td>-0.170430</td>\n",
       "      <td>-0.024206</td>\n",
       "    </tr>\n",
       "    <tr>\n",
       "      <th>seasons</th>\n",
       "      <td>-0.545062</td>\n",
       "      <td>-0.193556</td>\n",
       "      <td>1.000000</td>\n",
       "      <td>0.076199</td>\n",
       "      <td>0.292985</td>\n",
       "      <td>0.332364</td>\n",
       "      <td>0.020111</td>\n",
       "      <td>-0.142583</td>\n",
       "    </tr>\n",
       "    <tr>\n",
       "      <th>imdb_score</th>\n",
       "      <td>-0.145228</td>\n",
       "      <td>-0.028351</td>\n",
       "      <td>0.076199</td>\n",
       "      <td>1.000000</td>\n",
       "      <td>0.287113</td>\n",
       "      <td>-0.018115</td>\n",
       "      <td>0.691457</td>\n",
       "      <td>-0.058152</td>\n",
       "    </tr>\n",
       "    <tr>\n",
       "      <th>imdb_votes</th>\n",
       "      <td>-0.267392</td>\n",
       "      <td>0.247052</td>\n",
       "      <td>0.292985</td>\n",
       "      <td>0.287113</td>\n",
       "      <td>1.000000</td>\n",
       "      <td>0.124180</td>\n",
       "      <td>0.190637</td>\n",
       "      <td>-0.107475</td>\n",
       "    </tr>\n",
       "    <tr>\n",
       "      <th>tmdb_popularity</th>\n",
       "      <td>0.065736</td>\n",
       "      <td>-0.040442</td>\n",
       "      <td>0.332364</td>\n",
       "      <td>-0.018115</td>\n",
       "      <td>0.124180</td>\n",
       "      <td>1.000000</td>\n",
       "      <td>0.068105</td>\n",
       "      <td>0.016325</td>\n",
       "    </tr>\n",
       "    <tr>\n",
       "      <th>tmdb_score</th>\n",
       "      <td>0.014113</td>\n",
       "      <td>-0.170430</td>\n",
       "      <td>0.020111</td>\n",
       "      <td>0.691457</td>\n",
       "      <td>0.190637</td>\n",
       "      <td>0.068105</td>\n",
       "      <td>1.000000</td>\n",
       "      <td>0.032310</td>\n",
       "    </tr>\n",
       "    <tr>\n",
       "      <th>person_id</th>\n",
       "      <td>0.200378</td>\n",
       "      <td>-0.024206</td>\n",
       "      <td>-0.142583</td>\n",
       "      <td>-0.058152</td>\n",
       "      <td>-0.107475</td>\n",
       "      <td>0.016325</td>\n",
       "      <td>0.032310</td>\n",
       "      <td>1.000000</td>\n",
       "    </tr>\n",
       "  </tbody>\n",
       "</table>\n",
       "</div>"
      ],
      "text/plain": [
       "                 release_year   runtime   seasons  imdb_score  imdb_votes  \\\n",
       "release_year         1.000000 -0.217585 -0.545062   -0.145228   -0.267392   \n",
       "runtime             -0.217585  1.000000 -0.193556   -0.028351    0.247052   \n",
       "seasons             -0.545062 -0.193556  1.000000    0.076199    0.292985   \n",
       "imdb_score          -0.145228 -0.028351  0.076199    1.000000    0.287113   \n",
       "imdb_votes          -0.267392  0.247052  0.292985    0.287113    1.000000   \n",
       "tmdb_popularity      0.065736 -0.040442  0.332364   -0.018115    0.124180   \n",
       "tmdb_score           0.014113 -0.170430  0.020111    0.691457    0.190637   \n",
       "person_id            0.200378 -0.024206 -0.142583   -0.058152   -0.107475   \n",
       "\n",
       "                 tmdb_popularity  tmdb_score  person_id  \n",
       "release_year            0.065736    0.014113   0.200378  \n",
       "runtime                -0.040442   -0.170430  -0.024206  \n",
       "seasons                 0.332364    0.020111  -0.142583  \n",
       "imdb_score             -0.018115    0.691457  -0.058152  \n",
       "imdb_votes              0.124180    0.190637  -0.107475  \n",
       "tmdb_popularity         1.000000    0.068105   0.016325  \n",
       "tmdb_score              0.068105    1.000000   0.032310  \n",
       "person_id               0.016325    0.032310   1.000000  "
      ]
     },
     "execution_count": 25,
     "metadata": {},
     "output_type": "execute_result"
    }
   ],
   "source": [
    "merged.corr()"
   ]
  },
  {
   "cell_type": "code",
   "execution_count": 26,
   "id": "c8d92a54-73af-4d8c-ab8a-65db839b38b1",
   "metadata": {},
   "outputs": [
    {
     "data": {
      "text/plain": [
       "<AxesSubplot:>"
      ]
     },
     "execution_count": 26,
     "metadata": {},
     "output_type": "execute_result"
    },
    {
     "data": {
      "image/png": "[encoded data removed]",
      "text/plain": [
       "<Figure size 720x360 with 2 Axes>"
      ]
     },
     "metadata": {
      "needs_background": "light"
     },
     "output_type": "display_data"
    }
   ],
   "source": [
    "fig,ax = plt.subplots( figsize = (10,5))\n",
    "sns.heatmap(merged.corr(), annot = True)"
   ]
  },
  {
   "cell_type": "code",
   "execution_count": 27,
   "id": "7ad9679f-25c2-41d6-8c61-9b0091912854",
   "metadata": {},
   "outputs": [
    {
     "data": {
      "text/plain": [
       "id                          0\n",
       "title                       1\n",
       "type                        0\n",
       "description                53\n",
       "release_year                0\n",
       "age_certification       30618\n",
       "runtime                     0\n",
       "genres                      0\n",
       "production_countries        0\n",
       "seasons                 63237\n",
       "imdb_id                  3825\n",
       "imdb_score               4276\n",
       "imdb_votes               4363\n",
       "tmdb_popularity            11\n",
       "tmdb_score               1120\n",
       "person_id                   0\n",
       "name                        0\n",
       "character                9627\n",
       "role                        0\n",
       "dtype: int64"
      ]
     },
     "execution_count": 27,
     "metadata": {},
     "output_type": "execute_result"
    }
   ],
   "source": [
    "merged.isna().sum()"
   ]
  },
  {
   "cell_type": "code",
   "execution_count": 36,
   "id": "a3df7299-42d2-4b8f-aafb-03a430b1db5f",
   "metadata": {},
   "outputs": [
    {
     "data": {
      "text/plain": [
       "0                [-'-c-r-i-m-e-'-,- -'-d-r-a-m-a-'-]\n",
       "1                [-'-c-r-i-m-e-'-,- -'-d-r-a-m-a-'-]\n",
       "2                [-'-c-r-i-m-e-'-,- -'-d-r-a-m-a-'-]\n",
       "3                [-'-c-r-i-m-e-'-,- -'-d-r-a-m-a-'-]\n",
       "4                [-'-c-r-i-m-e-'-,- -'-d-r-a-m-a-'-]\n",
       "                            ...                     \n",
       "77208    [-'-a-c-t-i-o-n-'-,- -'-t-h-r-i-l-l-e-r-'-]\n",
       "77209    [-'-a-c-t-i-o-n-'-,- -'-t-h-r-i-l-l-e-r-'-]\n",
       "77210    [-'-a-c-t-i-o-n-'-,- -'-t-h-r-i-l-l-e-r-'-]\n",
       "77211    [-'-a-c-t-i-o-n-'-,- -'-t-h-r-i-l-l-e-r-'-]\n",
       "77212    [-'-a-c-t-i-o-n-'-,- -'-t-h-r-i-l-l-e-r-'-]\n",
       "Name: genres, Length: 77213, dtype: object"
      ]
     },
     "execution_count": 36,
     "metadata": {},
     "output_type": "execute_result"
    }
   ],
   "source": [
    "merged.genres.str.join('')"
   ]
  },
  {
   "cell_type": "code",
   "execution_count": null,
   "id": "42a5822e-bf88-4b2a-a2f6-c96c5fd8683e",
   "metadata": {},
   "outputs": [],
   "source": []
  }
 ],
 "metadata": {
  "kernelspec": {
   "display_name": "Python 3",
   "language": "python",
   "name": "python3"
  },
  "language_info": {
   "codemirror_mode": {
    "name": "ipython",
    "version": 3
   },
   "file_extension": ".py",
   "mimetype": "text/x-python",
   "name": "python",
   "nbconvert_exporter": "python",
   "pygments_lexer": "ipython3",
   "version": "3.8.8"
  },
  "toc-autonumbering": false
 },
 "nbformat": 4,
 "nbformat_minor": 5
}
