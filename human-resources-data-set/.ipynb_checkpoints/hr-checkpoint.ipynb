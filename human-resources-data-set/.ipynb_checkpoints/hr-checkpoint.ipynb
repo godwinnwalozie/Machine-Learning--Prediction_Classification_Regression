{
 "cells": [
  {
   "cell_type": "markdown",
   "id": "f46704f1-a85f-4012-992f-521e6ec63dd1",
   "metadata": {},
   "source": [
    "# **Human Resources Data Set**"
   ]
  },
  {
   "cell_type": "markdown",
   "id": "6d9b8516-838e-41dc-923a-29cbd19d6fa6",
   "metadata": {},
   "source": [
    "https://www.kaggle.com/datasets/rhuebner/human-resources-data-set\n",
    "\n",
    "We have reduced the complexity of the dataset down to a single data file (v14). The CSV revolves around a fictitious company and the core data set contains names, DOBs, age, gender, marital status, date of hire, reasons for termination, department, whether they are active or terminated, position title, pay rate, manager name, and performance score.\n",
    "\n",
    "Recent additions to the data include:\n",
    "\n",
    "    Absences\n",
    "    Most Recent Performance Review Date\n",
    "    Employee Engagement Score\n",
    "\n",
    "    \n",
    "Inspiration\n",
    "\n",
    "We've included some open-ended questions that you can explore and try to address through \n",
    "creating Tableau visualizations, or R or Python analyses. Good luck and enjoy the learning!\n",
    "\n",
    "    Is there any relationship between who a person works for and their performance score?\n",
    "    What is the overall diversity profile of the organization?\n",
    "    What are our best recruiting sources if we want to ensure a diverse organization?\n",
    "    Can we predict who is going to terminate and who isn't? What level of accuracy can we achieve on this?\n",
    "    Are there areas of the company where pay is not equitable?\n",
    "\n",
    "There are so many other interesting questions that could be addressed through this interesting data \n",
    "set. Dr. Patalano and I look forward to seeing what we can come up with.\n",
    "\n",
    "If you have any questions or comments about the dataset, please do not hesitate to reach out to me on LinkedIn:"
   ]
  },
  {
   "cell_type": "code",
   "execution_count": null,
   "id": "a891c54f-d827-4173-9f7e-d09a631cd9a4",
   "metadata": {},
   "outputs": [],
   "source": []
  }
 ],
 "metadata": {
  "kernelspec": {
   "display_name": "Python 3 (ipykernel)",
   "language": "python",
   "name": "python3"
  },
  "language_info": {
   "codemirror_mode": {
    "name": "ipython",
    "version": 3
   },
   "file_extension": ".py",
   "mimetype": "text/x-python",
   "name": "python",
   "nbconvert_exporter": "python",
   "pygments_lexer": "ipython3",
   "version": "3.8.8"
  }
 },
 "nbformat": 4,
 "nbformat_minor": 5
}
