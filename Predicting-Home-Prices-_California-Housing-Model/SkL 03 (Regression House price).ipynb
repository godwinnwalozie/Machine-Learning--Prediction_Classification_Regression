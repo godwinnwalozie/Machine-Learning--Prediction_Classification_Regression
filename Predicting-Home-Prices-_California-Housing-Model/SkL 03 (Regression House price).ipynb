{
 "cells": [
  {
   "cell_type": "code",
   "execution_count": 1,
   "id": "3c255181-34fe-41f1-abb0-bd75cd102558",
   "metadata": {},
   "outputs": [],
   "source": [
    "import pandas as pd\n",
    "import numpy as np\n",
    "import matplotlib.pyplot as plt\n",
    "import seaborn as sns\n",
    "from dateutil import parser\n",
    "import opendatasets as od\n",
    "from datetime import datetime, date, time\n",
    "from matplotlib.image import imread\n",
    "%matplotlib inline"
   ]
  },
  {
   "cell_type": "markdown",
   "id": "90704432-c057-4bf4-b643-af4fd4fec688",
   "metadata": {},
   "source": [
    "###  **How to determine what model to use = Sample dataset from sklearn website**"
   ]
  },
  {
   "cell_type": "markdown",
   "id": "863df491-304a-449c-a898-89644836e2ee",
   "metadata": {},
   "source": [
    "### Importing California housing dataset from  https://scikit-learn.org/stable/modules/generated/sklearn.datasets.fetch_california_housing.html#sklearn.datasets.fetch_california_housing"
   ]
  },
  {
   "cell_type": "code",
   "execution_count": 2,
   "id": "87c2ede3-544d-442d-8a89-1b028f293493",
   "metadata": {},
   "outputs": [
    {
     "data": {
      "text/plain": [
       "{'data': array([[   8.3252    ,   41.        ,    6.98412698, ...,    2.55555556,\n",
       "           37.88      , -122.23      ],\n",
       "        [   8.3014    ,   21.        ,    6.23813708, ...,    2.10984183,\n",
       "           37.86      , -122.22      ],\n",
       "        [   7.2574    ,   52.        ,    8.28813559, ...,    2.80225989,\n",
       "           37.85      , -122.24      ],\n",
       "        ...,\n",
       "        [   1.7       ,   17.        ,    5.20554273, ...,    2.3256351 ,\n",
       "           39.43      , -121.22      ],\n",
       "        [   1.8672    ,   18.        ,    5.32951289, ...,    2.12320917,\n",
       "           39.43      , -121.32      ],\n",
       "        [   2.3886    ,   16.        ,    5.25471698, ...,    2.61698113,\n",
       "           39.37      , -121.24      ]]),\n",
       " 'target': array([4.526, 3.585, 3.521, ..., 0.923, 0.847, 0.894]),\n",
       " 'frame': None,\n",
       " 'target_names': ['MedHouseVal'],\n",
       " 'feature_names': ['MedInc',\n",
       "  'HouseAge',\n",
       "  'AveRooms',\n",
       "  'AveBedrms',\n",
       "  'Population',\n",
       "  'AveOccup',\n",
       "  'Latitude',\n",
       "  'Longitude'],\n",
       " 'DESCR': '.. _california_housing_dataset:\\n\\nCalifornia Housing dataset\\n--------------------------\\n\\n**Data Set Characteristics:**\\n\\n    :Number of Instances: 20640\\n\\n    :Number of Attributes: 8 numeric, predictive attributes and the target\\n\\n    :Attribute Information:\\n        - MedInc        median income in block group\\n        - HouseAge      median house age in block group\\n        - AveRooms      average number of rooms per household\\n        - AveBedrms     average number of bedrooms per household\\n        - Population    block group population\\n        - AveOccup      average number of household members\\n        - Latitude      block group latitude\\n        - Longitude     block group longitude\\n\\n    :Missing Attribute Values: None\\n\\nThis dataset was obtained from the StatLib repository.\\nhttps://www.dcc.fc.up.pt/~ltorgo/Regression/cal_housing.html\\n\\nThe target variable is the median house value for California districts,\\nexpressed in hundreds of thousands of dollars ($100,000).\\n\\nThis dataset was derived from the 1990 U.S. census, using one row per census\\nblock group. A block group is the smallest geographical unit for which the U.S.\\nCensus Bureau publishes sample data (a block group typically has a population\\nof 600 to 3,000 people).\\n\\nAn household is a group of people residing within a home. Since the average\\nnumber of rooms and bedrooms in this dataset are provided per household, these\\ncolumns may take surpinsingly large values for block groups with few households\\nand many empty houses, such as vacation resorts.\\n\\nIt can be downloaded/loaded using the\\n:func:`sklearn.datasets.fetch_california_housing` function.\\n\\n.. topic:: References\\n\\n    - Pace, R. Kelley and Ronald Barry, Sparse Spatial Autoregressions,\\n      Statistics and Probability Letters, 33 (1997) 291-297\\n'}"
      ]
     },
     "execution_count": 2,
     "metadata": {},
     "output_type": "execute_result"
    }
   ],
   "source": [
    "# get california housing dataset\n",
    "from sklearn.datasets import fetch_california_housing\n",
    "housing = fetch_california_housing()\n",
    "housing"
   ]
  },
  {
   "cell_type": "code",
   "execution_count": 3,
   "id": "1749d858-355c-4b67-b0c7-86864189c699",
   "metadata": {},
   "outputs": [
    {
     "data": {
      "text/html": [
       "<div>\n",
       "<style scoped>\n",
       "    .dataframe tbody tr th:only-of-type {\n",
       "        vertical-align: middle;\n",
       "    }\n",
       "\n",
       "    .dataframe tbody tr th {\n",
       "        vertical-align: top;\n",
       "    }\n",
       "\n",
       "    .dataframe thead th {\n",
       "        text-align: right;\n",
       "    }\n",
       "</style>\n",
       "<table border=\"1\" class=\"dataframe\">\n",
       "  <thead>\n",
       "    <tr style=\"text-align: right;\">\n",
       "      <th></th>\n",
       "      <th>MedInc</th>\n",
       "      <th>HouseAge</th>\n",
       "      <th>AveRooms</th>\n",
       "      <th>AveBedrms</th>\n",
       "      <th>Population</th>\n",
       "      <th>AveOccup</th>\n",
       "      <th>Latitude</th>\n",
       "      <th>Longitude</th>\n",
       "    </tr>\n",
       "  </thead>\n",
       "  <tbody>\n",
       "    <tr>\n",
       "      <th>0</th>\n",
       "      <td>8.3252</td>\n",
       "      <td>41.0</td>\n",
       "      <td>6.984127</td>\n",
       "      <td>1.023810</td>\n",
       "      <td>322.0</td>\n",
       "      <td>2.555556</td>\n",
       "      <td>37.88</td>\n",
       "      <td>-122.23</td>\n",
       "    </tr>\n",
       "    <tr>\n",
       "      <th>1</th>\n",
       "      <td>8.3014</td>\n",
       "      <td>21.0</td>\n",
       "      <td>6.238137</td>\n",
       "      <td>0.971880</td>\n",
       "      <td>2401.0</td>\n",
       "      <td>2.109842</td>\n",
       "      <td>37.86</td>\n",
       "      <td>-122.22</td>\n",
       "    </tr>\n",
       "    <tr>\n",
       "      <th>2</th>\n",
       "      <td>7.2574</td>\n",
       "      <td>52.0</td>\n",
       "      <td>8.288136</td>\n",
       "      <td>1.073446</td>\n",
       "      <td>496.0</td>\n",
       "      <td>2.802260</td>\n",
       "      <td>37.85</td>\n",
       "      <td>-122.24</td>\n",
       "    </tr>\n",
       "    <tr>\n",
       "      <th>3</th>\n",
       "      <td>5.6431</td>\n",
       "      <td>52.0</td>\n",
       "      <td>5.817352</td>\n",
       "      <td>1.073059</td>\n",
       "      <td>558.0</td>\n",
       "      <td>2.547945</td>\n",
       "      <td>37.85</td>\n",
       "      <td>-122.25</td>\n",
       "    </tr>\n",
       "    <tr>\n",
       "      <th>4</th>\n",
       "      <td>3.8462</td>\n",
       "      <td>52.0</td>\n",
       "      <td>6.281853</td>\n",
       "      <td>1.081081</td>\n",
       "      <td>565.0</td>\n",
       "      <td>2.181467</td>\n",
       "      <td>37.85</td>\n",
       "      <td>-122.25</td>\n",
       "    </tr>\n",
       "  </tbody>\n",
       "</table>\n",
       "</div>"
      ],
      "text/plain": [
       "   MedInc  HouseAge  AveRooms  AveBedrms  Population  AveOccup  Latitude  \\\n",
       "0  8.3252      41.0  6.984127   1.023810       322.0  2.555556     37.88   \n",
       "1  8.3014      21.0  6.238137   0.971880      2401.0  2.109842     37.86   \n",
       "2  7.2574      52.0  8.288136   1.073446       496.0  2.802260     37.85   \n",
       "3  5.6431      52.0  5.817352   1.073059       558.0  2.547945     37.85   \n",
       "4  3.8462      52.0  6.281853   1.081081       565.0  2.181467     37.85   \n",
       "\n",
       "   Longitude  \n",
       "0    -122.23  \n",
       "1    -122.22  \n",
       "2    -122.24  \n",
       "3    -122.25  \n",
       "4    -122.25  "
      ]
     },
     "execution_count": 3,
     "metadata": {},
     "output_type": "execute_result"
    }
   ],
   "source": [
    "# turn it to a df\n",
    "housing_df = pd.DataFrame(housing['data'], columns =housing['feature_names'])\n",
    "housing_df.head()"
   ]
  },
  {
   "cell_type": "code",
   "execution_count": 4,
   "id": "1cc9699f-d460-4d20-93fe-2a14b852d74c",
   "metadata": {},
   "outputs": [
    {
     "data": {
      "text/html": [
       "<div>\n",
       "<style scoped>\n",
       "    .dataframe tbody tr th:only-of-type {\n",
       "        vertical-align: middle;\n",
       "    }\n",
       "\n",
       "    .dataframe tbody tr th {\n",
       "        vertical-align: top;\n",
       "    }\n",
       "\n",
       "    .dataframe thead th {\n",
       "        text-align: right;\n",
       "    }\n",
       "</style>\n",
       "<table border=\"1\" class=\"dataframe\">\n",
       "  <thead>\n",
       "    <tr style=\"text-align: right;\">\n",
       "      <th></th>\n",
       "      <th>MedInc</th>\n",
       "      <th>HouseAge</th>\n",
       "      <th>AveRooms</th>\n",
       "      <th>AveBedrms</th>\n",
       "      <th>Population</th>\n",
       "      <th>AveOccup</th>\n",
       "      <th>Latitude</th>\n",
       "      <th>Longitude</th>\n",
       "      <th>target</th>\n",
       "    </tr>\n",
       "  </thead>\n",
       "  <tbody>\n",
       "    <tr>\n",
       "      <th>0</th>\n",
       "      <td>8.3252</td>\n",
       "      <td>41.0</td>\n",
       "      <td>6.984127</td>\n",
       "      <td>1.023810</td>\n",
       "      <td>322.0</td>\n",
       "      <td>2.555556</td>\n",
       "      <td>37.88</td>\n",
       "      <td>-122.23</td>\n",
       "      <td>4.526</td>\n",
       "    </tr>\n",
       "    <tr>\n",
       "      <th>1</th>\n",
       "      <td>8.3014</td>\n",
       "      <td>21.0</td>\n",
       "      <td>6.238137</td>\n",
       "      <td>0.971880</td>\n",
       "      <td>2401.0</td>\n",
       "      <td>2.109842</td>\n",
       "      <td>37.86</td>\n",
       "      <td>-122.22</td>\n",
       "      <td>3.585</td>\n",
       "    </tr>\n",
       "    <tr>\n",
       "      <th>2</th>\n",
       "      <td>7.2574</td>\n",
       "      <td>52.0</td>\n",
       "      <td>8.288136</td>\n",
       "      <td>1.073446</td>\n",
       "      <td>496.0</td>\n",
       "      <td>2.802260</td>\n",
       "      <td>37.85</td>\n",
       "      <td>-122.24</td>\n",
       "      <td>3.521</td>\n",
       "    </tr>\n",
       "    <tr>\n",
       "      <th>3</th>\n",
       "      <td>5.6431</td>\n",
       "      <td>52.0</td>\n",
       "      <td>5.817352</td>\n",
       "      <td>1.073059</td>\n",
       "      <td>558.0</td>\n",
       "      <td>2.547945</td>\n",
       "      <td>37.85</td>\n",
       "      <td>-122.25</td>\n",
       "      <td>3.413</td>\n",
       "    </tr>\n",
       "    <tr>\n",
       "      <th>4</th>\n",
       "      <td>3.8462</td>\n",
       "      <td>52.0</td>\n",
       "      <td>6.281853</td>\n",
       "      <td>1.081081</td>\n",
       "      <td>565.0</td>\n",
       "      <td>2.181467</td>\n",
       "      <td>37.85</td>\n",
       "      <td>-122.25</td>\n",
       "      <td>3.422</td>\n",
       "    </tr>\n",
       "  </tbody>\n",
       "</table>\n",
       "</div>"
      ],
      "text/plain": [
       "   MedInc  HouseAge  AveRooms  AveBedrms  Population  AveOccup  Latitude  \\\n",
       "0  8.3252      41.0  6.984127   1.023810       322.0  2.555556     37.88   \n",
       "1  8.3014      21.0  6.238137   0.971880      2401.0  2.109842     37.86   \n",
       "2  7.2574      52.0  8.288136   1.073446       496.0  2.802260     37.85   \n",
       "3  5.6431      52.0  5.817352   1.073059       558.0  2.547945     37.85   \n",
       "4  3.8462      52.0  6.281853   1.081081       565.0  2.181467     37.85   \n",
       "\n",
       "   Longitude  target  \n",
       "0    -122.23   4.526  \n",
       "1    -122.22   3.585  \n",
       "2    -122.24   3.521  \n",
       "3    -122.25   3.413  \n",
       "4    -122.25   3.422  "
      ]
     },
     "execution_count": 4,
     "metadata": {},
     "output_type": "execute_result"
    }
   ],
   "source": [
    "housing_df['target'] = housing['target']\n",
    "housing_df.head()"
   ]
  },
  {
   "cell_type": "code",
   "execution_count": 5,
   "id": "e4da8a3a-8469-4919-baa2-51ef472fee9d",
   "metadata": {},
   "outputs": [
    {
     "data": {
      "text/plain": [
       "MedInc        0\n",
       "HouseAge      0\n",
       "AveRooms      0\n",
       "AveBedrms     0\n",
       "Population    0\n",
       "AveOccup      0\n",
       "Latitude      0\n",
       "Longitude     0\n",
       "target        0\n",
       "dtype: int64"
      ]
     },
     "execution_count": 5,
     "metadata": {},
     "output_type": "execute_result"
    }
   ],
   "source": [
    "# checking NaN values in the data set\n",
    "housing_df.isna().sum()"
   ]
  },
  {
   "cell_type": "code",
   "execution_count": 6,
   "id": "ef4ef08d-4047-47b7-bfbe-aca13d83b366",
   "metadata": {},
   "outputs": [
    {
     "name": "stdout",
     "output_type": "stream",
     "text": [
      "train score = [0.6125511245209703], and test score = [ 0.5758549611440126]\n"
     ]
    }
   ],
   "source": [
    "# import algorithm / estimator\n",
    "from sklearn.linear_model import Ridge\n",
    "\n",
    "#set random seed\n",
    "np.random.seed(42)\n",
    "\n",
    "# create the data X and y\n",
    "X= housing_df.drop('target', axis = 1)\n",
    "y = housing['target']  # the median house price in $100,000s\n",
    "\n",
    "# Train model\n",
    "from sklearn.model_selection import train_test_split\n",
    "X_train, X_test, y_train, y_test = train_test_split (X, y, test_size = 0.2)\n",
    "\n",
    "# fit the model\n",
    "model = Ridge()\n",
    "model.fit(X_train, y_train)\n",
    "\n",
    "# evaluate score\n",
    "print ( f'train score = [{model.score(X_train, y_train)}], and test score = [ {model.score(X_test, y_test)}]')"
   ]
  },
  {
   "cell_type": "markdown",
   "id": "aa0972ab-7c90-43d0-95b5-064e8183f7f1",
   "metadata": {},
   "source": [
    "# **what if Ridge didnt work or dint fit our needs?, we could try other models..**"
   ]
  },
  {
   "cell_type": "markdown",
   "id": "42aa556a-90f1-4e4d-b7ba-1e5279ef5f6c",
   "metadata": {},
   "source": [
    "# lets try ensemble regression model"
   ]
  },
  {
   "cell_type": "code",
   "execution_count": 7,
   "id": "3c507554-54ba-4bc2-9d14-eb8b25e9ceaf",
   "metadata": {},
   "outputs": [
    {
     "name": "stdout",
     "output_type": "stream",
     "text": [
      "Train score = [0.9734970506814189] \n",
      "Test score =[0.8054365101722766]\n"
     ]
    }
   ],
   "source": [
    "# import algorithm / estimator\n",
    "from sklearn.ensemble import RandomForestRegressor\n",
    "\n",
    "# create the data X and y\n",
    "X=  housing_df.drop('target', axis = 1)\n",
    "y = housing['target']  # the median house price in $100,000s\n",
    "\n",
    "# Train model\n",
    "from sklearn.model_selection import train_test_split\n",
    "X_train, X_test, y_train, y_test = train_test_split (X, y, test_size = 0.2)\n",
    "\n",
    "# fit the model (training the machine learning model)\n",
    "model = RandomForestRegressor(n_estimators = 100, n_jobs = 1, random_state = 42)\n",
    "model.fit(X_train, y_train)\n",
    "\n",
    "# evaluate score\n",
    "print(f'Train score = [{model.score(X_train, y_train)}] \\nTest score =[{model.score(X_test, y_test)}]')"
   ]
  },
  {
   "cell_type": "code",
   "execution_count": 8,
   "id": "a0ddaca1-4ae5-4108-8cdf-8a24b27995c6",
   "metadata": {},
   "outputs": [
    {
     "data": {
      "text/plain": [
       "array([0.66244  , 2.68722  , 5.00001  , 3.4963003, 2.9893002, 0.94271  ,\n",
       "       1.26244  , 1.5465   , 3.4764602, 0.84571  , 2.46224  , 3.13458  ,\n",
       "       1.12451  , 1.59883  , 1.61441  , 2.3809401, 2.78821  , 2.9550301,\n",
       "       3.1108601, 2.46785  ])"
      ]
     },
     "execution_count": 8,
     "metadata": {},
     "output_type": "execute_result"
    }
   ],
   "source": [
    "# Make predictions\n",
    "# 1. predict()    => returns single value for each prediction\n",
    "y_preds = model.predict(X_test) # always predict on X_test\n",
    "y_preds[:20]"
   ]
  },
  {
   "cell_type": "code",
   "execution_count": 9,
   "id": "b05be644-398b-4355-9b15-27ad3d7ac8c3",
   "metadata": {},
   "outputs": [
    {
     "data": {
      "text/plain": [
       "array([0.696  , 3.356  , 5.00001, 3.606  , 2.766  , 0.835  , 1.22   ,\n",
       "       1.693  , 3.153  , 0.789  , 2.182  , 3.24   , 1.292  , 1.313  ,\n",
       "       1.316  , 2.148  , 2.896  , 3.476  , 5.00001, 2.725  ])"
      ]
     },
     "execution_count": 9,
     "metadata": {},
     "output_type": "execute_result"
    }
   ],
   "source": [
    "np.array(y_test[:20])"
   ]
  },
  {
   "cell_type": "code",
   "execution_count": 10,
   "id": "e1a25482-3872-4f18-a8c7-232d97074a65",
   "metadata": {},
   "outputs": [
    {
     "data": {
      "text/plain": [
       "0.3222107616279071"
      ]
     },
     "execution_count": 10,
     "metadata": {},
     "output_type": "execute_result"
    }
   ],
   "source": [
    "# Compare predictions to truth labels to evaluate the model\n",
    "from sklearn.metrics import mean_absolute_error\n",
    "mean_absolute_error(y_test, y_preds)"
   ]
  },
  {
   "cell_type": "code",
   "execution_count": null,
   "id": "ac1614d4-66ee-4b69-943a-b1293e4f800a",
   "metadata": {},
   "outputs": [],
   "source": []
  },
  {
   "cell_type": "markdown",
   "id": "a399c581-4152-4ffd-8914-515c6f1065ec",
   "metadata": {},
   "source": [
    "## **Evaluating a Model with a Score** \n",
    "\n",
    "There are three ways of achieving this\n",
    "1. The estimator's inbuilt score() method\n",
    "2. The scoring parameter\n",
    "3. Problem - specific metric functions"
   ]
  },
  {
   "cell_type": "code",
   "execution_count": 11,
   "id": "74cc9f44-1e61-4817-96bc-772c9e77dc20",
   "metadata": {},
   "outputs": [
    {
     "name": "stdout",
     "output_type": "stream",
     "text": [
      "Training Score:0.768178011521409\n",
      "Test Score: 0.9652739672763454\n",
      "\n",
      "Classifier Cross Validation_Score: [0.50097272 0.70273041 0.74115332 0.61556377 0.68253631]\n",
      "Classifier Cross Validation_Score_Mean: 0.6481235867027331\n",
      "\n",
      "mean_absolute_error : 0.1429742775193802\n",
      "mean_squared_error : 0.04550530505976422\n"
     ]
    }
   ],
   "source": [
    "# import the prediction model\n",
    "from sklearn.ensemble import RandomForestRegressor\n",
    "\n",
    "# create seed\n",
    "np.random.seed(42)\n",
    "\n",
    "#create X and y\n",
    "X = housing_df.drop('target', axis = 1)\n",
    "y = housing_df['target']\n",
    "\n",
    "#train and split model\n",
    "from sklearn.model_selection import train_test_split\n",
    "X_train, X_test, y_train, y_test = train_test_split(X, y, test_size = 0.2)\n",
    "\n",
    "# fit the model\n",
    "model = RandomForestRegressor()\n",
    "model.fit(X_test, y_test)\n",
    "\n",
    "\n",
    "\n",
    "# Evaluation of the model\n",
    "from sklearn.metrics import classification_report, mean_absolute_error, mean_squared_error\n",
    "\n",
    "# inbuilt score \n",
    "print(f'Training Score:{model.score(X_train, y_train)}') # inbuilt accuracy score\n",
    "print(f'Test Score: {model.score(X_test, y_test)}')     # inbuilt accuracy score\n",
    "\n",
    "print()\n",
    "# cross validation score\n",
    "from sklearn.model_selection import cross_val_score\n",
    "print(f\"Classifier Cross Validation_Score: {cross_val_score(model,X,y,cv= 5)}\") # cross validation\n",
    "print(f\"Classifier Cross Validation_Score_Mean: {np.mean(cross_val_score(model,X,y,cv= 5))}\") # cross validation\n",
    "\n",
    "print()\n",
    "# Mean Absolute error\n",
    "from sklearn.metrics import mean_absolute_error\n",
    "y_pred = model.predict(X_test)\n",
    "mean_absolute_error = mean_absolute_error(y_test, y_pred)\n",
    "print(f'mean_absolute_error : {mean_absolute_error}')\n",
    "\n",
    "# Mean Squared Values\n",
    "from sklearn.metrics import mean_squared_error\n",
    "mean_squared_error = mean_squared_error(y_test, y_pred)\n",
    "print(f'mean_squared_error : {mean_squared_error}')"
   ]
  },
  {
   "cell_type": "raw",
   "id": "a57dd8c9-e2e8-4ce1-b0db-5b3adb8f0083",
   "metadata": {},
   "source": []
  }
 ],
 "metadata": {
  "kernelspec": {
   "display_name": "Python 3.8.8 ('base')",
   "language": "python",
   "name": "python3"
  },
  "language_info": {
   "codemirror_mode": {
    "name": "ipython",
    "version": 3
   },
   "file_extension": ".py",
   "mimetype": "text/x-python",
   "name": "python",
   "nbconvert_exporter": "python",
   "pygments_lexer": "ipython3",
   "version": "3.9.12"
  },
  "vscode": {
   "interpreter": {
    "hash": "04432e9cb04e2fb3149b8a5784993b7cc60c7311097686f676b8575bd3fcad92"
   }
  }
 },
 "nbformat": 4,
 "nbformat_minor": 5
}
