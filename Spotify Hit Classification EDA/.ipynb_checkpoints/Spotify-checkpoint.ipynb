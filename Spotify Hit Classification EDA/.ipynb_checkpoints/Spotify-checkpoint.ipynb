{
 "cells": [
  {
   "cell_type": "code",
   "execution_count": 22,
   "id": "3cb0b0dc-f7ed-4d99-a7b7-e74c334137ba",
   "metadata": {},
   "outputs": [],
   "source": [
    "import pandas as pd\n",
    "import numpy as np\n",
    "import matplotlib.pyplot as plt\n",
    "import seaborn as sns\n",
    "sns.set()"
   ]
  },
  {
   "cell_type": "code",
   "execution_count": 23,
   "id": "4a835fd3-5bc9-4635-9fbc-c9389b17b060",
   "metadata": {},
   "outputs": [],
   "source": [
    "songs = pd.read_csv('songs_normalize.csv')"
   ]
  },
  {
   "cell_type": "code",
   "execution_count": 24,
   "id": "7fb74072-e67f-41e9-9312-7835034170eb",
   "metadata": {},
   "outputs": [
    {
     "data": {
      "text/html": [
       "<div>\n",
       "<style scoped>\n",
       "    .dataframe tbody tr th:only-of-type {\n",
       "        vertical-align: middle;\n",
       "    }\n",
       "\n",
       "    .dataframe tbody tr th {\n",
       "        vertical-align: top;\n",
       "    }\n",
       "\n",
       "    .dataframe thead th {\n",
       "        text-align: right;\n",
       "    }\n",
       "</style>\n",
       "<table border=\"1\" class=\"dataframe\">\n",
       "  <thead>\n",
       "    <tr style=\"text-align: right;\">\n",
       "      <th></th>\n",
       "      <th>artist</th>\n",
       "      <th>song</th>\n",
       "      <th>duration_ms</th>\n",
       "      <th>explicit</th>\n",
       "      <th>year</th>\n",
       "      <th>popularity</th>\n",
       "      <th>danceability</th>\n",
       "      <th>energy</th>\n",
       "      <th>key</th>\n",
       "      <th>loudness</th>\n",
       "      <th>mode</th>\n",
       "      <th>speechiness</th>\n",
       "      <th>acousticness</th>\n",
       "      <th>instrumentalness</th>\n",
       "      <th>liveness</th>\n",
       "      <th>valence</th>\n",
       "      <th>tempo</th>\n",
       "      <th>genre</th>\n",
       "    </tr>\n",
       "  </thead>\n",
       "  <tbody>\n",
       "    <tr>\n",
       "      <th>0</th>\n",
       "      <td>Britney Spears</td>\n",
       "      <td>Oops!...I Did It Again</td>\n",
       "      <td>211160</td>\n",
       "      <td>False</td>\n",
       "      <td>2000</td>\n",
       "      <td>77</td>\n",
       "      <td>0.751</td>\n",
       "      <td>0.834</td>\n",
       "      <td>1</td>\n",
       "      <td>-5.444</td>\n",
       "      <td>0</td>\n",
       "      <td>0.0437</td>\n",
       "      <td>0.3000</td>\n",
       "      <td>0.000018</td>\n",
       "      <td>0.3550</td>\n",
       "      <td>0.894</td>\n",
       "      <td>95.053</td>\n",
       "      <td>pop</td>\n",
       "    </tr>\n",
       "    <tr>\n",
       "      <th>1</th>\n",
       "      <td>blink-182</td>\n",
       "      <td>All The Small Things</td>\n",
       "      <td>167066</td>\n",
       "      <td>False</td>\n",
       "      <td>1999</td>\n",
       "      <td>79</td>\n",
       "      <td>0.434</td>\n",
       "      <td>0.897</td>\n",
       "      <td>0</td>\n",
       "      <td>-4.918</td>\n",
       "      <td>1</td>\n",
       "      <td>0.0488</td>\n",
       "      <td>0.0103</td>\n",
       "      <td>0.000000</td>\n",
       "      <td>0.6120</td>\n",
       "      <td>0.684</td>\n",
       "      <td>148.726</td>\n",
       "      <td>rock, pop</td>\n",
       "    </tr>\n",
       "    <tr>\n",
       "      <th>2</th>\n",
       "      <td>Faith Hill</td>\n",
       "      <td>Breathe</td>\n",
       "      <td>250546</td>\n",
       "      <td>False</td>\n",
       "      <td>1999</td>\n",
       "      <td>66</td>\n",
       "      <td>0.529</td>\n",
       "      <td>0.496</td>\n",
       "      <td>7</td>\n",
       "      <td>-9.007</td>\n",
       "      <td>1</td>\n",
       "      <td>0.0290</td>\n",
       "      <td>0.1730</td>\n",
       "      <td>0.000000</td>\n",
       "      <td>0.2510</td>\n",
       "      <td>0.278</td>\n",
       "      <td>136.859</td>\n",
       "      <td>pop, country</td>\n",
       "    </tr>\n",
       "    <tr>\n",
       "      <th>3</th>\n",
       "      <td>Bon Jovi</td>\n",
       "      <td>It's My Life</td>\n",
       "      <td>224493</td>\n",
       "      <td>False</td>\n",
       "      <td>2000</td>\n",
       "      <td>78</td>\n",
       "      <td>0.551</td>\n",
       "      <td>0.913</td>\n",
       "      <td>0</td>\n",
       "      <td>-4.063</td>\n",
       "      <td>0</td>\n",
       "      <td>0.0466</td>\n",
       "      <td>0.0263</td>\n",
       "      <td>0.000013</td>\n",
       "      <td>0.3470</td>\n",
       "      <td>0.544</td>\n",
       "      <td>119.992</td>\n",
       "      <td>rock, metal</td>\n",
       "    </tr>\n",
       "    <tr>\n",
       "      <th>4</th>\n",
       "      <td>*NSYNC</td>\n",
       "      <td>Bye Bye Bye</td>\n",
       "      <td>200560</td>\n",
       "      <td>False</td>\n",
       "      <td>2000</td>\n",
       "      <td>65</td>\n",
       "      <td>0.614</td>\n",
       "      <td>0.928</td>\n",
       "      <td>8</td>\n",
       "      <td>-4.806</td>\n",
       "      <td>0</td>\n",
       "      <td>0.0516</td>\n",
       "      <td>0.0408</td>\n",
       "      <td>0.001040</td>\n",
       "      <td>0.0845</td>\n",
       "      <td>0.879</td>\n",
       "      <td>172.656</td>\n",
       "      <td>pop</td>\n",
       "    </tr>\n",
       "  </tbody>\n",
       "</table>\n",
       "</div>"
      ],
      "text/plain": [
       "           artist                    song  duration_ms  explicit  year  \\\n",
       "0  Britney Spears  Oops!...I Did It Again       211160     False  2000   \n",
       "1       blink-182    All The Small Things       167066     False  1999   \n",
       "2      Faith Hill                 Breathe       250546     False  1999   \n",
       "3        Bon Jovi            It's My Life       224493     False  2000   \n",
       "4          *NSYNC             Bye Bye Bye       200560     False  2000   \n",
       "\n",
       "   popularity  danceability  energy  key  loudness  mode  speechiness  \\\n",
       "0          77         0.751   0.834    1    -5.444     0       0.0437   \n",
       "1          79         0.434   0.897    0    -4.918     1       0.0488   \n",
       "2          66         0.529   0.496    7    -9.007     1       0.0290   \n",
       "3          78         0.551   0.913    0    -4.063     0       0.0466   \n",
       "4          65         0.614   0.928    8    -4.806     0       0.0516   \n",
       "\n",
       "   acousticness  instrumentalness  liveness  valence    tempo         genre  \n",
       "0        0.3000          0.000018    0.3550    0.894   95.053           pop  \n",
       "1        0.0103          0.000000    0.6120    0.684  148.726     rock, pop  \n",
       "2        0.1730          0.000000    0.2510    0.278  136.859  pop, country  \n",
       "3        0.0263          0.000013    0.3470    0.544  119.992   rock, metal  \n",
       "4        0.0408          0.001040    0.0845    0.879  172.656           pop  "
      ]
     },
     "execution_count": 24,
     "metadata": {},
     "output_type": "execute_result"
    }
   ],
   "source": [
    "songs.head()"
   ]
  },
  {
   "cell_type": "code",
   "execution_count": 25,
   "id": "2cf7cefd-bfd4-44b4-8155-365870c491f2",
   "metadata": {},
   "outputs": [
    {
     "data": {
      "text/plain": [
       "artist               object\n",
       "song                 object\n",
       "duration_ms           int64\n",
       "explicit               bool\n",
       "year                  int64\n",
       "popularity            int64\n",
       "danceability        float64\n",
       "energy              float64\n",
       "key                   int64\n",
       "loudness            float64\n",
       "mode                  int64\n",
       "speechiness         float64\n",
       "acousticness        float64\n",
       "instrumentalness    float64\n",
       "liveness            float64\n",
       "valence             float64\n",
       "tempo               float64\n",
       "genre                object\n",
       "dtype: object"
      ]
     },
     "execution_count": 25,
     "metadata": {},
     "output_type": "execute_result"
    }
   ],
   "source": [
    "# check the data type\n",
    "songs.dtypes"
   ]
  },
  {
   "cell_type": "code",
   "execution_count": 26,
   "id": "f2b85fa7-0b33-45a9-80f7-a9665935bb5c",
   "metadata": {},
   "outputs": [
    {
     "data": {
      "text/plain": [
       "artist              0\n",
       "song                0\n",
       "duration_ms         0\n",
       "explicit            0\n",
       "year                0\n",
       "popularity          0\n",
       "danceability        0\n",
       "energy              0\n",
       "key                 0\n",
       "loudness            0\n",
       "mode                0\n",
       "speechiness         0\n",
       "acousticness        0\n",
       "instrumentalness    0\n",
       "liveness            0\n",
       "valence             0\n",
       "tempo               0\n",
       "genre               0\n",
       "dtype: int64"
      ]
     },
     "execution_count": 26,
     "metadata": {},
     "output_type": "execute_result"
    }
   ],
   "source": [
    "# check null values\n",
    "songs.isna().sum()"
   ]
  },
  {
   "cell_type": "code",
   "execution_count": 27,
   "id": "b3841f12-8a5b-404b-b58f-1841d993e9c6",
   "metadata": {},
   "outputs": [
    {
     "data": {
      "text/plain": [
       "(2000, 18)"
      ]
     },
     "execution_count": 27,
     "metadata": {},
     "output_type": "execute_result"
    }
   ],
   "source": [
    "#check shape\n",
    "songs.shape"
   ]
  },
  {
   "cell_type": "code",
   "execution_count": 28,
   "id": "2ec8157f-b576-4501-a215-568547df0478",
   "metadata": {},
   "outputs": [],
   "source": [
    "# create X and y\n",
    "X = songs.drop(['artist','song','genre'],axis = 1)\n",
    "y = songs['genre']"
   ]
  },
  {
   "cell_type": "code",
   "execution_count": 29,
   "id": "88d9a270-b9ca-4c80-968d-6307279d69c3",
   "metadata": {},
   "outputs": [
    {
     "data": {
      "text/plain": [
       "0                    pop\n",
       "1              rock, pop\n",
       "2           pop, country\n",
       "3            rock, metal\n",
       "4                    pop\n",
       "              ...       \n",
       "1995                 pop\n",
       "1996                 pop\n",
       "1997    hip hop, country\n",
       "1998                 pop\n",
       "1999             hip hop\n",
       "Name: genre, Length: 2000, dtype: object"
      ]
     },
     "execution_count": 29,
     "metadata": {},
     "output_type": "execute_result"
    }
   ],
   "source": [
    "y"
   ]
  },
  {
   "cell_type": "code",
   "execution_count": 30,
   "id": "c8f402fb-5c6c-4c67-8120-813ba0bbe045",
   "metadata": {},
   "outputs": [
    {
     "data": {
      "text/plain": [
       "array([[1.00000e+00, 0.00000e+00, 2.11160e+05, ..., 3.55000e-01,\n",
       "        8.94000e-01, 9.50530e+01],\n",
       "       [1.00000e+00, 0.00000e+00, 1.67066e+05, ..., 6.12000e-01,\n",
       "        6.84000e-01, 1.48726e+02],\n",
       "       [1.00000e+00, 0.00000e+00, 2.50546e+05, ..., 2.51000e-01,\n",
       "        2.78000e-01, 1.36859e+02],\n",
       "       ...,\n",
       "       [1.00000e+00, 0.00000e+00, 2.00593e+05, ..., 2.74000e-01,\n",
       "        8.11000e-01, 9.79840e+01],\n",
       "       [1.00000e+00, 0.00000e+00, 1.71029e+05, ..., 2.22000e-01,\n",
       "        3.47000e-01, 1.02998e+02],\n",
       "       [1.00000e+00, 0.00000e+00, 2.15280e+05, ..., 8.63000e-02,\n",
       "        5.53000e-01, 1.20042e+02]])"
      ]
     },
     "execution_count": 30,
     "metadata": {},
     "output_type": "execute_result"
    }
   ],
   "source": [
    "# changing the car categories into to numbers\n",
    "from sklearn.preprocessing import OneHotEncoder\n",
    "from sklearn.compose import ColumnTransformer\n",
    "\n",
    "# now defime our categorical features\n",
    "categorical_features  = ['explicit']\n",
    "one_hot = OneHotEncoder()\n",
    "transformer = ColumnTransformer ([(\"one_hot\",\n",
    "                                   one_hot,\n",
    "                                   categorical_features)],\n",
    "                                 remainder= 'passthrough')   # will take in a turple\n",
    "                                 \n",
    "                                 \n",
    "transformed_X = transformer.fit_transform(X)\n",
    "transformed_X    # this is X that has undergone cleaning"
   ]
  },
  {
   "cell_type": "markdown",
   "id": "295ca106-7b37-43a5-ab14-91c8451cca42",
   "metadata": {},
   "source": [
    "## **Find out if the features are enoght to predict genre**\n",
    "To train ,predict and evaluate how accurate the features preduct the target which is the genre**"
   ]
  },
  {
   "cell_type": "markdown",
   "id": "83491996-2fef-4c35-9f23-6e793f054c65",
   "metadata": {},
   "source": [
    "# workflow\n",
    "1. import the model\n",
    "2. create seed\n",
    "3. train and split\n",
    "4. fit the model\n",
    "6. predict\n",
    "7. evaluate"
   ]
  },
  {
   "cell_type": "code",
   "execution_count": 50,
   "id": "fc3c2cee-2e03-431c-85f2-4afe4a54f5d2",
   "metadata": {},
   "outputs": [
    {
     "name": "stdout",
     "output_type": "stream",
     "text": [
      "Training Score:1.0\n",
      "Test Score: 0.405\n"
     ]
    },
    {
     "name": "stderr",
     "output_type": "stream",
     "text": [
      "C:\\Users\\godwi\\anaconda3\\lib\\site-packages\\sklearn\\model_selection\\_split.py:666: UserWarning: The least populated class in y has only 1 members, which is less than n_splits=5.\n",
      "  warnings.warn((\"The least populated class in y has only %d\"\n"
     ]
    },
    {
     "name": "stdout",
     "output_type": "stream",
     "text": [
      "Classifier Cross Validation_Score: 0.2485\n",
      "Accuracy_score_metric : 0.405\n"
     ]
    }
   ],
   "source": [
    "# import model\n",
    "from sklearn.ensemble import RandomForestClassifier\n",
    "\n",
    "# create random seed\n",
    "np.random.seed(42)\n",
    "\n",
    "# train and split\n",
    "from sklearn.model_selection import train_test_split\n",
    "transformed_X_train, transformed_X_test, y_train, y_test = train_test_split(transformed_X,y,test_size = 0.2)\n",
    "\n",
    "# fit the model\n",
    "clf= RandomForestClassifier()\n",
    "clf.fit(transformed_X_train, y_train)\n",
    "\n",
    "\n",
    "# Evaluation of the model for accuracy\n",
    "from sklearn.metrics import classification_report, confusion_matrix , accuracy_score\n",
    "from sklearn.model_selection import cross_val_score\n",
    "\n",
    "print(f'Training Score:{clf.score(transformed_X_train, y_train)}') # inbuilt accuracy score\n",
    "\n",
    "print(f'Test Score: {clf.score(transformed_X_test, y_test)}')     # inbuilt accuracy score\n",
    "\n",
    "print(f\"Classifier Cross Validation_Score: {np.mean(cross_val_score(clf,transformed_X,y,cv= 5))}\") # cross validation\n",
    "\n",
    "print(f'Accuracy_score_metric : {accuracy_score(y_test, y_preds)}')# for classifications only"
   ]
  },
  {
   "cell_type": "code",
   "execution_count": 32,
   "id": "e9d48a0b-4479-44dc-978b-395a9f14dd4b",
   "metadata": {},
   "outputs": [
    {
     "data": {
      "text/html": [
       "<div>\n",
       "<style scoped>\n",
       "    .dataframe tbody tr th:only-of-type {\n",
       "        vertical-align: middle;\n",
       "    }\n",
       "\n",
       "    .dataframe tbody tr th {\n",
       "        vertical-align: top;\n",
       "    }\n",
       "\n",
       "    .dataframe thead th {\n",
       "        text-align: right;\n",
       "    }\n",
       "</style>\n",
       "<table border=\"1\" class=\"dataframe\">\n",
       "  <thead>\n",
       "    <tr style=\"text-align: right;\">\n",
       "      <th></th>\n",
       "      <th>0</th>\n",
       "    </tr>\n",
       "  </thead>\n",
       "  <tbody>\n",
       "    <tr>\n",
       "      <th>0</th>\n",
       "      <td>(0, 30)\\t1.0</td>\n",
       "    </tr>\n",
       "    <tr>\n",
       "      <th>1</th>\n",
       "      <td>(0, 54)\\t1.0</td>\n",
       "    </tr>\n",
       "    <tr>\n",
       "      <th>2</th>\n",
       "      <td>(0, 36)\\t1.0</td>\n",
       "    </tr>\n",
       "    <tr>\n",
       "      <th>3</th>\n",
       "      <td>(0, 53)\\t1.0</td>\n",
       "    </tr>\n",
       "    <tr>\n",
       "      <th>4</th>\n",
       "      <td>(0, 30)\\t1.0</td>\n",
       "    </tr>\n",
       "    <tr>\n",
       "      <th>...</th>\n",
       "      <td>...</td>\n",
       "    </tr>\n",
       "    <tr>\n",
       "      <th>1995</th>\n",
       "      <td>(0, 30)\\t1.0</td>\n",
       "    </tr>\n",
       "    <tr>\n",
       "      <th>1996</th>\n",
       "      <td>(0, 30)\\t1.0</td>\n",
       "    </tr>\n",
       "    <tr>\n",
       "      <th>1997</th>\n",
       "      <td>(0, 17)\\t1.0</td>\n",
       "    </tr>\n",
       "    <tr>\n",
       "      <th>1998</th>\n",
       "      <td>(0, 30)\\t1.0</td>\n",
       "    </tr>\n",
       "    <tr>\n",
       "      <th>1999</th>\n",
       "      <td>(0, 14)\\t1.0</td>\n",
       "    </tr>\n",
       "  </tbody>\n",
       "</table>\n",
       "<p>2000 rows × 1 columns</p>\n",
       "</div>"
      ],
      "text/plain": [
       "                   0\n",
       "0       (0, 30)\\t1.0\n",
       "1       (0, 54)\\t1.0\n",
       "2       (0, 36)\\t1.0\n",
       "3       (0, 53)\\t1.0\n",
       "4       (0, 30)\\t1.0\n",
       "...              ...\n",
       "1995    (0, 30)\\t1.0\n",
       "1996    (0, 30)\\t1.0\n",
       "1997    (0, 17)\\t1.0\n",
       "1998    (0, 30)\\t1.0\n",
       "1999    (0, 14)\\t1.0\n",
       "\n",
       "[2000 rows x 1 columns]"
      ]
     },
     "execution_count": 32,
     "metadata": {},
     "output_type": "execute_result"
    }
   ],
   "source": [
    "pd.DataFrame(transformed_y)"
   ]
  },
  {
   "cell_type": "code",
   "execution_count": 33,
   "id": "c3434bcc-fee2-4137-8cd7-be053db1904e",
   "metadata": {},
   "outputs": [
    {
     "data": {
      "text/plain": [
       "array(['pop', 'hip hop', 'pop, Dance/Electronic', 'pop', 'hip hop, pop',\n",
       "       'pop', 'hip hop, pop, R&B', 'hip hop', 'pop', 'pop'], dtype=object)"
      ]
     },
     "execution_count": 33,
     "metadata": {},
     "output_type": "execute_result"
    }
   ],
   "source": [
    "# #predict the model\n",
    "y_preds = clf.predict(transformed_X_test)\n",
    "y_preds[:10]"
   ]
  },
  {
   "cell_type": "code",
   "execution_count": null,
   "id": "77dfc332-052e-4e6f-8c1f-2a75eb480638",
   "metadata": {},
   "outputs": [],
   "source": []
  },
  {
   "cell_type": "code",
   "execution_count": 34,
   "id": "361b3421-e65c-4b86-8f46-751054e14405",
   "metadata": {},
   "outputs": [
    {
     "data": {
      "text/plain": [
       "array(['pop', 'hip hop, pop', 'hip hop, pop', 'pop', 'hip hop, pop, R&B',\n",
       "       'pop', 'hip hop, pop, R&B', 'hip hop', 'pop',\n",
       "       'pop, Dance/Electronic'], dtype=object)"
      ]
     },
     "execution_count": 34,
     "metadata": {},
     "output_type": "execute_result"
    }
   ],
   "source": [
    "np.array(y_test)[:10]"
   ]
  },
  {
   "cell_type": "code",
   "execution_count": 35,
   "id": "bd135203-93b3-4aed-84cb-f38620bcfbb1",
   "metadata": {},
   "outputs": [
    {
     "data": {
      "text/plain": [
       "array([[0.01, 0.  , 0.  , ..., 0.  , 0.  , 0.01],\n",
       "       [0.  , 0.  , 0.  , ..., 0.  , 0.  , 0.04],\n",
       "       [0.02, 0.  , 0.  , ..., 0.  , 0.  , 0.  ],\n",
       "       ...,\n",
       "       [0.02, 0.  , 0.  , ..., 0.  , 0.  , 0.01],\n",
       "       [0.  , 0.  , 0.  , ..., 0.  , 0.  , 0.02],\n",
       "       [0.  , 0.  , 0.  , ..., 0.  , 0.  , 0.  ]])"
      ]
     },
     "execution_count": 35,
     "metadata": {},
     "output_type": "execute_result"
    }
   ],
   "source": [
    "clf.predict_proba(transformed_X_test)"
   ]
  },
  {
   "cell_type": "code",
   "execution_count": 36,
   "id": "23cfd7fe-7674-42b6-b8d0-194f7cb55fcf",
   "metadata": {},
   "outputs": [],
   "source": [
    "from sklearn.metrics import classification_report, confusion_matrix , accuracy_score"
   ]
  },
  {
   "cell_type": "code",
   "execution_count": 37,
   "id": "e2371795-a61a-410a-8e06-35e72143a368",
   "metadata": {},
   "outputs": [
    {
     "data": {
      "text/html": [
       "<div>\n",
       "<style scoped>\n",
       "    .dataframe tbody tr th:only-of-type {\n",
       "        vertical-align: middle;\n",
       "    }\n",
       "\n",
       "    .dataframe tbody tr th {\n",
       "        vertical-align: top;\n",
       "    }\n",
       "\n",
       "    .dataframe thead th {\n",
       "        text-align: right;\n",
       "    }\n",
       "</style>\n",
       "<table border=\"1\" class=\"dataframe\">\n",
       "  <thead>\n",
       "    <tr style=\"text-align: right;\">\n",
       "      <th></th>\n",
       "      <th>0</th>\n",
       "      <th>1</th>\n",
       "      <th>2</th>\n",
       "      <th>3</th>\n",
       "      <th>4</th>\n",
       "      <th>5</th>\n",
       "      <th>6</th>\n",
       "      <th>7</th>\n",
       "      <th>8</th>\n",
       "      <th>9</th>\n",
       "      <th>...</th>\n",
       "      <th>29</th>\n",
       "      <th>30</th>\n",
       "      <th>31</th>\n",
       "      <th>32</th>\n",
       "      <th>33</th>\n",
       "      <th>34</th>\n",
       "      <th>35</th>\n",
       "      <th>36</th>\n",
       "      <th>37</th>\n",
       "      <th>38</th>\n",
       "    </tr>\n",
       "  </thead>\n",
       "  <tbody>\n",
       "    <tr>\n",
       "      <th>0</th>\n",
       "      <td>0</td>\n",
       "      <td>0</td>\n",
       "      <td>0</td>\n",
       "      <td>0</td>\n",
       "      <td>0</td>\n",
       "      <td>0</td>\n",
       "      <td>0</td>\n",
       "      <td>1</td>\n",
       "      <td>0</td>\n",
       "      <td>0</td>\n",
       "      <td>...</td>\n",
       "      <td>0</td>\n",
       "      <td>0</td>\n",
       "      <td>0</td>\n",
       "      <td>0</td>\n",
       "      <td>0</td>\n",
       "      <td>0</td>\n",
       "      <td>0</td>\n",
       "      <td>0</td>\n",
       "      <td>0</td>\n",
       "      <td>0</td>\n",
       "    </tr>\n",
       "    <tr>\n",
       "      <th>1</th>\n",
       "      <td>0</td>\n",
       "      <td>0</td>\n",
       "      <td>0</td>\n",
       "      <td>0</td>\n",
       "      <td>0</td>\n",
       "      <td>0</td>\n",
       "      <td>0</td>\n",
       "      <td>0</td>\n",
       "      <td>0</td>\n",
       "      <td>0</td>\n",
       "      <td>...</td>\n",
       "      <td>0</td>\n",
       "      <td>0</td>\n",
       "      <td>0</td>\n",
       "      <td>0</td>\n",
       "      <td>0</td>\n",
       "      <td>0</td>\n",
       "      <td>0</td>\n",
       "      <td>0</td>\n",
       "      <td>0</td>\n",
       "      <td>0</td>\n",
       "    </tr>\n",
       "    <tr>\n",
       "      <th>2</th>\n",
       "      <td>0</td>\n",
       "      <td>0</td>\n",
       "      <td>0</td>\n",
       "      <td>0</td>\n",
       "      <td>0</td>\n",
       "      <td>0</td>\n",
       "      <td>0</td>\n",
       "      <td>0</td>\n",
       "      <td>0</td>\n",
       "      <td>0</td>\n",
       "      <td>...</td>\n",
       "      <td>0</td>\n",
       "      <td>0</td>\n",
       "      <td>0</td>\n",
       "      <td>0</td>\n",
       "      <td>0</td>\n",
       "      <td>0</td>\n",
       "      <td>0</td>\n",
       "      <td>0</td>\n",
       "      <td>0</td>\n",
       "      <td>0</td>\n",
       "    </tr>\n",
       "    <tr>\n",
       "      <th>3</th>\n",
       "      <td>0</td>\n",
       "      <td>0</td>\n",
       "      <td>0</td>\n",
       "      <td>0</td>\n",
       "      <td>0</td>\n",
       "      <td>0</td>\n",
       "      <td>0</td>\n",
       "      <td>0</td>\n",
       "      <td>0</td>\n",
       "      <td>0</td>\n",
       "      <td>...</td>\n",
       "      <td>0</td>\n",
       "      <td>0</td>\n",
       "      <td>0</td>\n",
       "      <td>0</td>\n",
       "      <td>0</td>\n",
       "      <td>0</td>\n",
       "      <td>0</td>\n",
       "      <td>0</td>\n",
       "      <td>0</td>\n",
       "      <td>0</td>\n",
       "    </tr>\n",
       "    <tr>\n",
       "      <th>4</th>\n",
       "      <td>0</td>\n",
       "      <td>0</td>\n",
       "      <td>0</td>\n",
       "      <td>0</td>\n",
       "      <td>0</td>\n",
       "      <td>0</td>\n",
       "      <td>0</td>\n",
       "      <td>0</td>\n",
       "      <td>0</td>\n",
       "      <td>0</td>\n",
       "      <td>...</td>\n",
       "      <td>0</td>\n",
       "      <td>0</td>\n",
       "      <td>0</td>\n",
       "      <td>0</td>\n",
       "      <td>0</td>\n",
       "      <td>0</td>\n",
       "      <td>0</td>\n",
       "      <td>0</td>\n",
       "      <td>0</td>\n",
       "      <td>0</td>\n",
       "    </tr>\n",
       "    <tr>\n",
       "      <th>5</th>\n",
       "      <td>0</td>\n",
       "      <td>0</td>\n",
       "      <td>0</td>\n",
       "      <td>0</td>\n",
       "      <td>0</td>\n",
       "      <td>1</td>\n",
       "      <td>0</td>\n",
       "      <td>0</td>\n",
       "      <td>0</td>\n",
       "      <td>0</td>\n",
       "      <td>...</td>\n",
       "      <td>0</td>\n",
       "      <td>0</td>\n",
       "      <td>0</td>\n",
       "      <td>0</td>\n",
       "      <td>0</td>\n",
       "      <td>0</td>\n",
       "      <td>0</td>\n",
       "      <td>0</td>\n",
       "      <td>0</td>\n",
       "      <td>0</td>\n",
       "    </tr>\n",
       "    <tr>\n",
       "      <th>6</th>\n",
       "      <td>0</td>\n",
       "      <td>0</td>\n",
       "      <td>0</td>\n",
       "      <td>0</td>\n",
       "      <td>0</td>\n",
       "      <td>0</td>\n",
       "      <td>0</td>\n",
       "      <td>0</td>\n",
       "      <td>0</td>\n",
       "      <td>0</td>\n",
       "      <td>...</td>\n",
       "      <td>0</td>\n",
       "      <td>0</td>\n",
       "      <td>0</td>\n",
       "      <td>0</td>\n",
       "      <td>0</td>\n",
       "      <td>0</td>\n",
       "      <td>0</td>\n",
       "      <td>0</td>\n",
       "      <td>0</td>\n",
       "      <td>0</td>\n",
       "    </tr>\n",
       "    <tr>\n",
       "      <th>7</th>\n",
       "      <td>0</td>\n",
       "      <td>0</td>\n",
       "      <td>0</td>\n",
       "      <td>0</td>\n",
       "      <td>0</td>\n",
       "      <td>0</td>\n",
       "      <td>0</td>\n",
       "      <td>8</td>\n",
       "      <td>0</td>\n",
       "      <td>0</td>\n",
       "      <td>...</td>\n",
       "      <td>0</td>\n",
       "      <td>0</td>\n",
       "      <td>0</td>\n",
       "      <td>0</td>\n",
       "      <td>0</td>\n",
       "      <td>0</td>\n",
       "      <td>0</td>\n",
       "      <td>0</td>\n",
       "      <td>0</td>\n",
       "      <td>0</td>\n",
       "    </tr>\n",
       "    <tr>\n",
       "      <th>8</th>\n",
       "      <td>0</td>\n",
       "      <td>0</td>\n",
       "      <td>0</td>\n",
       "      <td>0</td>\n",
       "      <td>0</td>\n",
       "      <td>0</td>\n",
       "      <td>0</td>\n",
       "      <td>0</td>\n",
       "      <td>1</td>\n",
       "      <td>0</td>\n",
       "      <td>...</td>\n",
       "      <td>0</td>\n",
       "      <td>0</td>\n",
       "      <td>0</td>\n",
       "      <td>0</td>\n",
       "      <td>0</td>\n",
       "      <td>0</td>\n",
       "      <td>0</td>\n",
       "      <td>0</td>\n",
       "      <td>0</td>\n",
       "      <td>0</td>\n",
       "    </tr>\n",
       "    <tr>\n",
       "      <th>9</th>\n",
       "      <td>0</td>\n",
       "      <td>0</td>\n",
       "      <td>0</td>\n",
       "      <td>0</td>\n",
       "      <td>0</td>\n",
       "      <td>0</td>\n",
       "      <td>0</td>\n",
       "      <td>0</td>\n",
       "      <td>0</td>\n",
       "      <td>0</td>\n",
       "      <td>...</td>\n",
       "      <td>0</td>\n",
       "      <td>0</td>\n",
       "      <td>0</td>\n",
       "      <td>0</td>\n",
       "      <td>0</td>\n",
       "      <td>0</td>\n",
       "      <td>0</td>\n",
       "      <td>0</td>\n",
       "      <td>0</td>\n",
       "      <td>0</td>\n",
       "    </tr>\n",
       "  </tbody>\n",
       "</table>\n",
       "<p>10 rows × 39 columns</p>\n",
       "</div>"
      ],
      "text/plain": [
       "   0   1   2   3   4   5   6   7   8   9   ...  29  30  31  32  33  34  35  \\\n",
       "0   0   0   0   0   0   0   0   1   0   0  ...   0   0   0   0   0   0   0   \n",
       "1   0   0   0   0   0   0   0   0   0   0  ...   0   0   0   0   0   0   0   \n",
       "2   0   0   0   0   0   0   0   0   0   0  ...   0   0   0   0   0   0   0   \n",
       "3   0   0   0   0   0   0   0   0   0   0  ...   0   0   0   0   0   0   0   \n",
       "4   0   0   0   0   0   0   0   0   0   0  ...   0   0   0   0   0   0   0   \n",
       "5   0   0   0   0   0   1   0   0   0   0  ...   0   0   0   0   0   0   0   \n",
       "6   0   0   0   0   0   0   0   0   0   0  ...   0   0   0   0   0   0   0   \n",
       "7   0   0   0   0   0   0   0   8   0   0  ...   0   0   0   0   0   0   0   \n",
       "8   0   0   0   0   0   0   0   0   1   0  ...   0   0   0   0   0   0   0   \n",
       "9   0   0   0   0   0   0   0   0   0   0  ...   0   0   0   0   0   0   0   \n",
       "\n",
       "   36  37  38  \n",
       "0   0   0   0  \n",
       "1   0   0   0  \n",
       "2   0   0   0  \n",
       "3   0   0   0  \n",
       "4   0   0   0  \n",
       "5   0   0   0  \n",
       "6   0   0   0  \n",
       "7   0   0   0  \n",
       "8   0   0   0  \n",
       "9   0   0   0  \n",
       "\n",
       "[10 rows x 39 columns]"
      ]
     },
     "execution_count": 37,
     "metadata": {},
     "output_type": "execute_result"
    }
   ],
   "source": [
    "confusion_matrix(y_test, y_preds)\n",
    "# place in df\n",
    "cm = pd.DataFrame(confusion_matrix(y_test, y_preds))\n",
    "cm[:10]"
   ]
  },
  {
   "cell_type": "code",
   "execution_count": 38,
   "id": "cccccf23-90c2-47f9-aa32-25d775fdfea7",
   "metadata": {},
   "outputs": [
    {
     "name": "stdout",
     "output_type": "stream",
     "text": [
      "                                     precision    recall  f1-score   support\n",
      "\n",
      "                   Dance/Electronic       0.00      0.00      0.00         7\n",
      "                 Folk/Acoustic, pop       0.00      0.00      0.00         1\n",
      "                Folk/Acoustic, rock       0.00      0.00      0.00         1\n",
      "                                R&B       0.00      0.00      0.00         2\n",
      "       World/Traditional, rock, pop       0.00      0.00      0.00         1\n",
      "                            country       1.00      0.50      0.67         2\n",
      "                     easy listening       0.00      0.00      0.00         1\n",
      "                            hip hop       0.36      0.38      0.37        21\n",
      "          hip hop, Dance/Electronic       1.00      1.00      1.00         1\n",
      "   hip hop, latin, Dance/Electronic       0.00      0.00      0.00         1\n",
      "                       hip hop, pop       0.46      0.52      0.49        64\n",
      "     hip hop, pop, Dance/Electronic       0.43      0.23      0.30        13\n",
      "                  hip hop, pop, R&B       0.40      0.44      0.42        48\n",
      "hip hop, pop, R&B, Dance/Electronic       0.00      0.00      0.00         2\n",
      "           hip hop, pop, R&B, latin       1.00      1.00      1.00         1\n",
      "                hip hop, pop, latin       0.00      0.00      0.00         7\n",
      "                 hip hop, pop, rock       0.00      0.00      0.00         2\n",
      "                 hip hop, rock, pop       1.00      1.00      1.00         1\n",
      "                              latin       0.00      0.00      0.00         1\n",
      "                              metal       0.00      0.00      0.00         2\n",
      "                                pop       0.33      0.75      0.45        72\n",
      "              pop, Dance/Electronic       0.50      0.53      0.52        43\n",
      "                 pop, Folk/Acoustic       0.00      0.00      0.00         3\n",
      "                           pop, R&B       0.50      0.21      0.30        43\n",
      "                       pop, country       0.00      0.00      0.00         2\n",
      "                         pop, latin       1.00      0.25      0.40         4\n",
      "                          pop, rock       0.00      0.00      0.00         4\n",
      "        pop, rock, Dance/Electronic       0.00      0.00      0.00         2\n",
      "           pop, rock, Folk/Acoustic       0.00      0.00      0.00         1\n",
      "                   pop, rock, metal       0.00      0.00      0.00         4\n",
      "                               rock       0.75      0.23      0.35        13\n",
      "           rock, Folk/Acoustic, pop       0.00      0.00      0.00         1\n",
      "                 rock, blues, latin       0.00      0.00      0.00         1\n",
      "               rock, easy listening       0.00      0.00      0.00         1\n",
      "                        rock, metal       0.50      0.14      0.22        14\n",
      "                          rock, pop       1.00      0.11      0.20         9\n",
      "        rock, pop, Dance/Electronic       0.00      0.00      0.00         1\n",
      "                   rock, pop, metal       0.00      0.00      0.00         1\n",
      "                              set()       0.00      0.00      0.00         2\n",
      "\n",
      "                           accuracy                           0.41       400\n",
      "                          macro avg       0.26      0.19      0.20       400\n",
      "                       weighted avg       0.41      0.41      0.36       400\n",
      "\n"
     ]
    },
    {
     "name": "stderr",
     "output_type": "stream",
     "text": [
      "C:\\Users\\godwi\\anaconda3\\lib\\site-packages\\sklearn\\metrics\\_classification.py:1245: UndefinedMetricWarning: Precision and F-score are ill-defined and being set to 0.0 in labels with no predicted samples. Use `zero_division` parameter to control this behavior.\n",
      "  _warn_prf(average, modifier, msg_start, len(result))\n",
      "C:\\Users\\godwi\\anaconda3\\lib\\site-packages\\sklearn\\metrics\\_classification.py:1245: UndefinedMetricWarning: Precision and F-score are ill-defined and being set to 0.0 in labels with no predicted samples. Use `zero_division` parameter to control this behavior.\n",
      "  _warn_prf(average, modifier, msg_start, len(result))\n",
      "C:\\Users\\godwi\\anaconda3\\lib\\site-packages\\sklearn\\metrics\\_classification.py:1245: UndefinedMetricWarning: Precision and F-score are ill-defined and being set to 0.0 in labels with no predicted samples. Use `zero_division` parameter to control this behavior.\n",
      "  _warn_prf(average, modifier, msg_start, len(result))\n"
     ]
    }
   ],
   "source": [
    "cr = classification_report(y_test, y_preds)\n",
    "print(cr)"
   ]
  },
  {
   "cell_type": "code",
   "execution_count": 39,
   "id": "8f514a72-0268-4a88-a6db-d83e24a79eab",
   "metadata": {},
   "outputs": [
    {
     "data": {
      "text/plain": [
       "<matplotlib.image.AxesImage at 0x180fa12beb0>"
      ]
     },
     "execution_count": 39,
     "metadata": {},
     "output_type": "execute_result"
    },
    {
     "data": {
      "image/png": "[encoded data removed]",
      "text/plain": [
       "<Figure size 936x576 with 1 Axes>"
      ]
     },
     "metadata": {},
     "output_type": "display_data"
    }
   ],
   "source": [
    "fig,ax = plt.subplots(figsize = (13,8))\n",
    "ax.imshow(cm)"
   ]
  },
  {
   "cell_type": "markdown",
   "id": "f7b78ddc-31ad-46b7-bc30-fc7821ef8e41",
   "metadata": {},
   "source": [
    "## **How the features relate with each other**"
   ]
  },
  {
   "cell_type": "code",
   "execution_count": 40,
   "id": "45938f60-e082-49ff-b348-5ad38d7eea66",
   "metadata": {},
   "outputs": [
    {
     "data": {
      "text/html": [
       "<div>\n",
       "<style scoped>\n",
       "    .dataframe tbody tr th:only-of-type {\n",
       "        vertical-align: middle;\n",
       "    }\n",
       "\n",
       "    .dataframe tbody tr th {\n",
       "        vertical-align: top;\n",
       "    }\n",
       "\n",
       "    .dataframe thead th {\n",
       "        text-align: right;\n",
       "    }\n",
       "</style>\n",
       "<table border=\"1\" class=\"dataframe\">\n",
       "  <thead>\n",
       "    <tr style=\"text-align: right;\">\n",
       "      <th></th>\n",
       "      <th>duration_ms</th>\n",
       "      <th>explicit</th>\n",
       "      <th>year</th>\n",
       "      <th>popularity</th>\n",
       "      <th>danceability</th>\n",
       "      <th>energy</th>\n",
       "      <th>key</th>\n",
       "      <th>loudness</th>\n",
       "      <th>mode</th>\n",
       "      <th>speechiness</th>\n",
       "      <th>acousticness</th>\n",
       "      <th>instrumentalness</th>\n",
       "      <th>liveness</th>\n",
       "      <th>valence</th>\n",
       "      <th>tempo</th>\n",
       "    </tr>\n",
       "  </thead>\n",
       "  <tbody>\n",
       "    <tr>\n",
       "      <th>duration_ms</th>\n",
       "      <td>1.000000</td>\n",
       "      <td>0.123595</td>\n",
       "      <td>-0.316534</td>\n",
       "      <td>0.050617</td>\n",
       "      <td>-0.060057</td>\n",
       "      <td>-0.078763</td>\n",
       "      <td>-0.002560</td>\n",
       "      <td>-0.079912</td>\n",
       "      <td>-0.003848</td>\n",
       "      <td>0.066998</td>\n",
       "      <td>0.010923</td>\n",
       "      <td>-0.004208</td>\n",
       "      <td>0.024941</td>\n",
       "      <td>-0.116870</td>\n",
       "      <td>-0.028603</td>\n",
       "    </tr>\n",
       "    <tr>\n",
       "      <th>explicit</th>\n",
       "      <td>0.123595</td>\n",
       "      <td>1.000000</td>\n",
       "      <td>0.078477</td>\n",
       "      <td>0.046605</td>\n",
       "      <td>0.248845</td>\n",
       "      <td>-0.162462</td>\n",
       "      <td>0.003320</td>\n",
       "      <td>-0.089829</td>\n",
       "      <td>0.049576</td>\n",
       "      <td>0.417343</td>\n",
       "      <td>-0.033523</td>\n",
       "      <td>-0.082522</td>\n",
       "      <td>0.008884</td>\n",
       "      <td>-0.045455</td>\n",
       "      <td>0.013221</td>\n",
       "    </tr>\n",
       "    <tr>\n",
       "      <th>year</th>\n",
       "      <td>-0.316534</td>\n",
       "      <td>0.078477</td>\n",
       "      <td>1.000000</td>\n",
       "      <td>-0.003825</td>\n",
       "      <td>0.033532</td>\n",
       "      <td>-0.108644</td>\n",
       "      <td>0.007380</td>\n",
       "      <td>0.017479</td>\n",
       "      <td>-0.007358</td>\n",
       "      <td>0.001111</td>\n",
       "      <td>0.033809</td>\n",
       "      <td>-0.050265</td>\n",
       "      <td>-0.027037</td>\n",
       "      <td>-0.209365</td>\n",
       "      <td>0.076867</td>\n",
       "    </tr>\n",
       "    <tr>\n",
       "      <th>popularity</th>\n",
       "      <td>0.050617</td>\n",
       "      <td>0.046605</td>\n",
       "      <td>-0.003825</td>\n",
       "      <td>1.000000</td>\n",
       "      <td>-0.003546</td>\n",
       "      <td>-0.014021</td>\n",
       "      <td>0.014823</td>\n",
       "      <td>0.030632</td>\n",
       "      <td>-0.021353</td>\n",
       "      <td>0.021162</td>\n",
       "      <td>0.024619</td>\n",
       "      <td>-0.048059</td>\n",
       "      <td>-0.009856</td>\n",
       "      <td>-0.016142</td>\n",
       "      <td>0.014288</td>\n",
       "    </tr>\n",
       "    <tr>\n",
       "      <th>danceability</th>\n",
       "      <td>-0.060057</td>\n",
       "      <td>0.248845</td>\n",
       "      <td>0.033532</td>\n",
       "      <td>-0.003546</td>\n",
       "      <td>1.000000</td>\n",
       "      <td>-0.104038</td>\n",
       "      <td>0.032731</td>\n",
       "      <td>-0.033315</td>\n",
       "      <td>-0.067528</td>\n",
       "      <td>0.145590</td>\n",
       "      <td>-0.065429</td>\n",
       "      <td>0.023207</td>\n",
       "      <td>-0.126413</td>\n",
       "      <td>0.403178</td>\n",
       "      <td>-0.173418</td>\n",
       "    </tr>\n",
       "  </tbody>\n",
       "</table>\n",
       "</div>"
      ],
      "text/plain": [
       "              duration_ms  explicit      year  popularity  danceability  \\\n",
       "duration_ms      1.000000  0.123595 -0.316534    0.050617     -0.060057   \n",
       "explicit         0.123595  1.000000  0.078477    0.046605      0.248845   \n",
       "year            -0.316534  0.078477  1.000000   -0.003825      0.033532   \n",
       "popularity       0.050617  0.046605 -0.003825    1.000000     -0.003546   \n",
       "danceability    -0.060057  0.248845  0.033532   -0.003546      1.000000   \n",
       "\n",
       "                energy       key  loudness      mode  speechiness  \\\n",
       "duration_ms  -0.078763 -0.002560 -0.079912 -0.003848     0.066998   \n",
       "explicit     -0.162462  0.003320 -0.089829  0.049576     0.417343   \n",
       "year         -0.108644  0.007380  0.017479 -0.007358     0.001111   \n",
       "popularity   -0.014021  0.014823  0.030632 -0.021353     0.021162   \n",
       "danceability -0.104038  0.032731 -0.033315 -0.067528     0.145590   \n",
       "\n",
       "              acousticness  instrumentalness  liveness   valence     tempo  \n",
       "duration_ms       0.010923         -0.004208  0.024941 -0.116870 -0.028603  \n",
       "explicit         -0.033523         -0.082522  0.008884 -0.045455  0.013221  \n",
       "year              0.033809         -0.050265 -0.027037 -0.209365  0.076867  \n",
       "popularity        0.024619         -0.048059 -0.009856 -0.016142  0.014288  \n",
       "danceability     -0.065429          0.023207 -0.126413  0.403178 -0.173418  "
      ]
     },
     "execution_count": 40,
     "metadata": {},
     "output_type": "execute_result"
    }
   ],
   "source": [
    "feature = songs.drop(['artist','song','genre'],axis = 1).corr()\n",
    "feature[:5]"
   ]
  },
  {
   "cell_type": "code",
   "execution_count": 41,
   "id": "dd41fc03-505e-4fdb-be73-239295018f35",
   "metadata": {},
   "outputs": [
    {
     "data": {
      "image/png": "[encoded data removed]",
      "text/plain": [
       "<Figure size 936x432 with 2 Axes>"
      ]
     },
     "metadata": {},
     "output_type": "display_data"
    }
   ],
   "source": [
    "fig,ax= plt.subplots(figsize = (13,6))\n",
    "sns.heatmap(feature, cmap = 'Blues')\n",
    "ax.set(title = 'How the features relate with each other');"
   ]
  },
  {
   "cell_type": "markdown",
   "id": "850d0b8c-de18-44b0-9d01-ac7ad653d97d",
   "metadata": {},
   "source": [
    "## **Findings**\n",
    "1. strong correlation between energy and loudness\n",
    "2. strong correlation between explicit and speechiness\n",
    "3. strong correlation between valence and danceabilty"
   ]
  },
  {
   "cell_type": "markdown",
   "id": "918d258c-3654-441c-9052-639f25b422a5",
   "metadata": {},
   "source": [
    "## **Popularity by Genre**"
   ]
  },
  {
   "cell_type": "code",
   "execution_count": 42,
   "id": "b2358b50-6734-497a-979f-2e5479051615",
   "metadata": {},
   "outputs": [
    {
     "data": {
      "text/plain": [
       "[Text(0.5, 0, 'popularity'), Text(0, 0.5, 'genre')]"
      ]
     },
     "execution_count": 42,
     "metadata": {},
     "output_type": "execute_result"
    },
    {
     "data": {
      "image/png": "[encoded data removed]",
      "text/plain": [
       "<Figure size 720x1080 with 1 Axes>"
      ]
     },
     "metadata": {},
     "output_type": "display_data"
    }
   ],
   "source": [
    "fig,ax = plt.subplots(figsize = (10,15))\n",
    "sns.barplot(data = songs, y = songs.genre , x=songs.popularity)\n",
    "ax.set(xlabel = 'popularity', ylabel = 'genre')"
   ]
  },
  {
   "cell_type": "markdown",
   "id": "f648bd9f-003b-4fcb-8d5d-bc8ed2e9b1a2",
   "metadata": {},
   "source": [
    "## **Number of songs by explicit content**"
   ]
  },
  {
   "cell_type": "code",
   "execution_count": 43,
   "id": "4b3ee19c-4d1c-47cc-a1b6-ed00b5b88a53",
   "metadata": {},
   "outputs": [
    {
     "data": {
      "image/png": "[encoded data removed]",
      "text/plain": [
       "<Figure size 432x288 with 1 Axes>"
      ]
     },
     "metadata": {},
     "output_type": "display_data"
    }
   ],
   "source": [
    "songs.loc[:,'explicit'].value_counts().plot(kind = 'bar'\\\n",
    "    , title ='Number of songs by explicit content', xlabel \\\n",
    "= 'explicit', ylabel = 'number of songs', color =['blue', 'green']);"
   ]
  },
  {
   "cell_type": "markdown",
   "id": "0bb9dba5-e83b-4bc3-ad44-c4893654b1ee",
   "metadata": {},
   "source": [
    "## **Number of songs by Artist**"
   ]
  },
  {
   "cell_type": "code",
   "execution_count": 44,
   "id": "568d4f06-876e-40af-a628-4ba19252edd7",
   "metadata": {},
   "outputs": [
    {
     "data": {
      "text/html": [
       "<div>\n",
       "<style scoped>\n",
       "    .dataframe tbody tr th:only-of-type {\n",
       "        vertical-align: middle;\n",
       "    }\n",
       "\n",
       "    .dataframe tbody tr th {\n",
       "        vertical-align: top;\n",
       "    }\n",
       "\n",
       "    .dataframe thead th {\n",
       "        text-align: right;\n",
       "    }\n",
       "</style>\n",
       "<table border=\"1\" class=\"dataframe\">\n",
       "  <thead>\n",
       "    <tr style=\"text-align: right;\">\n",
       "      <th></th>\n",
       "      <th>song</th>\n",
       "    </tr>\n",
       "    <tr>\n",
       "      <th>artist</th>\n",
       "      <th></th>\n",
       "    </tr>\n",
       "  </thead>\n",
       "  <tbody>\n",
       "    <tr>\n",
       "      <th>Rihanna</th>\n",
       "      <td>25</td>\n",
       "    </tr>\n",
       "    <tr>\n",
       "      <th>Drake</th>\n",
       "      <td>23</td>\n",
       "    </tr>\n",
       "    <tr>\n",
       "      <th>Eminem</th>\n",
       "      <td>21</td>\n",
       "    </tr>\n",
       "    <tr>\n",
       "      <th>Calvin Harris</th>\n",
       "      <td>20</td>\n",
       "    </tr>\n",
       "    <tr>\n",
       "      <th>Britney Spears</th>\n",
       "      <td>19</td>\n",
       "    </tr>\n",
       "    <tr>\n",
       "      <th>David Guetta</th>\n",
       "      <td>18</td>\n",
       "    </tr>\n",
       "    <tr>\n",
       "      <th>Kanye West</th>\n",
       "      <td>17</td>\n",
       "    </tr>\n",
       "    <tr>\n",
       "      <th>Chris Brown</th>\n",
       "      <td>17</td>\n",
       "    </tr>\n",
       "    <tr>\n",
       "      <th>Taylor Swift</th>\n",
       "      <td>16</td>\n",
       "    </tr>\n",
       "    <tr>\n",
       "      <th>Beyoncé</th>\n",
       "      <td>16</td>\n",
       "    </tr>\n",
       "  </tbody>\n",
       "</table>\n",
       "</div>"
      ],
      "text/plain": [
       "                song\n",
       "artist              \n",
       "Rihanna           25\n",
       "Drake             23\n",
       "Eminem            21\n",
       "Calvin Harris     20\n",
       "Britney Spears    19\n",
       "David Guetta      18\n",
       "Kanye West        17\n",
       "Chris Brown       17\n",
       "Taylor Swift      16\n",
       "Beyoncé           16"
      ]
     },
     "execution_count": 44,
     "metadata": {},
     "output_type": "execute_result"
    }
   ],
   "source": [
    "ns = songs.loc[:,['song','artist']]\n",
    "ns =ns.groupby('artist').count().sort_values('song', ascending = False)[:10]\n",
    "ns"
   ]
  },
  {
   "cell_type": "markdown",
   "id": "b553cf95-26a5-4bf4-971d-c17b4b7afeeb",
   "metadata": {},
   "source": [
    "## **Artist By popularity**"
   ]
  },
  {
   "cell_type": "code",
   "execution_count": 45,
   "id": "3beb6697-3c88-4ea8-9257-8a3a0913090a",
   "metadata": {},
   "outputs": [
    {
     "data": {
      "text/html": [
       "<div>\n",
       "<style scoped>\n",
       "    .dataframe tbody tr th:only-of-type {\n",
       "        vertical-align: middle;\n",
       "    }\n",
       "\n",
       "    .dataframe tbody tr th {\n",
       "        vertical-align: top;\n",
       "    }\n",
       "\n",
       "    .dataframe thead th {\n",
       "        text-align: right;\n",
       "    }\n",
       "</style>\n",
       "<table border=\"1\" class=\"dataframe\">\n",
       "  <thead>\n",
       "    <tr style=\"text-align: right;\">\n",
       "      <th></th>\n",
       "      <th>popularity</th>\n",
       "    </tr>\n",
       "    <tr>\n",
       "      <th>artist</th>\n",
       "      <th></th>\n",
       "    </tr>\n",
       "  </thead>\n",
       "  <tbody>\n",
       "    <tr>\n",
       "      <th>Tom Odell</th>\n",
       "      <td>88.0</td>\n",
       "    </tr>\n",
       "    <tr>\n",
       "      <th>The Neighbourhood</th>\n",
       "      <td>87.0</td>\n",
       "    </tr>\n",
       "    <tr>\n",
       "      <th>WILLOW</th>\n",
       "      <td>86.0</td>\n",
       "    </tr>\n",
       "    <tr>\n",
       "      <th>Gesaffelstein</th>\n",
       "      <td>84.0</td>\n",
       "    </tr>\n",
       "    <tr>\n",
       "      <th>Lewis Capaldi</th>\n",
       "      <td>84.0</td>\n",
       "    </tr>\n",
       "  </tbody>\n",
       "</table>\n",
       "</div>"
      ],
      "text/plain": [
       "                   popularity\n",
       "artist                       \n",
       "Tom Odell                88.0\n",
       "The Neighbourhood        87.0\n",
       "WILLOW                   86.0\n",
       "Gesaffelstein            84.0\n",
       "Lewis Capaldi            84.0"
      ]
     },
     "execution_count": 45,
     "metadata": {},
     "output_type": "execute_result"
    }
   ],
   "source": [
    "ps = songs.loc[:,['artist','song', 'popularity']].groupby('artist').mean().sort_values('popularity',ascending = False).head(10)\n",
    "ps.head()"
   ]
  },
  {
   "cell_type": "code",
   "execution_count": 46,
   "id": "7b32d5b7-0cd6-41a2-85e7-d24909375f33",
   "metadata": {},
   "outputs": [
    {
     "data": {
      "text/plain": [
       "<AxesSubplot:xlabel='artist', ylabel='song'>"
      ]
     },
     "execution_count": 46,
     "metadata": {},
     "output_type": "execute_result"
    },
    {
     "data": {
      "image/png": "[encoded data removed]",
      "text/plain": [
       "<Figure size 1080x648 with 2 Axes>"
      ]
     },
     "metadata": {},
     "output_type": "display_data"
    }
   ],
   "source": [
    "sns.set()\n",
    "fig,ax = plt.subplots(2,1, figsize = (15,9))\n",
    "sns.barplot(data = ps, x = ps.index ,y = ps.popularity, ax=ax[0])\n",
    "sns.barplot(data= ns, x = ns.index , y= ns.song,ax=ax[1])"
   ]
  },
  {
   "cell_type": "code",
   "execution_count": null,
   "id": "75540c94-ebc7-4acf-b1e8-7e292463b1f2",
   "metadata": {},
   "outputs": [],
   "source": []
  }
 ],
 "metadata": {
  "kernelspec": {
   "display_name": "Python 3",
   "language": "python",
   "name": "python3"
  },
  "language_info": {
   "codemirror_mode": {
    "name": "ipython",
    "version": 3
   },
   "file_extension": ".py",
   "mimetype": "text/x-python",
   "name": "python",
   "nbconvert_exporter": "python",
   "pygments_lexer": "ipython3",
   "version": "3.8.8"
  }
 },
 "nbformat": 4,
 "nbformat_minor": 5
}
