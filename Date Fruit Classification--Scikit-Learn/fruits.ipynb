{
 "cells": [
  {
   "cell_type": "markdown",
   "id": "d946696d-9941-48ed-add1-6e157bb0a4f2",
   "metadata": {},
   "source": [
    "## **The aim of this study is to classify the types of date fruits by using a Machine learning methods***\n",
    "## **Here I use Scikit Learn Random Forest Classifier*\n",
    "        \n",
    "Fruit names are : Barhee, Deglet Nour, Sukkary, Rotab Mozafati, Ruthana, Safawi, and Sagai \n",
    "\n",
    "A great number of fruits are grown around the world, each of which has various types. \n",
    "The factors that determine the type of fruit are the external appearance features such as color, length, diameter, and shape. \n",
    "\n"
   ]
  },
  {
   "cell_type": "code",
   "execution_count": 1,
   "id": "20ee4d5c-2372-4a06-97d3-26b7626140f7",
   "metadata": {},
   "outputs": [],
   "source": [
    "import numpy as np\n",
    "import pandas as pd\n",
    "from dateutil import parser\n",
    "import matplotlib.pyplot as plt\n",
    "import seaborn as sns"
   ]
  },
  {
   "cell_type": "code",
   "execution_count": 2,
   "id": "c1fc9541-8219-41b0-8483-0d17ac98492f",
   "metadata": {},
   "outputs": [
    {
     "name": "stdout",
     "output_type": "stream",
     "text": [
      "Requirement already satisfied: openpyxl in c:\\users\\godwi\\anaconda3\\envs\\ml\\lib\\site-packages (3.0.10)\n",
      "Requirement already satisfied: et-xmlfile in c:\\users\\godwi\\anaconda3\\envs\\ml\\lib\\site-packages (from openpyxl) (1.1.0)\n"
     ]
    },
    {
     "name": "stderr",
     "output_type": "stream",
     "text": [
      "WARNING: Ignoring invalid distribution -treamlit (c:\\users\\godwi\\anaconda3\\envs\\ml\\lib\\site-packages)\n",
      "WARNING: Ignoring invalid distribution -treamlit (c:\\users\\godwi\\anaconda3\\envs\\ml\\lib\\site-packages)\n"
     ]
    }
   ],
   "source": [
    "!pip install openpyxl"
   ]
  },
  {
   "cell_type": "markdown",
   "id": "fc4313f4-fc5e-4d73-8c30-b448b6cb88ec",
   "metadata": {},
   "source": [
    "# **My work flow**\n",
    "1. clean data\n",
    "2. import the prediction model\n",
    "3. create np seed\n",
    "4. create X and y\n",
    "5. train the model\n",
    "6. fit the model\n",
    "7. evaluate the model\n",
    "8. predict the model"
   ]
  },
  {
   "cell_type": "code",
   "execution_count": 3,
   "id": "685137eb-7797-4e6d-94cd-cf07c85a8238",
   "metadata": {},
   "outputs": [],
   "source": [
    "flow = [\n",
    "    '1. clean data',\n",
    "    '2. import the prediction model',\n",
    "    '3. create np seed',\n",
    "    '4. create X and y',\n",
    "    '5. Preprocessing : train the model',\n",
    "    '6. fit the model',\n",
    "    '7. evaluate the model',\n",
    "    '8. predict the model'\n",
    "]"
   ]
  },
  {
   "cell_type": "code",
   "execution_count": 4,
   "id": "6a7d8574-07ce-4618-90cc-3a5b8ca89f35",
   "metadata": {},
   "outputs": [
    {
     "data": {
      "text/html": [
       "<div>\n",
       "<style scoped>\n",
       "    .dataframe tbody tr th:only-of-type {\n",
       "        vertical-align: middle;\n",
       "    }\n",
       "\n",
       "    .dataframe tbody tr th {\n",
       "        vertical-align: top;\n",
       "    }\n",
       "\n",
       "    .dataframe thead th {\n",
       "        text-align: right;\n",
       "    }\n",
       "</style>\n",
       "<table border=\"1\" class=\"dataframe\">\n",
       "  <thead>\n",
       "    <tr style=\"text-align: right;\">\n",
       "      <th></th>\n",
       "      <th>AREA</th>\n",
       "      <th>PERIMETER</th>\n",
       "      <th>MAJOR_AXIS</th>\n",
       "      <th>MINOR_AXIS</th>\n",
       "      <th>ECCENTRICITY</th>\n",
       "      <th>EQDIASQ</th>\n",
       "      <th>SOLIDITY</th>\n",
       "      <th>CONVEX_AREA</th>\n",
       "      <th>EXTENT</th>\n",
       "      <th>ASPECT_RATIO</th>\n",
       "      <th>...</th>\n",
       "      <th>KurtosisRR</th>\n",
       "      <th>KurtosisRG</th>\n",
       "      <th>KurtosisRB</th>\n",
       "      <th>EntropyRR</th>\n",
       "      <th>EntropyRG</th>\n",
       "      <th>EntropyRB</th>\n",
       "      <th>ALLdaub4RR</th>\n",
       "      <th>ALLdaub4RG</th>\n",
       "      <th>ALLdaub4RB</th>\n",
       "      <th>Class</th>\n",
       "    </tr>\n",
       "  </thead>\n",
       "  <tbody>\n",
       "    <tr>\n",
       "      <th>0</th>\n",
       "      <td>422163</td>\n",
       "      <td>2378.908</td>\n",
       "      <td>837.8484</td>\n",
       "      <td>645.6693</td>\n",
       "      <td>0.6373</td>\n",
       "      <td>733.1539</td>\n",
       "      <td>0.9947</td>\n",
       "      <td>424428</td>\n",
       "      <td>0.7831</td>\n",
       "      <td>1.2976</td>\n",
       "      <td>...</td>\n",
       "      <td>3.2370</td>\n",
       "      <td>2.9574</td>\n",
       "      <td>4.2287</td>\n",
       "      <td>-59191263232</td>\n",
       "      <td>-50714214400</td>\n",
       "      <td>-39922372608</td>\n",
       "      <td>58.7255</td>\n",
       "      <td>54.9554</td>\n",
       "      <td>47.8400</td>\n",
       "      <td>BERHI</td>\n",
       "    </tr>\n",
       "    <tr>\n",
       "      <th>1</th>\n",
       "      <td>338136</td>\n",
       "      <td>2085.144</td>\n",
       "      <td>723.8198</td>\n",
       "      <td>595.2073</td>\n",
       "      <td>0.5690</td>\n",
       "      <td>656.1464</td>\n",
       "      <td>0.9974</td>\n",
       "      <td>339014</td>\n",
       "      <td>0.7795</td>\n",
       "      <td>1.2161</td>\n",
       "      <td>...</td>\n",
       "      <td>2.6228</td>\n",
       "      <td>2.6350</td>\n",
       "      <td>3.1704</td>\n",
       "      <td>-34233065472</td>\n",
       "      <td>-37462601728</td>\n",
       "      <td>-31477794816</td>\n",
       "      <td>50.0259</td>\n",
       "      <td>52.8168</td>\n",
       "      <td>47.8315</td>\n",
       "      <td>BERHI</td>\n",
       "    </tr>\n",
       "    <tr>\n",
       "      <th>2</th>\n",
       "      <td>526843</td>\n",
       "      <td>2647.394</td>\n",
       "      <td>940.7379</td>\n",
       "      <td>715.3638</td>\n",
       "      <td>0.6494</td>\n",
       "      <td>819.0222</td>\n",
       "      <td>0.9962</td>\n",
       "      <td>528876</td>\n",
       "      <td>0.7657</td>\n",
       "      <td>1.3150</td>\n",
       "      <td>...</td>\n",
       "      <td>3.7516</td>\n",
       "      <td>3.8611</td>\n",
       "      <td>4.7192</td>\n",
       "      <td>-93948354560</td>\n",
       "      <td>-74738221056</td>\n",
       "      <td>-60311207936</td>\n",
       "      <td>65.4772</td>\n",
       "      <td>59.2860</td>\n",
       "      <td>51.9378</td>\n",
       "      <td>BERHI</td>\n",
       "    </tr>\n",
       "    <tr>\n",
       "      <th>3</th>\n",
       "      <td>416063</td>\n",
       "      <td>2351.210</td>\n",
       "      <td>827.9804</td>\n",
       "      <td>645.2988</td>\n",
       "      <td>0.6266</td>\n",
       "      <td>727.8378</td>\n",
       "      <td>0.9948</td>\n",
       "      <td>418255</td>\n",
       "      <td>0.7759</td>\n",
       "      <td>1.2831</td>\n",
       "      <td>...</td>\n",
       "      <td>5.0401</td>\n",
       "      <td>8.6136</td>\n",
       "      <td>8.2618</td>\n",
       "      <td>-32074307584</td>\n",
       "      <td>-32060925952</td>\n",
       "      <td>-29575010304</td>\n",
       "      <td>43.3900</td>\n",
       "      <td>44.1259</td>\n",
       "      <td>41.1882</td>\n",
       "      <td>BERHI</td>\n",
       "    </tr>\n",
       "    <tr>\n",
       "      <th>4</th>\n",
       "      <td>347562</td>\n",
       "      <td>2160.354</td>\n",
       "      <td>763.9877</td>\n",
       "      <td>582.8359</td>\n",
       "      <td>0.6465</td>\n",
       "      <td>665.2291</td>\n",
       "      <td>0.9908</td>\n",
       "      <td>350797</td>\n",
       "      <td>0.7569</td>\n",
       "      <td>1.3108</td>\n",
       "      <td>...</td>\n",
       "      <td>2.7016</td>\n",
       "      <td>2.9761</td>\n",
       "      <td>4.4146</td>\n",
       "      <td>-39980974080</td>\n",
       "      <td>-35980042240</td>\n",
       "      <td>-25593278464</td>\n",
       "      <td>52.7743</td>\n",
       "      <td>50.9080</td>\n",
       "      <td>42.6666</td>\n",
       "      <td>BERHI</td>\n",
       "    </tr>\n",
       "  </tbody>\n",
       "</table>\n",
       "<p>5 rows × 35 columns</p>\n",
       "</div>"
      ],
      "text/plain": [
       "     AREA  PERIMETER  MAJOR_AXIS  MINOR_AXIS  ECCENTRICITY   EQDIASQ  \\\n",
       "0  422163   2378.908    837.8484    645.6693        0.6373  733.1539   \n",
       "1  338136   2085.144    723.8198    595.2073        0.5690  656.1464   \n",
       "2  526843   2647.394    940.7379    715.3638        0.6494  819.0222   \n",
       "3  416063   2351.210    827.9804    645.2988        0.6266  727.8378   \n",
       "4  347562   2160.354    763.9877    582.8359        0.6465  665.2291   \n",
       "\n",
       "   SOLIDITY  CONVEX_AREA  EXTENT  ASPECT_RATIO  ...  KurtosisRR  KurtosisRG  \\\n",
       "0    0.9947       424428  0.7831        1.2976  ...      3.2370      2.9574   \n",
       "1    0.9974       339014  0.7795        1.2161  ...      2.6228      2.6350   \n",
       "2    0.9962       528876  0.7657        1.3150  ...      3.7516      3.8611   \n",
       "3    0.9948       418255  0.7759        1.2831  ...      5.0401      8.6136   \n",
       "4    0.9908       350797  0.7569        1.3108  ...      2.7016      2.9761   \n",
       "\n",
       "   KurtosisRB    EntropyRR    EntropyRG    EntropyRB  ALLdaub4RR  ALLdaub4RG  \\\n",
       "0      4.2287 -59191263232 -50714214400 -39922372608     58.7255     54.9554   \n",
       "1      3.1704 -34233065472 -37462601728 -31477794816     50.0259     52.8168   \n",
       "2      4.7192 -93948354560 -74738221056 -60311207936     65.4772     59.2860   \n",
       "3      8.2618 -32074307584 -32060925952 -29575010304     43.3900     44.1259   \n",
       "4      4.4146 -39980974080 -35980042240 -25593278464     52.7743     50.9080   \n",
       "\n",
       "   ALLdaub4RB  Class  \n",
       "0     47.8400  BERHI  \n",
       "1     47.8315  BERHI  \n",
       "2     51.9378  BERHI  \n",
       "3     41.1882  BERHI  \n",
       "4     42.6666  BERHI  \n",
       "\n",
       "[5 rows x 35 columns]"
      ]
     },
     "execution_count": 4,
     "metadata": {},
     "output_type": "execute_result"
    }
   ],
   "source": [
    "fruit = pd.read_excel ('Date_Fruit_Datasets.xlsx')\n",
    "fruit.head()"
   ]
  },
  {
   "cell_type": "markdown",
   "id": "6b36125c-eab7-4a12-8a17-9d2b66f0c89c",
   "metadata": {},
   "source": [
    "## **1. Lets prepare and clean the data**"
   ]
  },
  {
   "cell_type": "code",
   "execution_count": 5,
   "id": "6d271550-898a-40bf-a914-c7bcbb55f592",
   "metadata": {},
   "outputs": [
    {
     "data": {
      "text/plain": [
       "AREA              int64\n",
       "PERIMETER       float64\n",
       "MAJOR_AXIS      float64\n",
       "MINOR_AXIS      float64\n",
       "ECCENTRICITY    float64\n",
       "EQDIASQ         float64\n",
       "SOLIDITY        float64\n",
       "CONVEX_AREA       int64\n",
       "EXTENT          float64\n",
       "ASPECT_RATIO    float64\n",
       "dtype: object"
      ]
     },
     "execution_count": 5,
     "metadata": {},
     "output_type": "execute_result"
    }
   ],
   "source": [
    "# check the data type\n",
    "fruit.dtypes[:10]"
   ]
  },
  {
   "cell_type": "code",
   "execution_count": 6,
   "id": "e2e89cfd-c951-4c8b-b55e-ce5527301d41",
   "metadata": {},
   "outputs": [
    {
     "data": {
      "text/plain": [
       "(898, 35)"
      ]
     },
     "execution_count": 6,
     "metadata": {},
     "output_type": "execute_result"
    }
   ],
   "source": [
    "# check the shape\n",
    "fruit.shape"
   ]
  },
  {
   "cell_type": "code",
   "execution_count": 7,
   "id": "a978736c-52dd-4724-8ba9-8bfcfc551b1a",
   "metadata": {},
   "outputs": [
    {
     "data": {
      "text/plain": [
       "AREA            0\n",
       "PERIMETER       0\n",
       "MAJOR_AXIS      0\n",
       "MINOR_AXIS      0\n",
       "ECCENTRICITY    0\n",
       "EQDIASQ         0\n",
       "SOLIDITY        0\n",
       "CONVEX_AREA     0\n",
       "EXTENT          0\n",
       "ASPECT_RATIO    0\n",
       "dtype: int64"
      ]
     },
     "execution_count": 7,
     "metadata": {},
     "output_type": "execute_result"
    }
   ],
   "source": [
    "# check for NaNs\n",
    "fruit.isna().sum() [:10]"
   ]
  },
  {
   "cell_type": "code",
   "execution_count": 8,
   "id": "7a42db4f-333f-4e44-8288-1250af072086",
   "metadata": {},
   "outputs": [
    {
     "data": {
      "text/plain": [
       "((898, 34), (898,))"
      ]
     },
     "execution_count": 8,
     "metadata": {},
     "output_type": "execute_result"
    }
   ],
   "source": [
    "X = fruit.drop('Class', axis = 1)\n",
    "y = fruit['Class']\n",
    "X.shape, y.shape"
   ]
  },
  {
   "cell_type": "code",
   "execution_count": 9,
   "id": "13a22107-a5f0-4560-900a-cb66bf6f5114",
   "metadata": {},
   "outputs": [
    {
     "data": {
      "text/html": [
       "<div>\n",
       "<style scoped>\n",
       "    .dataframe tbody tr th:only-of-type {\n",
       "        vertical-align: middle;\n",
       "    }\n",
       "\n",
       "    .dataframe tbody tr th {\n",
       "        vertical-align: top;\n",
       "    }\n",
       "\n",
       "    .dataframe thead th {\n",
       "        text-align: right;\n",
       "    }\n",
       "</style>\n",
       "<table border=\"1\" class=\"dataframe\">\n",
       "  <thead>\n",
       "    <tr style=\"text-align: right;\">\n",
       "      <th></th>\n",
       "      <th>count</th>\n",
       "    </tr>\n",
       "    <tr>\n",
       "      <th>Class</th>\n",
       "      <th></th>\n",
       "    </tr>\n",
       "  </thead>\n",
       "  <tbody>\n",
       "    <tr>\n",
       "      <th>DOKOL</th>\n",
       "      <td>204</td>\n",
       "    </tr>\n",
       "    <tr>\n",
       "      <th>SAFAVI</th>\n",
       "      <td>199</td>\n",
       "    </tr>\n",
       "    <tr>\n",
       "      <th>ROTANA</th>\n",
       "      <td>166</td>\n",
       "    </tr>\n",
       "    <tr>\n",
       "      <th>DEGLET</th>\n",
       "      <td>98</td>\n",
       "    </tr>\n",
       "    <tr>\n",
       "      <th>SOGAY</th>\n",
       "      <td>94</td>\n",
       "    </tr>\n",
       "    <tr>\n",
       "      <th>IRAQI</th>\n",
       "      <td>72</td>\n",
       "    </tr>\n",
       "    <tr>\n",
       "      <th>BERHI</th>\n",
       "      <td>65</td>\n",
       "    </tr>\n",
       "  </tbody>\n",
       "</table>\n",
       "</div>"
      ],
      "text/plain": [
       "        count\n",
       "Class        \n",
       "DOKOL     204\n",
       "SAFAVI    199\n",
       "ROTANA    166\n",
       "DEGLET     98\n",
       "SOGAY      94\n",
       "IRAQI      72\n",
       "BERHI      65"
      ]
     },
     "execution_count": 9,
     "metadata": {},
     "output_type": "execute_result"
    }
   ],
   "source": [
    "# Types of fruits\n",
    "fc = fruit.Class.value_counts().to_frame()\n",
    "fc"
   ]
  },
  {
   "cell_type": "code",
   "execution_count": 10,
   "id": "3ec90c1b-aae9-4af1-9118-166636f53363",
   "metadata": {},
   "outputs": [
    {
     "data": {
      "image/png": "[encoded data removed]",
      "text/plain": [
       "<Figure size 432x288 with 1 Axes>"
      ]
     },
     "metadata": {
      "needs_background": "light"
     },
     "output_type": "display_data"
    }
   ],
   "source": [
    "fc.plot(kind = 'bar', xlabel = 'Classes of fruits', ylabel = 'Number', color = 'purple');"
   ]
  },
  {
   "cell_type": "markdown",
   "id": "1b0df577-14b1-47ae-9dd3-8aec28b9f119",
   "metadata": {},
   "source": [
    "## **1a. Lets convert the target = class to numeric =>  using label encoder**"
   ]
  },
  {
   "cell_type": "raw",
   "id": "66d50619-1cb3-4e68-94ff-d76d2c8b5caf",
   "metadata": {},
   "source": [
    "# changing the car categories into to numbers\n",
    "from sklearn.preprocessing import LabelEncoder\n",
    "\n",
    "lb_make = LabelEncoder()\n",
    "fruit[\"target\"] = lb_make.fit_transform(fruit[\"Class\"])\n",
    "target = fruit[[\"target\"]]\n",
    "target.head()"
   ]
  },
  {
   "cell_type": "code",
   "execution_count": 11,
   "id": "6e025936-1be5-43d5-a0b8-f2881a596bc5",
   "metadata": {},
   "outputs": [
    {
     "data": {
      "text/plain": [
       "<898x7 sparse matrix of type '<class 'numpy.float64'>'\n",
       "\twith 898 stored elements in Compressed Sparse Row format>"
      ]
     },
     "execution_count": 11,
     "metadata": {},
     "output_type": "execute_result"
    }
   ],
   "source": [
    "# changing the car categories into to numbers\n",
    "from sklearn.preprocessing import OneHotEncoder\n",
    "from sklearn.compose import ColumnTransformer\n",
    "\n",
    "# now defime our categorical features\n",
    "categorical_features  = ['Class']\n",
    "one_hot = OneHotEncoder()\n",
    "transformer = ColumnTransformer ([(\"one_hot\",\n",
    "                                   one_hot,\n",
    "                                   categorical_features)],\n",
    "                                 remainder= 'passthrough')   # will take in a turple\n",
    "                                 \n",
    "                                 \n",
    "transformed_y = transformer.fit_transform(y.to_frame())\n",
    "transformed_y    # this is X that has undergone cleaning"
   ]
  },
  {
   "cell_type": "markdown",
   "id": "3a61083e-a852-40dd-8ac3-7dd56f628482",
   "metadata": {},
   "source": [
    "## **2. Import the prediction model**"
   ]
  },
  {
   "cell_type": "code",
   "execution_count": 12,
   "id": "7ec79572-efd8-4d0f-aeb0-1f6a3dd085f5",
   "metadata": {},
   "outputs": [],
   "source": [
    "from sklearn.ensemble import RandomForestClassifier"
   ]
  },
  {
   "cell_type": "markdown",
   "id": "2922afae-111a-4174-b040-8a942227fb25",
   "metadata": {},
   "source": [
    "## **3. Lets create np seed**"
   ]
  },
  {
   "cell_type": "code",
   "execution_count": 13,
   "id": "9404e2f3-57b2-45d2-a3da-26d9b71b9da0",
   "metadata": {},
   "outputs": [],
   "source": [
    "np.random.seed(42)"
   ]
  },
  {
   "cell_type": "markdown",
   "id": "ef5283be-12a2-417f-b461-e94b2a2c484b",
   "metadata": {},
   "source": [
    "## **4. Create X and y**"
   ]
  },
  {
   "cell_type": "markdown",
   "id": "2d71ddc0-a0b4-4676-917c-df46f2372999",
   "metadata": {},
   "source": [
    "## **5. Train and split model**"
   ]
  },
  {
   "cell_type": "code",
   "execution_count": 14,
   "id": "d790fd8d-d123-4c1a-a249-a6b1d498e696",
   "metadata": {},
   "outputs": [],
   "source": [
    "from sklearn.model_selection import train_test_split\n",
    "\n",
    "X_train, X_test, y_train, y_test = train_test_split(X, transformed_y , test_size = 0.2)"
   ]
  },
  {
   "cell_type": "code",
   "execution_count": 15,
   "id": "f90da600-97d6-42c0-b473-5b378ce614b2",
   "metadata": {},
   "outputs": [
    {
     "data": {
      "text/plain": [
       "((898, 34), (898,))"
      ]
     },
     "execution_count": 15,
     "metadata": {},
     "output_type": "execute_result"
    }
   ],
   "source": [
    "X.shape, y.shape"
   ]
  },
  {
   "cell_type": "markdown",
   "id": "53132361-1f5e-4b74-9e9e-30abdf84b2d6",
   "metadata": {},
   "source": [
    "## **6. Fit model**"
   ]
  },
  {
   "cell_type": "code",
   "execution_count": 19,
   "id": "e7c3c2d5-0099-4b06-9af5-7e63d93dc93c",
   "metadata": {},
   "outputs": [
    {
     "name": "stderr",
     "output_type": "stream",
     "text": [
      "c:\\Users\\godwi\\anaconda3\\envs\\ML\\lib\\site-packages\\sklearn\\utils\\validation.py:757: FutureWarning: is_sparse is deprecated and will be removed in a future version. Check `isinstance(dtype, pd.SparseDtype)` instead.\n",
      "  if not hasattr(array, \"sparse\") and array.dtypes.apply(is_sparse).any():\n",
      "c:\\Users\\godwi\\anaconda3\\envs\\ML\\lib\\site-packages\\sklearn\\utils\\validation.py:595: FutureWarning: is_sparse is deprecated and will be removed in a future version. Check `isinstance(dtype, pd.SparseDtype)` instead.\n",
      "  if is_sparse(pd_dtype):\n",
      "c:\\Users\\godwi\\anaconda3\\envs\\ML\\lib\\site-packages\\sklearn\\utils\\validation.py:604: FutureWarning: is_sparse is deprecated and will be removed in a future version. Check `isinstance(dtype, pd.SparseDtype)` instead.\n",
      "  if is_sparse(pd_dtype) or not is_extension_array_dtype(pd_dtype):\n"
     ]
    },
    {
     "ename": "AttributeError",
     "evalue": "'bool' object has no attribute 'any'",
     "output_type": "error",
     "traceback": [
      "\u001b[1;31m---------------------------------------------------------------------------\u001b[0m",
      "\u001b[1;31mAttributeError\u001b[0m                            Traceback (most recent call last)",
      "\u001b[1;32mc:\\Users\\godwi\\Data_Science_ML\\Machine_Learning_Supervised\\Date Fruit Classification--Scikit-Learn\\fruits.ipynb Cell 26\u001b[0m line \u001b[0;36m<cell line: 2>\u001b[1;34m()\u001b[0m\n\u001b[0;32m      <a href='vscode-notebook-cell:/c%3A/Users/godwi/Data_Science_ML/Machine_Learning_Supervised/Date%20Fruit%20Classification--Scikit-Learn/fruits.ipynb#X34sZmlsZQ%3D%3D?line=0'>1</a>\u001b[0m clf \u001b[39m=\u001b[39m RandomForestClassifier(n_estimators \u001b[39m=\u001b[39m \u001b[39m100\u001b[39m)\n\u001b[1;32m----> <a href='vscode-notebook-cell:/c%3A/Users/godwi/Data_Science_ML/Machine_Learning_Supervised/Date%20Fruit%20Classification--Scikit-Learn/fruits.ipynb#X34sZmlsZQ%3D%3D?line=1'>2</a>\u001b[0m clf\u001b[39m.\u001b[39;49mfit(X_train, np\u001b[39m.\u001b[39;49mravel(y_train))\n",
      "File \u001b[1;32mc:\\Users\\godwi\\anaconda3\\envs\\ML\\lib\\site-packages\\sklearn\\ensemble\\_forest.py:331\u001b[0m, in \u001b[0;36mBaseForest.fit\u001b[1;34m(self, X, y, sample_weight)\u001b[0m\n\u001b[0;32m    329\u001b[0m \u001b[39mif\u001b[39;00m issparse(y):\n\u001b[0;32m    330\u001b[0m     \u001b[39mraise\u001b[39;00m \u001b[39mValueError\u001b[39;00m(\u001b[39m\"\u001b[39m\u001b[39msparse multilabel-indicator for y is not supported.\u001b[39m\u001b[39m\"\u001b[39m)\n\u001b[1;32m--> 331\u001b[0m X, y \u001b[39m=\u001b[39m \u001b[39mself\u001b[39;49m\u001b[39m.\u001b[39;49m_validate_data(\n\u001b[0;32m    332\u001b[0m     X, y, multi_output\u001b[39m=\u001b[39;49m\u001b[39mTrue\u001b[39;49;00m, accept_sparse\u001b[39m=\u001b[39;49m\u001b[39m\"\u001b[39;49m\u001b[39mcsc\u001b[39;49m\u001b[39m\"\u001b[39;49m, dtype\u001b[39m=\u001b[39;49mDTYPE\n\u001b[0;32m    333\u001b[0m )\n\u001b[0;32m    334\u001b[0m \u001b[39mif\u001b[39;00m sample_weight \u001b[39mis\u001b[39;00m \u001b[39mnot\u001b[39;00m \u001b[39mNone\u001b[39;00m:\n\u001b[0;32m    335\u001b[0m     sample_weight \u001b[39m=\u001b[39m _check_sample_weight(sample_weight, X)\n",
      "File \u001b[1;32mc:\\Users\\godwi\\anaconda3\\envs\\ML\\lib\\site-packages\\sklearn\\base.py:596\u001b[0m, in \u001b[0;36mBaseEstimator._validate_data\u001b[1;34m(self, X, y, reset, validate_separately, **check_params)\u001b[0m\n\u001b[0;32m    594\u001b[0m         y \u001b[39m=\u001b[39m check_array(y, input_name\u001b[39m=\u001b[39m\u001b[39m\"\u001b[39m\u001b[39my\u001b[39m\u001b[39m\"\u001b[39m, \u001b[39m*\u001b[39m\u001b[39m*\u001b[39mcheck_y_params)\n\u001b[0;32m    595\u001b[0m     \u001b[39melse\u001b[39;00m:\n\u001b[1;32m--> 596\u001b[0m         X, y \u001b[39m=\u001b[39m check_X_y(X, y, \u001b[39m*\u001b[39m\u001b[39m*\u001b[39mcheck_params)\n\u001b[0;32m    597\u001b[0m     out \u001b[39m=\u001b[39m X, y\n\u001b[0;32m    599\u001b[0m \u001b[39mif\u001b[39;00m \u001b[39mnot\u001b[39;00m no_val_X \u001b[39mand\u001b[39;00m check_params\u001b[39m.\u001b[39mget(\u001b[39m\"\u001b[39m\u001b[39mensure_2d\u001b[39m\u001b[39m\"\u001b[39m, \u001b[39mTrue\u001b[39;00m):\n",
      "File \u001b[1;32mc:\\Users\\godwi\\anaconda3\\envs\\ML\\lib\\site-packages\\sklearn\\utils\\validation.py:1090\u001b[0m, in \u001b[0;36mcheck_X_y\u001b[1;34m(X, y, accept_sparse, accept_large_sparse, dtype, order, copy, force_all_finite, ensure_2d, allow_nd, multi_output, ensure_min_samples, ensure_min_features, y_numeric, estimator)\u001b[0m\n\u001b[0;32m   1070\u001b[0m     \u001b[39mraise\u001b[39;00m \u001b[39mValueError\u001b[39;00m(\n\u001b[0;32m   1071\u001b[0m         \u001b[39mf\u001b[39m\u001b[39m\"\u001b[39m\u001b[39m{\u001b[39;00mestimator_name\u001b[39m}\u001b[39;00m\u001b[39m requires y to be passed, but the target y is None\u001b[39m\u001b[39m\"\u001b[39m\n\u001b[0;32m   1072\u001b[0m     )\n\u001b[0;32m   1074\u001b[0m X \u001b[39m=\u001b[39m check_array(\n\u001b[0;32m   1075\u001b[0m     X,\n\u001b[0;32m   1076\u001b[0m     accept_sparse\u001b[39m=\u001b[39maccept_sparse,\n\u001b[1;32m   (...)\u001b[0m\n\u001b[0;32m   1087\u001b[0m     input_name\u001b[39m=\u001b[39m\u001b[39m\"\u001b[39m\u001b[39mX\u001b[39m\u001b[39m\"\u001b[39m,\n\u001b[0;32m   1088\u001b[0m )\n\u001b[1;32m-> 1090\u001b[0m y \u001b[39m=\u001b[39m _check_y(y, multi_output\u001b[39m=\u001b[39;49mmulti_output, y_numeric\u001b[39m=\u001b[39;49my_numeric, estimator\u001b[39m=\u001b[39;49mestimator)\n\u001b[0;32m   1092\u001b[0m check_consistent_length(X, y)\n\u001b[0;32m   1094\u001b[0m \u001b[39mreturn\u001b[39;00m X, y\n",
      "File \u001b[1;32mc:\\Users\\godwi\\anaconda3\\envs\\ML\\lib\\site-packages\\sklearn\\utils\\validation.py:1100\u001b[0m, in \u001b[0;36m_check_y\u001b[1;34m(y, multi_output, y_numeric, estimator)\u001b[0m\n\u001b[0;32m   1098\u001b[0m \u001b[39m\"\"\"Isolated part of check_X_y dedicated to y validation\"\"\"\u001b[39;00m\n\u001b[0;32m   1099\u001b[0m \u001b[39mif\u001b[39;00m multi_output:\n\u001b[1;32m-> 1100\u001b[0m     y \u001b[39m=\u001b[39m check_array(\n\u001b[0;32m   1101\u001b[0m         y,\n\u001b[0;32m   1102\u001b[0m         accept_sparse\u001b[39m=\u001b[39;49m\u001b[39m\"\u001b[39;49m\u001b[39mcsr\u001b[39;49m\u001b[39m\"\u001b[39;49m,\n\u001b[0;32m   1103\u001b[0m         force_all_finite\u001b[39m=\u001b[39;49m\u001b[39mTrue\u001b[39;49;00m,\n\u001b[0;32m   1104\u001b[0m         ensure_2d\u001b[39m=\u001b[39;49m\u001b[39mFalse\u001b[39;49;00m,\n\u001b[0;32m   1105\u001b[0m         dtype\u001b[39m=\u001b[39;49m\u001b[39mNone\u001b[39;49;00m,\n\u001b[0;32m   1106\u001b[0m         input_name\u001b[39m=\u001b[39;49m\u001b[39m\"\u001b[39;49m\u001b[39my\u001b[39;49m\u001b[39m\"\u001b[39;49m,\n\u001b[0;32m   1107\u001b[0m         estimator\u001b[39m=\u001b[39;49mestimator,\n\u001b[0;32m   1108\u001b[0m     )\n\u001b[0;32m   1109\u001b[0m \u001b[39melse\u001b[39;00m:\n\u001b[0;32m   1110\u001b[0m     estimator_name \u001b[39m=\u001b[39m _check_estimator_name(estimator)\n",
      "File \u001b[1;32mc:\\Users\\godwi\\anaconda3\\envs\\ML\\lib\\site-packages\\sklearn\\utils\\validation.py:899\u001b[0m, in \u001b[0;36mcheck_array\u001b[1;34m(array, accept_sparse, accept_large_sparse, dtype, order, copy, force_all_finite, ensure_2d, allow_nd, ensure_min_samples, ensure_min_features, estimator, input_name)\u001b[0m\n\u001b[0;32m    893\u001b[0m         \u001b[39mraise\u001b[39;00m \u001b[39mValueError\u001b[39;00m(\n\u001b[0;32m    894\u001b[0m             \u001b[39m\"\u001b[39m\u001b[39mFound array with dim \u001b[39m\u001b[39m%d\u001b[39;00m\u001b[39m. \u001b[39m\u001b[39m%s\u001b[39;00m\u001b[39m expected <= 2.\u001b[39m\u001b[39m\"\u001b[39m\n\u001b[0;32m    895\u001b[0m             \u001b[39m%\u001b[39m (array\u001b[39m.\u001b[39mndim, estimator_name)\n\u001b[0;32m    896\u001b[0m         )\n\u001b[0;32m    898\u001b[0m     \u001b[39mif\u001b[39;00m force_all_finite:\n\u001b[1;32m--> 899\u001b[0m         _assert_all_finite(\n\u001b[0;32m    900\u001b[0m             array,\n\u001b[0;32m    901\u001b[0m             input_name\u001b[39m=\u001b[39;49minput_name,\n\u001b[0;32m    902\u001b[0m             estimator_name\u001b[39m=\u001b[39;49mestimator_name,\n\u001b[0;32m    903\u001b[0m             allow_nan\u001b[39m=\u001b[39;49mforce_all_finite \u001b[39m==\u001b[39;49m \u001b[39m\"\u001b[39;49m\u001b[39mallow-nan\u001b[39;49m\u001b[39m\"\u001b[39;49m,\n\u001b[0;32m    904\u001b[0m         )\n\u001b[0;32m    906\u001b[0m \u001b[39mif\u001b[39;00m ensure_min_samples \u001b[39m>\u001b[39m \u001b[39m0\u001b[39m:\n\u001b[0;32m    907\u001b[0m     n_samples \u001b[39m=\u001b[39m _num_samples(array)\n",
      "File \u001b[1;32mc:\\Users\\godwi\\anaconda3\\envs\\ML\\lib\\site-packages\\sklearn\\utils\\validation.py:150\u001b[0m, in \u001b[0;36m_assert_all_finite\u001b[1;34m(X, allow_nan, msg_dtype, estimator_name, input_name)\u001b[0m\n\u001b[0;32m    148\u001b[0m \u001b[39m# for object dtype data, we only check for NaNs (GH-13254)\u001b[39;00m\n\u001b[0;32m    149\u001b[0m \u001b[39melif\u001b[39;00m X\u001b[39m.\u001b[39mdtype \u001b[39m==\u001b[39m np\u001b[39m.\u001b[39mdtype(\u001b[39m\"\u001b[39m\u001b[39mobject\u001b[39m\u001b[39m\"\u001b[39m) \u001b[39mand\u001b[39;00m \u001b[39mnot\u001b[39;00m allow_nan:\n\u001b[1;32m--> 150\u001b[0m     \u001b[39mif\u001b[39;00m _object_dtype_isnan(X)\u001b[39m.\u001b[39;49many():\n\u001b[0;32m    151\u001b[0m         \u001b[39mraise\u001b[39;00m \u001b[39mValueError\u001b[39;00m(\u001b[39m\"\u001b[39m\u001b[39mInput contains NaN\u001b[39m\u001b[39m\"\u001b[39m)\n",
      "\u001b[1;31mAttributeError\u001b[0m: 'bool' object has no attribute 'any'"
     ]
    }
   ],
   "source": [
    "clf = RandomForestClassifier(n_estimators = 100)\n",
    "clf.fit(X_train, np.ravel(y_train))"
   ]
  },
  {
   "cell_type": "code",
   "execution_count": null,
   "id": "2ee557bc-6de1-4f9b-9fc0-880620f55a3d",
   "metadata": {},
   "outputs": [],
   "source": [
    "y_train = np.ravel(y_train,order=\"c\")"
   ]
  },
  {
   "cell_type": "markdown",
   "id": "2c4fe701-e084-4e9e-9a7f-da441ca55b8e",
   "metadata": {},
   "source": [
    "## **7. Evaluate the model**"
   ]
  },
  {
   "cell_type": "code",
   "execution_count": null,
   "id": "d2df781f-bc05-4a5e-9703-c69537bd0c0d",
   "metadata": {},
   "outputs": [],
   "source": [
    "clf.score(X_test, y_test)  ,  clf.score(X_train, y_train)"
   ]
  },
  {
   "cell_type": "markdown",
   "id": "04a16496-8490-470e-9d41-41826cd17efa",
   "metadata": {},
   "source": [
    "## **8. Predict the model classifications**"
   ]
  },
  {
   "cell_type": "code",
   "execution_count": null,
   "id": "07fa5b16-6c38-4a21-832d-d471378fae53",
   "metadata": {},
   "outputs": [],
   "source": [
    "y_preds = clf.predict((X_test)) # always predict on X_test\n",
    "y_preds[:10] "
   ]
  },
  {
   "cell_type": "code",
   "execution_count": null,
   "id": "ef0fb0db-c085-4c6d-b2c5-a63f21f85127",
   "metadata": {},
   "outputs": [],
   "source": [
    "np.array(y_test[:10]).T"
   ]
  },
  {
   "cell_type": "markdown",
   "id": "d5d65b65-e697-4a29-91be-e023e64bb26e",
   "metadata": {},
   "source": [
    "## **Evaluate the model for accuracy**"
   ]
  },
  {
   "cell_type": "code",
   "execution_count": null,
   "id": "e3150005-6580-49a0-ae04-02c207cadc4a",
   "metadata": {},
   "outputs": [],
   "source": [
    "# Evaluation of the model for accuracy\n",
    "from sklearn.metrics import classification_report, confusion_matrix , accuracy_score\n",
    "from sklearn.model_selection import cross_val_score\n",
    "\n",
    "print(f'Training Score:{clf.score(X_train, y_train)}') # inbuilt accuracy score\n",
    "print(f'Test Score: {clf.score(X_test, y_test)}')     # inbuilt accuracy score\n",
    "print(f\"Classifier Cross Validation_Score: {np.mean(cross_val_score(clf,X,y,cv= 5))}\") # cross validation\n",
    "print(f'Accuracy_score_metric : {accuracy_score(y_test, y_preds)}')# for classifications only"
   ]
  },
  {
   "cell_type": "markdown",
   "id": "c6e650da-c8b9-4f2b-bf98-60e554678b32",
   "metadata": {},
   "source": [
    "# **fitting the prediction into the test data**"
   ]
  },
  {
   "cell_type": "code",
   "execution_count": null,
   "id": "73c34706-0dc8-41e2-b28d-9ef30854cf50",
   "metadata": {},
   "outputs": [],
   "source": [
    "predict1 = clf.predict(X)\n",
    "predict2 = pd.DataFrame(predict1,columns = ['predicted'])\n",
    "predict2.head()"
   ]
  },
  {
   "cell_type": "code",
   "execution_count": null,
   "id": "0ce75c83-f7ea-49ba-b542-a744eeb6986e",
   "metadata": {},
   "outputs": [],
   "source": [
    "pd.concat ([fruit, predict2],ignore_index = False, axis = 1).head()"
   ]
  },
  {
   "cell_type": "code",
   "execution_count": null,
   "id": "84743656-361e-48c4-b3a6-4a14c84f54fd",
   "metadata": {},
   "outputs": [],
   "source": [
    "check_pred_df = (pd.concat ([fruit, predict2],ignore_index = False, axis = 1).loc[:,['Class', 'predicted']].Class == \\\n",
    "pd.concat ([fruit, predict2],ignore_index = False, axis = 1).loc[:,['Class', 'predicted']].predicted).value_counts()\n",
    "check_pred_df"
   ]
  },
  {
   "cell_type": "code",
   "execution_count": null,
   "id": "7a25e918-ff33-4be1-9841-4a19d92c2fe4",
   "metadata": {},
   "outputs": [],
   "source": [
    "predict2.value_counts()"
   ]
  },
  {
   "cell_type": "code",
   "execution_count": null,
   "id": "bac7fcf7-435d-4d2f-82c5-73ffc8a18664",
   "metadata": {},
   "outputs": [],
   "source": [
    "fruit.Class.value_counts()"
   ]
  },
  {
   "cell_type": "markdown",
   "id": "1abb4a48-4c06-4f55-9022-2b27106bdd1f",
   "metadata": {},
   "source": [
    "## **Confusion Matrix**"
   ]
  },
  {
   "cell_type": "code",
   "execution_count": null,
   "id": "daad05ff-645b-4f9c-b9d6-8295eb2b820c",
   "metadata": {},
   "outputs": [],
   "source": [
    "# confusion Matrix\n",
    "cm = confusion_matrix(y_test, y_preds)\n",
    "cmatrix = pd.DataFrame(cm, index= ['BERHI', 'DEGLET', 'DOKOL', 'IRAQI', 'ROTANA', 'SAFAVI', 'SOGAY'], \\\n",
    "columns =['BERHI', 'DEGLET', 'DOKOL', 'IRAQI', 'ROTANA', 'SAFAVI', 'SOGAY'])\n",
    "cmatrix"
   ]
  },
  {
   "cell_type": "code",
   "execution_count": null,
   "id": "bd913004-69a3-4fbc-894e-d48a6af963e3",
   "metadata": {},
   "outputs": [],
   "source": [
    "# plot the cm\n",
    "fig, ax = plt.subplots(figsize = (12,6))\n",
    "sns.heatmap(cmatrix, linewidth=0.3, cmap = 'Reds',xticklabels = True, annot =True)\n",
    "ax.set(title = 'Confusion Matrix', xlabel = 'Predicted Class', ylabel = 'Actual Class');"
   ]
  },
  {
   "cell_type": "markdown",
   "id": "752e11de-be31-47e3-abd6-e363acddf002",
   "metadata": {},
   "source": [
    "## **Classification report**"
   ]
  },
  {
   "cell_type": "code",
   "execution_count": null,
   "id": "08b222e9-3326-4648-940f-e15f28213ae1",
   "metadata": {},
   "outputs": [],
   "source": [
    "cr = classification_report(y_test, y_preds)\n",
    "print(cr)"
   ]
  },
  {
   "cell_type": "code",
   "execution_count": null,
   "id": "94883456-fa17-4077-b247-82e9895dfd4e",
   "metadata": {},
   "outputs": [],
   "source": []
  },
  {
   "cell_type": "markdown",
   "id": "eb995e0a-9332-4663-b09a-47e84e2a7677",
   "metadata": {},
   "source": [
    "## **Finding and conclusion**\n",
    "1. => The model training score is 100% ie, considers all elements of the datsets\n",
    "2. => The model test score is 90.5% accuracy level"
   ]
  },
  {
   "cell_type": "code",
   "execution_count": null,
   "id": "f8bedf48-14a7-452a-8e00-6db3e54ae6ea",
   "metadata": {},
   "outputs": [],
   "source": []
  },
  {
   "cell_type": "code",
   "execution_count": null,
   "id": "9467ceae-5d02-49bc-90c2-1cd706c44576",
   "metadata": {},
   "outputs": [],
   "source": []
  },
  {
   "cell_type": "code",
   "execution_count": null,
   "id": "74a6be4b-785d-4f74-a260-dc1f16a11903",
   "metadata": {},
   "outputs": [],
   "source": []
  }
 ],
 "metadata": {
  "kernelspec": {
   "display_name": "Python 3",
   "language": "python",
   "name": "python3"
  },
  "language_info": {
   "codemirror_mode": {
    "name": "ipython",
    "version": 3
   },
   "file_extension": ".py",
   "mimetype": "text/x-python",
   "name": "python",
   "nbconvert_exporter": "python",
   "pygments_lexer": "ipython3",
   "version": "3.9.12"
  }
 },
 "nbformat": 4,
 "nbformat_minor": 5
}
