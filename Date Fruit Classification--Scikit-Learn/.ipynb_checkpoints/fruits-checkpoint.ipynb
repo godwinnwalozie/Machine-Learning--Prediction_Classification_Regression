{
 "cells": [
  {
   "cell_type": "markdown",
   "id": "d946696d-9941-48ed-add1-6e157bb0a4f2",
   "metadata": {},
   "source": [
    "## **The aim of this study is to classify the types of date fruits by using a Machine learning methods***\n",
    "## **Here I use Scikit Learn Random Forest Classifier*\n",
    "        \n",
    "Fruit names are : Barhee, Deglet Nour, Sukkary, Rotab Mozafati, Ruthana, Safawi, and Sagai \n",
    "\n",
    "A great number of fruits are grown around the world, each of which has various types. \n",
    "The factors that determine the type of fruit are the external appearance features such as color, length, diameter, and shape. \n",
    "\n"
   ]
  },
  {
   "cell_type": "code",
   "execution_count": 101,
   "id": "20ee4d5c-2372-4a06-97d3-26b7626140f7",
   "metadata": {},
   "outputs": [],
   "source": [
    "import numpy as np\n",
    "import pandas as pd\n",
    "from dateutil import parser\n",
    "import matplotlib.pyplot as plt\n",
    "import seaborn as sns\n",
    "sns.set_theme()"
   ]
  },
  {
   "cell_type": "markdown",
   "id": "fc4313f4-fc5e-4d73-8c30-b448b6cb88ec",
   "metadata": {},
   "source": [
    "# **My work flow**\n",
    "1. clean data\n",
    "2. import the prediction model\n",
    "3. create np seed\n",
    "4. create X and y\n",
    "5. train the model\n",
    "6. fit the model\n",
    "7. evaluate the model\n",
    "8. predict the model"
   ]
  },
  {
   "cell_type": "code",
   "execution_count": 102,
   "id": "685137eb-7797-4e6d-94cd-cf07c85a8238",
   "metadata": {},
   "outputs": [],
   "source": [
    "flow = [\n",
    "    '1. clean data',\n",
    "    '2. import the prediction model',\n",
    "    '3. create np seed',\n",
    "    '4. create X and y',\n",
    "    '5. train the model',\n",
    "    '6. fit the model',\n",
    "    '7. evaluate the model',\n",
    "    '8. predict the model'\n",
    "]"
   ]
  },
  {
   "cell_type": "code",
   "execution_count": 103,
   "id": "78fcbbb4",
   "metadata": {},
   "outputs": [
    {
     "name": "stdout",
     "output_type": "stream",
     "text": [
      "Requirement already satisfied: openpyxl in c:\\users\\godwi\\anaconda3\\lib\\site-packages (3.0.7)\n",
      "Requirement already satisfied: et-xmlfile in c:\\users\\godwi\\anaconda3\\lib\\site-packages (from openpyxl) (1.0.1)\n",
      "Note: you may need to restart the kernel to use updated packages.\n"
     ]
    }
   ],
   "source": [
    "pip install openpyxl"
   ]
  },
  {
   "cell_type": "code",
   "execution_count": 104,
   "id": "6a7d8574-07ce-4618-90cc-3a5b8ca89f35",
   "metadata": {},
   "outputs": [
    {
     "data": {
      "text/html": [
       "<div>\n",
       "<style scoped>\n",
       "    .dataframe tbody tr th:only-of-type {\n",
       "        vertical-align: middle;\n",
       "    }\n",
       "\n",
       "    .dataframe tbody tr th {\n",
       "        vertical-align: top;\n",
       "    }\n",
       "\n",
       "    .dataframe thead th {\n",
       "        text-align: right;\n",
       "    }\n",
       "</style>\n",
       "<table border=\"1\" class=\"dataframe\">\n",
       "  <thead>\n",
       "    <tr style=\"text-align: right;\">\n",
       "      <th></th>\n",
       "      <th>AREA</th>\n",
       "      <th>PERIMETER</th>\n",
       "      <th>MAJOR_AXIS</th>\n",
       "      <th>MINOR_AXIS</th>\n",
       "      <th>ECCENTRICITY</th>\n",
       "      <th>EQDIASQ</th>\n",
       "      <th>SOLIDITY</th>\n",
       "      <th>CONVEX_AREA</th>\n",
       "      <th>EXTENT</th>\n",
       "      <th>ASPECT_RATIO</th>\n",
       "      <th>...</th>\n",
       "      <th>KurtosisRR</th>\n",
       "      <th>KurtosisRG</th>\n",
       "      <th>KurtosisRB</th>\n",
       "      <th>EntropyRR</th>\n",
       "      <th>EntropyRG</th>\n",
       "      <th>EntropyRB</th>\n",
       "      <th>ALLdaub4RR</th>\n",
       "      <th>ALLdaub4RG</th>\n",
       "      <th>ALLdaub4RB</th>\n",
       "      <th>Class</th>\n",
       "    </tr>\n",
       "  </thead>\n",
       "  <tbody>\n",
       "    <tr>\n",
       "      <th>0</th>\n",
       "      <td>422163</td>\n",
       "      <td>2378.908</td>\n",
       "      <td>837.8484</td>\n",
       "      <td>645.6693</td>\n",
       "      <td>0.6373</td>\n",
       "      <td>733.1539</td>\n",
       "      <td>0.9947</td>\n",
       "      <td>424428</td>\n",
       "      <td>0.7831</td>\n",
       "      <td>1.2976</td>\n",
       "      <td>...</td>\n",
       "      <td>3.2370</td>\n",
       "      <td>2.9574</td>\n",
       "      <td>4.2287</td>\n",
       "      <td>-59191263232</td>\n",
       "      <td>-50714214400</td>\n",
       "      <td>-39922372608</td>\n",
       "      <td>58.7255</td>\n",
       "      <td>54.9554</td>\n",
       "      <td>47.8400</td>\n",
       "      <td>BERHI</td>\n",
       "    </tr>\n",
       "    <tr>\n",
       "      <th>1</th>\n",
       "      <td>338136</td>\n",
       "      <td>2085.144</td>\n",
       "      <td>723.8198</td>\n",
       "      <td>595.2073</td>\n",
       "      <td>0.5690</td>\n",
       "      <td>656.1464</td>\n",
       "      <td>0.9974</td>\n",
       "      <td>339014</td>\n",
       "      <td>0.7795</td>\n",
       "      <td>1.2161</td>\n",
       "      <td>...</td>\n",
       "      <td>2.6228</td>\n",
       "      <td>2.6350</td>\n",
       "      <td>3.1704</td>\n",
       "      <td>-34233065472</td>\n",
       "      <td>-37462601728</td>\n",
       "      <td>-31477794816</td>\n",
       "      <td>50.0259</td>\n",
       "      <td>52.8168</td>\n",
       "      <td>47.8315</td>\n",
       "      <td>BERHI</td>\n",
       "    </tr>\n",
       "    <tr>\n",
       "      <th>2</th>\n",
       "      <td>526843</td>\n",
       "      <td>2647.394</td>\n",
       "      <td>940.7379</td>\n",
       "      <td>715.3638</td>\n",
       "      <td>0.6494</td>\n",
       "      <td>819.0222</td>\n",
       "      <td>0.9962</td>\n",
       "      <td>528876</td>\n",
       "      <td>0.7657</td>\n",
       "      <td>1.3150</td>\n",
       "      <td>...</td>\n",
       "      <td>3.7516</td>\n",
       "      <td>3.8611</td>\n",
       "      <td>4.7192</td>\n",
       "      <td>-93948354560</td>\n",
       "      <td>-74738221056</td>\n",
       "      <td>-60311207936</td>\n",
       "      <td>65.4772</td>\n",
       "      <td>59.2860</td>\n",
       "      <td>51.9378</td>\n",
       "      <td>BERHI</td>\n",
       "    </tr>\n",
       "    <tr>\n",
       "      <th>3</th>\n",
       "      <td>416063</td>\n",
       "      <td>2351.210</td>\n",
       "      <td>827.9804</td>\n",
       "      <td>645.2988</td>\n",
       "      <td>0.6266</td>\n",
       "      <td>727.8378</td>\n",
       "      <td>0.9948</td>\n",
       "      <td>418255</td>\n",
       "      <td>0.7759</td>\n",
       "      <td>1.2831</td>\n",
       "      <td>...</td>\n",
       "      <td>5.0401</td>\n",
       "      <td>8.6136</td>\n",
       "      <td>8.2618</td>\n",
       "      <td>-32074307584</td>\n",
       "      <td>-32060925952</td>\n",
       "      <td>-29575010304</td>\n",
       "      <td>43.3900</td>\n",
       "      <td>44.1259</td>\n",
       "      <td>41.1882</td>\n",
       "      <td>BERHI</td>\n",
       "    </tr>\n",
       "    <tr>\n",
       "      <th>4</th>\n",
       "      <td>347562</td>\n",
       "      <td>2160.354</td>\n",
       "      <td>763.9877</td>\n",
       "      <td>582.8359</td>\n",
       "      <td>0.6465</td>\n",
       "      <td>665.2291</td>\n",
       "      <td>0.9908</td>\n",
       "      <td>350797</td>\n",
       "      <td>0.7569</td>\n",
       "      <td>1.3108</td>\n",
       "      <td>...</td>\n",
       "      <td>2.7016</td>\n",
       "      <td>2.9761</td>\n",
       "      <td>4.4146</td>\n",
       "      <td>-39980974080</td>\n",
       "      <td>-35980042240</td>\n",
       "      <td>-25593278464</td>\n",
       "      <td>52.7743</td>\n",
       "      <td>50.9080</td>\n",
       "      <td>42.6666</td>\n",
       "      <td>BERHI</td>\n",
       "    </tr>\n",
       "  </tbody>\n",
       "</table>\n",
       "<p>5 rows × 35 columns</p>\n",
       "</div>"
      ],
      "text/plain": [
       "     AREA  PERIMETER  MAJOR_AXIS  MINOR_AXIS  ECCENTRICITY   EQDIASQ  \\\n",
       "0  422163   2378.908    837.8484    645.6693        0.6373  733.1539   \n",
       "1  338136   2085.144    723.8198    595.2073        0.5690  656.1464   \n",
       "2  526843   2647.394    940.7379    715.3638        0.6494  819.0222   \n",
       "3  416063   2351.210    827.9804    645.2988        0.6266  727.8378   \n",
       "4  347562   2160.354    763.9877    582.8359        0.6465  665.2291   \n",
       "\n",
       "   SOLIDITY  CONVEX_AREA  EXTENT  ASPECT_RATIO  ...  KurtosisRR  KurtosisRG  \\\n",
       "0    0.9947       424428  0.7831        1.2976  ...      3.2370      2.9574   \n",
       "1    0.9974       339014  0.7795        1.2161  ...      2.6228      2.6350   \n",
       "2    0.9962       528876  0.7657        1.3150  ...      3.7516      3.8611   \n",
       "3    0.9948       418255  0.7759        1.2831  ...      5.0401      8.6136   \n",
       "4    0.9908       350797  0.7569        1.3108  ...      2.7016      2.9761   \n",
       "\n",
       "   KurtosisRB    EntropyRR    EntropyRG    EntropyRB  ALLdaub4RR  ALLdaub4RG  \\\n",
       "0      4.2287 -59191263232 -50714214400 -39922372608     58.7255     54.9554   \n",
       "1      3.1704 -34233065472 -37462601728 -31477794816     50.0259     52.8168   \n",
       "2      4.7192 -93948354560 -74738221056 -60311207936     65.4772     59.2860   \n",
       "3      8.2618 -32074307584 -32060925952 -29575010304     43.3900     44.1259   \n",
       "4      4.4146 -39980974080 -35980042240 -25593278464     52.7743     50.9080   \n",
       "\n",
       "   ALLdaub4RB  Class  \n",
       "0     47.8400  BERHI  \n",
       "1     47.8315  BERHI  \n",
       "2     51.9378  BERHI  \n",
       "3     41.1882  BERHI  \n",
       "4     42.6666  BERHI  \n",
       "\n",
       "[5 rows x 35 columns]"
      ]
     },
     "execution_count": 104,
     "metadata": {},
     "output_type": "execute_result"
    }
   ],
   "source": [
    "fruit = pd.read_excel (r'C:\\Users\\godwi\\GitHub\\Machine_Learning_Supervised\\Date Fruit Classification--Scikit-Learn\\Date_Fruit_Datasets.xlsx')\n",
    "fruit.head()"
   ]
  },
  {
   "cell_type": "markdown",
   "id": "6b36125c-eab7-4a12-8a17-9d2b66f0c89c",
   "metadata": {},
   "source": [
    "## **1. Lets prepare and clean the data**"
   ]
  },
  {
   "cell_type": "code",
   "execution_count": 105,
   "id": "6d271550-898a-40bf-a914-c7bcbb55f592",
   "metadata": {},
   "outputs": [
    {
     "data": {
      "text/plain": [
       "AREA              int64\n",
       "PERIMETER       float64\n",
       "MAJOR_AXIS      float64\n",
       "MINOR_AXIS      float64\n",
       "ECCENTRICITY    float64\n",
       "EQDIASQ         float64\n",
       "SOLIDITY        float64\n",
       "CONVEX_AREA       int64\n",
       "EXTENT          float64\n",
       "ASPECT_RATIO    float64\n",
       "dtype: object"
      ]
     },
     "execution_count": 105,
     "metadata": {},
     "output_type": "execute_result"
    }
   ],
   "source": [
    "# check the data type\n",
    "fruit.dtypes[:10]"
   ]
  },
  {
   "cell_type": "code",
   "execution_count": 106,
   "id": "e2e89cfd-c951-4c8b-b55e-ce5527301d41",
   "metadata": {},
   "outputs": [
    {
     "data": {
      "text/plain": [
       "(898, 35)"
      ]
     },
     "execution_count": 106,
     "metadata": {},
     "output_type": "execute_result"
    }
   ],
   "source": [
    "# check the shape\n",
    "fruit.shape"
   ]
  },
  {
   "cell_type": "code",
   "execution_count": 107,
   "id": "a978736c-52dd-4724-8ba9-8bfcfc551b1a",
   "metadata": {},
   "outputs": [
    {
     "data": {
      "text/plain": [
       "AREA            0\n",
       "PERIMETER       0\n",
       "MAJOR_AXIS      0\n",
       "MINOR_AXIS      0\n",
       "ECCENTRICITY    0\n",
       "EQDIASQ         0\n",
       "SOLIDITY        0\n",
       "CONVEX_AREA     0\n",
       "EXTENT          0\n",
       "ASPECT_RATIO    0\n",
       "dtype: int64"
      ]
     },
     "execution_count": 107,
     "metadata": {},
     "output_type": "execute_result"
    }
   ],
   "source": [
    "# check for NaNs\n",
    "fruit.isna().sum() [:10]"
   ]
  },
  {
   "cell_type": "code",
   "execution_count": 108,
   "id": "7a42db4f-333f-4e44-8288-1250af072086",
   "metadata": {},
   "outputs": [
    {
     "data": {
      "text/plain": [
       "((898, 34), (898,))"
      ]
     },
     "execution_count": 108,
     "metadata": {},
     "output_type": "execute_result"
    }
   ],
   "source": [
    "X = fruit.drop('Class', axis = 1)\n",
    "y = fruit['Class']\n",
    "X.shape, y.shape"
   ]
  },
  {
   "cell_type": "code",
   "execution_count": 109,
   "id": "13a22107-a5f0-4560-900a-cb66bf6f5114",
   "metadata": {},
   "outputs": [
    {
     "data": {
      "text/html": [
       "<div>\n",
       "<style scoped>\n",
       "    .dataframe tbody tr th:only-of-type {\n",
       "        vertical-align: middle;\n",
       "    }\n",
       "\n",
       "    .dataframe tbody tr th {\n",
       "        vertical-align: top;\n",
       "    }\n",
       "\n",
       "    .dataframe thead th {\n",
       "        text-align: right;\n",
       "    }\n",
       "</style>\n",
       "<table border=\"1\" class=\"dataframe\">\n",
       "  <thead>\n",
       "    <tr style=\"text-align: right;\">\n",
       "      <th></th>\n",
       "      <th>Class</th>\n",
       "    </tr>\n",
       "  </thead>\n",
       "  <tbody>\n",
       "    <tr>\n",
       "      <th>DOKOL</th>\n",
       "      <td>204</td>\n",
       "    </tr>\n",
       "    <tr>\n",
       "      <th>SAFAVI</th>\n",
       "      <td>199</td>\n",
       "    </tr>\n",
       "    <tr>\n",
       "      <th>ROTANA</th>\n",
       "      <td>166</td>\n",
       "    </tr>\n",
       "    <tr>\n",
       "      <th>DEGLET</th>\n",
       "      <td>98</td>\n",
       "    </tr>\n",
       "    <tr>\n",
       "      <th>SOGAY</th>\n",
       "      <td>94</td>\n",
       "    </tr>\n",
       "    <tr>\n",
       "      <th>IRAQI</th>\n",
       "      <td>72</td>\n",
       "    </tr>\n",
       "    <tr>\n",
       "      <th>BERHI</th>\n",
       "      <td>65</td>\n",
       "    </tr>\n",
       "  </tbody>\n",
       "</table>\n",
       "</div>"
      ],
      "text/plain": [
       "        Class\n",
       "DOKOL     204\n",
       "SAFAVI    199\n",
       "ROTANA    166\n",
       "DEGLET     98\n",
       "SOGAY      94\n",
       "IRAQI      72\n",
       "BERHI      65"
      ]
     },
     "execution_count": 109,
     "metadata": {},
     "output_type": "execute_result"
    }
   ],
   "source": [
    "# Types of fruits\n",
    "fc = fruit.Class.value_counts().to_frame()\n",
    "fc"
   ]
  },
  {
   "cell_type": "code",
   "execution_count": 110,
   "id": "3ec90c1b-aae9-4af1-9118-166636f53363",
   "metadata": {},
   "outputs": [
    {
     "data": {
      "image/png": "[encoded data removed]",
      "text/plain": [
       "<Figure size 432x288 with 1 Axes>"
      ]
     },
     "metadata": {},
     "output_type": "display_data"
    }
   ],
   "source": [
    "fc.plot(kind = 'bar', xlabel = 'Classes of fruits', ylabel = 'Number', color = 'purple');"
   ]
  },
  {
   "cell_type": "markdown",
   "id": "1b0df577-14b1-47ae-9dd3-8aec28b9f119",
   "metadata": {},
   "source": [
    "## **1a. Lets convert the target = class to numeric =>  using label encoder**"
   ]
  },
  {
   "cell_type": "raw",
   "id": "66d50619-1cb3-4e68-94ff-d76d2c8b5caf",
   "metadata": {},
   "source": [
    "# changing the car categories into to numbers\n",
    "from sklearn.preprocessing import LabelEncoder\n",
    "\n",
    "lb_make = LabelEncoder()\n",
    "fruit[\"target\"] = lb_make.fit_transform(fruit[\"Class\"])\n",
    "target = fruit[[\"target\"]]\n",
    "target.head()"
   ]
  },
  {
   "cell_type": "code",
   "execution_count": 111,
   "id": "6e025936-1be5-43d5-a0b8-f2881a596bc5",
   "metadata": {},
   "outputs": [
    {
     "data": {
      "text/plain": [
       "<898x7 sparse matrix of type '<class 'numpy.float64'>'\n",
       "\twith 898 stored elements in Compressed Sparse Row format>"
      ]
     },
     "execution_count": 111,
     "metadata": {},
     "output_type": "execute_result"
    }
   ],
   "source": [
    "# changing the car categories into to numbers\n",
    "from sklearn.preprocessing import OneHotEncoder\n",
    "from sklearn.compose import ColumnTransformer\n",
    "\n",
    "# now defime our categorical features\n",
    "categorical_features  = ['Class']\n",
    "one_hot = OneHotEncoder()\n",
    "transformer = ColumnTransformer ([(\"one_hot\",\n",
    "                                   one_hot,\n",
    "                                   categorical_features)],\n",
    "                                 remainder= 'passthrough')   # will take in a turple\n",
    "                                 \n",
    "                                 \n",
    "transformed_y = transformer.fit_transform(y.to_frame())\n",
    "transformed_y    # this is X that has undergone cleaning"
   ]
  },
  {
   "cell_type": "markdown",
   "id": "3a61083e-a852-40dd-8ac3-7dd56f628482",
   "metadata": {},
   "source": [
    "## **2. Import the prediction model**"
   ]
  },
  {
   "cell_type": "code",
   "execution_count": 112,
   "id": "7ec79572-efd8-4d0f-aeb0-1f6a3dd085f5",
   "metadata": {},
   "outputs": [],
   "source": [
    "from sklearn.ensemble import RandomForestClassifier"
   ]
  },
  {
   "cell_type": "markdown",
   "id": "2922afae-111a-4174-b040-8a942227fb25",
   "metadata": {},
   "source": [
    "## **3. Lets create np seed**"
   ]
  },
  {
   "cell_type": "code",
   "execution_count": 113,
   "id": "9404e2f3-57b2-45d2-a3da-26d9b71b9da0",
   "metadata": {},
   "outputs": [],
   "source": [
    "np.random.seed(42)"
   ]
  },
  {
   "cell_type": "markdown",
   "id": "ef5283be-12a2-417f-b461-e94b2a2c484b",
   "metadata": {},
   "source": [
    "## **4. Create X and y**"
   ]
  },
  {
   "cell_type": "markdown",
   "id": "2d71ddc0-a0b4-4676-917c-df46f2372999",
   "metadata": {},
   "source": [
    "## **5. Train and split model**"
   ]
  },
  {
   "cell_type": "code",
   "execution_count": 114,
   "id": "d790fd8d-d123-4c1a-a249-a6b1d498e696",
   "metadata": {},
   "outputs": [],
   "source": [
    "from sklearn.model_selection import train_test_split\n",
    "\n",
    "X_train, X_test, y_train, y_test = train_test_split(X, y, test_size = 0.2)"
   ]
  },
  {
   "cell_type": "code",
   "execution_count": 115,
   "id": "f90da600-97d6-42c0-b473-5b378ce614b2",
   "metadata": {},
   "outputs": [
    {
     "data": {
      "text/plain": [
       "((898, 34), (898,))"
      ]
     },
     "execution_count": 115,
     "metadata": {},
     "output_type": "execute_result"
    }
   ],
   "source": [
    "X.shape, y.shape"
   ]
  },
  {
   "cell_type": "markdown",
   "id": "53132361-1f5e-4b74-9e9e-30abdf84b2d6",
   "metadata": {},
   "source": [
    "## **6. Fit model**"
   ]
  },
  {
   "cell_type": "code",
   "execution_count": 116,
   "id": "e7c3c2d5-0099-4b06-9af5-7e63d93dc93c",
   "metadata": {},
   "outputs": [
    {
     "data": {
      "text/plain": [
       "RandomForestClassifier()"
      ]
     },
     "execution_count": 116,
     "metadata": {},
     "output_type": "execute_result"
    }
   ],
   "source": [
    "clf = RandomForestClassifier(n_estimators = 100)\n",
    "clf.fit(X_train, np.ravel(y_train))"
   ]
  },
  {
   "cell_type": "code",
   "execution_count": 117,
   "id": "2ee557bc-6de1-4f9b-9fc0-880620f55a3d",
   "metadata": {},
   "outputs": [],
   "source": [
    "y_train = np.ravel(y_train,order=\"c\")"
   ]
  },
  {
   "cell_type": "markdown",
   "id": "2c4fe701-e084-4e9e-9a7f-da441ca55b8e",
   "metadata": {},
   "source": [
    "## **7. Evaluate the model**"
   ]
  },
  {
   "cell_type": "code",
   "execution_count": 118,
   "id": "d2df781f-bc05-4a5e-9703-c69537bd0c0d",
   "metadata": {},
   "outputs": [
    {
     "data": {
      "text/plain": [
       "(0.9055555555555556, 1.0)"
      ]
     },
     "execution_count": 118,
     "metadata": {},
     "output_type": "execute_result"
    }
   ],
   "source": [
    "clf.score(X_test, y_test)  ,  clf.score(X_train, y_train)"
   ]
  },
  {
   "cell_type": "markdown",
   "id": "04a16496-8490-470e-9d41-41826cd17efa",
   "metadata": {},
   "source": [
    "## **8. Predict the model classifications**"
   ]
  },
  {
   "cell_type": "code",
   "execution_count": 119,
   "id": "07fa5b16-6c38-4a21-832d-d471378fae53",
   "metadata": {},
   "outputs": [
    {
     "data": {
      "text/plain": [
       "array(['DOKOL', 'SAFAVI', 'DOKOL', 'SOGAY', 'IRAQI', 'DOKOL', 'IRAQI',\n",
       "       'DOKOL', 'DOKOL', 'DEGLET'], dtype=object)"
      ]
     },
     "execution_count": 119,
     "metadata": {},
     "output_type": "execute_result"
    }
   ],
   "source": [
    "y_preds = clf.predict((X_test)) # always predict on X_test\n",
    "y_preds[:10] "
   ]
  },
  {
   "cell_type": "code",
   "execution_count": 120,
   "id": "2744bb80",
   "metadata": {},
   "outputs": [
    {
     "data": {
      "text/plain": [
       "['fruit_model.joblib']"
      ]
     },
     "execution_count": 120,
     "metadata": {},
     "output_type": "execute_result"
    }
   ],
   "source": [
    "import joblib \n",
    "joblib.dump(clf, \"fruit_model.joblib\")"
   ]
  },
  {
   "cell_type": "code",
   "execution_count": null,
   "id": "a9a481e8",
   "metadata": {},
   "outputs": [],
   "source": []
  },
  {
   "cell_type": "markdown",
   "id": "d5d65b65-e697-4a29-91be-e023e64bb26e",
   "metadata": {},
   "source": [
    "## **Evaluate the model for accuracy**"
   ]
  },
  {
   "cell_type": "code",
   "execution_count": 121,
   "id": "e3150005-6580-49a0-ae04-02c207cadc4a",
   "metadata": {},
   "outputs": [
    {
     "name": "stdout",
     "output_type": "stream",
     "text": [
      "Training Score:1.0\n",
      "Test Score: 0.9055555555555556\n",
      "Classifier Cross Validation_Score: 0.8919925512104283\n",
      "Accuracy_score_metric : 0.9055555555555556\n"
     ]
    }
   ],
   "source": [
    "# Evaluation of the model for accuracy\n",
    "from sklearn.metrics import classification_report, confusion_matrix , accuracy_score\n",
    "from sklearn.model_selection import cross_val_score\n",
    "\n",
    "print(f'Training Score:{clf.score(X_train, y_train)}') # inbuilt accuracy score\n",
    "print(f'Test Score: {clf.score(X_test, y_test)}')     # inbuilt accuracy score\n",
    "print(f\"Classifier Cross Validation_Score: {np.mean(cross_val_score(clf,X,y,cv= 5))}\") # cross validation\n",
    "print(f'Accuracy_score_metric : {accuracy_score(y_test, y_preds)}')# for classifications only"
   ]
  },
  {
   "cell_type": "markdown",
   "id": "c6e650da-c8b9-4f2b-bf98-60e554678b32",
   "metadata": {},
   "source": [
    "# **fitting the prediction into X again which is the initial dataset**"
   ]
  },
  {
   "cell_type": "code",
   "execution_count": 122,
   "id": "73c34706-0dc8-41e2-b28d-9ef30854cf50",
   "metadata": {},
   "outputs": [
    {
     "data": {
      "text/html": [
       "<div>\n",
       "<style scoped>\n",
       "    .dataframe tbody tr th:only-of-type {\n",
       "        vertical-align: middle;\n",
       "    }\n",
       "\n",
       "    .dataframe tbody tr th {\n",
       "        vertical-align: top;\n",
       "    }\n",
       "\n",
       "    .dataframe thead th {\n",
       "        text-align: right;\n",
       "    }\n",
       "</style>\n",
       "<table border=\"1\" class=\"dataframe\">\n",
       "  <thead>\n",
       "    <tr style=\"text-align: right;\">\n",
       "      <th></th>\n",
       "      <th>predicted</th>\n",
       "    </tr>\n",
       "  </thead>\n",
       "  <tbody>\n",
       "    <tr>\n",
       "      <th>0</th>\n",
       "      <td>BERHI</td>\n",
       "    </tr>\n",
       "    <tr>\n",
       "      <th>1</th>\n",
       "      <td>BERHI</td>\n",
       "    </tr>\n",
       "    <tr>\n",
       "      <th>2</th>\n",
       "      <td>BERHI</td>\n",
       "    </tr>\n",
       "    <tr>\n",
       "      <th>3</th>\n",
       "      <td>BERHI</td>\n",
       "    </tr>\n",
       "    <tr>\n",
       "      <th>4</th>\n",
       "      <td>BERHI</td>\n",
       "    </tr>\n",
       "  </tbody>\n",
       "</table>\n",
       "</div>"
      ],
      "text/plain": [
       "  predicted\n",
       "0     BERHI\n",
       "1     BERHI\n",
       "2     BERHI\n",
       "3     BERHI\n",
       "4     BERHI"
      ]
     },
     "execution_count": 122,
     "metadata": {},
     "output_type": "execute_result"
    }
   ],
   "source": [
    "predict1 = clf.predict(X)\n",
    "predict2 = pd.DataFrame(predict1,columns = ['predicted'])\n",
    "predict2.head()"
   ]
  },
  {
   "cell_type": "code",
   "execution_count": 123,
   "id": "0ce75c83-f7ea-49ba-b542-a744eeb6986e",
   "metadata": {},
   "outputs": [
    {
     "data": {
      "text/html": [
       "<div>\n",
       "<style scoped>\n",
       "    .dataframe tbody tr th:only-of-type {\n",
       "        vertical-align: middle;\n",
       "    }\n",
       "\n",
       "    .dataframe tbody tr th {\n",
       "        vertical-align: top;\n",
       "    }\n",
       "\n",
       "    .dataframe thead th {\n",
       "        text-align: right;\n",
       "    }\n",
       "</style>\n",
       "<table border=\"1\" class=\"dataframe\">\n",
       "  <thead>\n",
       "    <tr style=\"text-align: right;\">\n",
       "      <th></th>\n",
       "      <th>AREA</th>\n",
       "      <th>PERIMETER</th>\n",
       "      <th>MAJOR_AXIS</th>\n",
       "      <th>MINOR_AXIS</th>\n",
       "      <th>ECCENTRICITY</th>\n",
       "      <th>EQDIASQ</th>\n",
       "      <th>SOLIDITY</th>\n",
       "      <th>CONVEX_AREA</th>\n",
       "      <th>EXTENT</th>\n",
       "      <th>ASPECT_RATIO</th>\n",
       "      <th>...</th>\n",
       "      <th>KurtosisRG</th>\n",
       "      <th>KurtosisRB</th>\n",
       "      <th>EntropyRR</th>\n",
       "      <th>EntropyRG</th>\n",
       "      <th>EntropyRB</th>\n",
       "      <th>ALLdaub4RR</th>\n",
       "      <th>ALLdaub4RG</th>\n",
       "      <th>ALLdaub4RB</th>\n",
       "      <th>Class</th>\n",
       "      <th>predicted</th>\n",
       "    </tr>\n",
       "  </thead>\n",
       "  <tbody>\n",
       "    <tr>\n",
       "      <th>0</th>\n",
       "      <td>422163</td>\n",
       "      <td>2378.9080</td>\n",
       "      <td>837.8484</td>\n",
       "      <td>645.6693</td>\n",
       "      <td>0.6373</td>\n",
       "      <td>733.1539</td>\n",
       "      <td>0.9947</td>\n",
       "      <td>424428</td>\n",
       "      <td>0.7831</td>\n",
       "      <td>1.2976</td>\n",
       "      <td>...</td>\n",
       "      <td>2.9574</td>\n",
       "      <td>4.2287</td>\n",
       "      <td>-59191263232</td>\n",
       "      <td>-50714214400</td>\n",
       "      <td>-39922372608</td>\n",
       "      <td>58.7255</td>\n",
       "      <td>54.9554</td>\n",
       "      <td>47.8400</td>\n",
       "      <td>BERHI</td>\n",
       "      <td>BERHI</td>\n",
       "    </tr>\n",
       "    <tr>\n",
       "      <th>1</th>\n",
       "      <td>338136</td>\n",
       "      <td>2085.1440</td>\n",
       "      <td>723.8198</td>\n",
       "      <td>595.2073</td>\n",
       "      <td>0.5690</td>\n",
       "      <td>656.1464</td>\n",
       "      <td>0.9974</td>\n",
       "      <td>339014</td>\n",
       "      <td>0.7795</td>\n",
       "      <td>1.2161</td>\n",
       "      <td>...</td>\n",
       "      <td>2.6350</td>\n",
       "      <td>3.1704</td>\n",
       "      <td>-34233065472</td>\n",
       "      <td>-37462601728</td>\n",
       "      <td>-31477794816</td>\n",
       "      <td>50.0259</td>\n",
       "      <td>52.8168</td>\n",
       "      <td>47.8315</td>\n",
       "      <td>BERHI</td>\n",
       "      <td>BERHI</td>\n",
       "    </tr>\n",
       "    <tr>\n",
       "      <th>2</th>\n",
       "      <td>526843</td>\n",
       "      <td>2647.3940</td>\n",
       "      <td>940.7379</td>\n",
       "      <td>715.3638</td>\n",
       "      <td>0.6494</td>\n",
       "      <td>819.0222</td>\n",
       "      <td>0.9962</td>\n",
       "      <td>528876</td>\n",
       "      <td>0.7657</td>\n",
       "      <td>1.3150</td>\n",
       "      <td>...</td>\n",
       "      <td>3.8611</td>\n",
       "      <td>4.7192</td>\n",
       "      <td>-93948354560</td>\n",
       "      <td>-74738221056</td>\n",
       "      <td>-60311207936</td>\n",
       "      <td>65.4772</td>\n",
       "      <td>59.2860</td>\n",
       "      <td>51.9378</td>\n",
       "      <td>BERHI</td>\n",
       "      <td>BERHI</td>\n",
       "    </tr>\n",
       "    <tr>\n",
       "      <th>3</th>\n",
       "      <td>416063</td>\n",
       "      <td>2351.2100</td>\n",
       "      <td>827.9804</td>\n",
       "      <td>645.2988</td>\n",
       "      <td>0.6266</td>\n",
       "      <td>727.8378</td>\n",
       "      <td>0.9948</td>\n",
       "      <td>418255</td>\n",
       "      <td>0.7759</td>\n",
       "      <td>1.2831</td>\n",
       "      <td>...</td>\n",
       "      <td>8.6136</td>\n",
       "      <td>8.2618</td>\n",
       "      <td>-32074307584</td>\n",
       "      <td>-32060925952</td>\n",
       "      <td>-29575010304</td>\n",
       "      <td>43.3900</td>\n",
       "      <td>44.1259</td>\n",
       "      <td>41.1882</td>\n",
       "      <td>BERHI</td>\n",
       "      <td>BERHI</td>\n",
       "    </tr>\n",
       "    <tr>\n",
       "      <th>4</th>\n",
       "      <td>347562</td>\n",
       "      <td>2160.3540</td>\n",
       "      <td>763.9877</td>\n",
       "      <td>582.8359</td>\n",
       "      <td>0.6465</td>\n",
       "      <td>665.2291</td>\n",
       "      <td>0.9908</td>\n",
       "      <td>350797</td>\n",
       "      <td>0.7569</td>\n",
       "      <td>1.3108</td>\n",
       "      <td>...</td>\n",
       "      <td>2.9761</td>\n",
       "      <td>4.4146</td>\n",
       "      <td>-39980974080</td>\n",
       "      <td>-35980042240</td>\n",
       "      <td>-25593278464</td>\n",
       "      <td>52.7743</td>\n",
       "      <td>50.9080</td>\n",
       "      <td>42.6666</td>\n",
       "      <td>BERHI</td>\n",
       "      <td>BERHI</td>\n",
       "    </tr>\n",
       "    <tr>\n",
       "      <th>...</th>\n",
       "      <td>...</td>\n",
       "      <td>...</td>\n",
       "      <td>...</td>\n",
       "      <td>...</td>\n",
       "      <td>...</td>\n",
       "      <td>...</td>\n",
       "      <td>...</td>\n",
       "      <td>...</td>\n",
       "      <td>...</td>\n",
       "      <td>...</td>\n",
       "      <td>...</td>\n",
       "      <td>...</td>\n",
       "      <td>...</td>\n",
       "      <td>...</td>\n",
       "      <td>...</td>\n",
       "      <td>...</td>\n",
       "      <td>...</td>\n",
       "      <td>...</td>\n",
       "      <td>...</td>\n",
       "      <td>...</td>\n",
       "      <td>...</td>\n",
       "    </tr>\n",
       "    <tr>\n",
       "      <th>893</th>\n",
       "      <td>255403</td>\n",
       "      <td>1925.3650</td>\n",
       "      <td>691.8453</td>\n",
       "      <td>477.1796</td>\n",
       "      <td>0.7241</td>\n",
       "      <td>570.2536</td>\n",
       "      <td>0.9785</td>\n",
       "      <td>261028</td>\n",
       "      <td>0.7269</td>\n",
       "      <td>1.4499</td>\n",
       "      <td>...</td>\n",
       "      <td>2.3704</td>\n",
       "      <td>2.7202</td>\n",
       "      <td>-25296416768</td>\n",
       "      <td>-19168882688</td>\n",
       "      <td>-18473392128</td>\n",
       "      <td>49.0869</td>\n",
       "      <td>43.0422</td>\n",
       "      <td>42.4153</td>\n",
       "      <td>SOGAY</td>\n",
       "      <td>SOGAY</td>\n",
       "    </tr>\n",
       "    <tr>\n",
       "      <th>894</th>\n",
       "      <td>365924</td>\n",
       "      <td>2664.8230</td>\n",
       "      <td>855.4633</td>\n",
       "      <td>551.5447</td>\n",
       "      <td>0.7644</td>\n",
       "      <td>682.5752</td>\n",
       "      <td>0.9466</td>\n",
       "      <td>386566</td>\n",
       "      <td>0.6695</td>\n",
       "      <td>1.5510</td>\n",
       "      <td>...</td>\n",
       "      <td>3.5805</td>\n",
       "      <td>3.9910</td>\n",
       "      <td>-31605219328</td>\n",
       "      <td>-21945366528</td>\n",
       "      <td>-19277905920</td>\n",
       "      <td>46.8086</td>\n",
       "      <td>39.1046</td>\n",
       "      <td>36.5502</td>\n",
       "      <td>SOGAY</td>\n",
       "      <td>SOGAY</td>\n",
       "    </tr>\n",
       "    <tr>\n",
       "      <th>895</th>\n",
       "      <td>254330</td>\n",
       "      <td>1926.7360</td>\n",
       "      <td>747.4943</td>\n",
       "      <td>435.6219</td>\n",
       "      <td>0.8126</td>\n",
       "      <td>569.0545</td>\n",
       "      <td>0.9925</td>\n",
       "      <td>256255</td>\n",
       "      <td>0.7240</td>\n",
       "      <td>1.7159</td>\n",
       "      <td>...</td>\n",
       "      <td>2.5090</td>\n",
       "      <td>2.6951</td>\n",
       "      <td>-22242772992</td>\n",
       "      <td>-19594921984</td>\n",
       "      <td>-17592152064</td>\n",
       "      <td>44.1325</td>\n",
       "      <td>40.7986</td>\n",
       "      <td>40.9769</td>\n",
       "      <td>SOGAY</td>\n",
       "      <td>SOGAY</td>\n",
       "    </tr>\n",
       "    <tr>\n",
       "      <th>896</th>\n",
       "      <td>238955</td>\n",
       "      <td>1906.2679</td>\n",
       "      <td>716.6485</td>\n",
       "      <td>441.8297</td>\n",
       "      <td>0.7873</td>\n",
       "      <td>551.5859</td>\n",
       "      <td>0.9604</td>\n",
       "      <td>248795</td>\n",
       "      <td>0.6954</td>\n",
       "      <td>1.6220</td>\n",
       "      <td>...</td>\n",
       "      <td>2.6874</td>\n",
       "      <td>2.7991</td>\n",
       "      <td>-26048595968</td>\n",
       "      <td>-21299822592</td>\n",
       "      <td>-19809978368</td>\n",
       "      <td>51.2267</td>\n",
       "      <td>45.7162</td>\n",
       "      <td>45.6260</td>\n",
       "      <td>SOGAY</td>\n",
       "      <td>SOGAY</td>\n",
       "    </tr>\n",
       "    <tr>\n",
       "      <th>897</th>\n",
       "      <td>343792</td>\n",
       "      <td>2289.2720</td>\n",
       "      <td>823.8438</td>\n",
       "      <td>534.7757</td>\n",
       "      <td>0.7607</td>\n",
       "      <td>661.6113</td>\n",
       "      <td>0.9781</td>\n",
       "      <td>351472</td>\n",
       "      <td>0.6941</td>\n",
       "      <td>1.5405</td>\n",
       "      <td>...</td>\n",
       "      <td>3.0369</td>\n",
       "      <td>3.0865</td>\n",
       "      <td>-31983476736</td>\n",
       "      <td>-20482514944</td>\n",
       "      <td>-21219354624</td>\n",
       "      <td>47.3454</td>\n",
       "      <td>38.6966</td>\n",
       "      <td>39.6738</td>\n",
       "      <td>SOGAY</td>\n",
       "      <td>SOGAY</td>\n",
       "    </tr>\n",
       "  </tbody>\n",
       "</table>\n",
       "<p>898 rows × 36 columns</p>\n",
       "</div>"
      ],
      "text/plain": [
       "       AREA  PERIMETER  MAJOR_AXIS  MINOR_AXIS  ECCENTRICITY   EQDIASQ  \\\n",
       "0    422163  2378.9080    837.8484    645.6693        0.6373  733.1539   \n",
       "1    338136  2085.1440    723.8198    595.2073        0.5690  656.1464   \n",
       "2    526843  2647.3940    940.7379    715.3638        0.6494  819.0222   \n",
       "3    416063  2351.2100    827.9804    645.2988        0.6266  727.8378   \n",
       "4    347562  2160.3540    763.9877    582.8359        0.6465  665.2291   \n",
       "..      ...        ...         ...         ...           ...       ...   \n",
       "893  255403  1925.3650    691.8453    477.1796        0.7241  570.2536   \n",
       "894  365924  2664.8230    855.4633    551.5447        0.7644  682.5752   \n",
       "895  254330  1926.7360    747.4943    435.6219        0.8126  569.0545   \n",
       "896  238955  1906.2679    716.6485    441.8297        0.7873  551.5859   \n",
       "897  343792  2289.2720    823.8438    534.7757        0.7607  661.6113   \n",
       "\n",
       "     SOLIDITY  CONVEX_AREA  EXTENT  ASPECT_RATIO  ...  KurtosisRG  KurtosisRB  \\\n",
       "0      0.9947       424428  0.7831        1.2976  ...      2.9574      4.2287   \n",
       "1      0.9974       339014  0.7795        1.2161  ...      2.6350      3.1704   \n",
       "2      0.9962       528876  0.7657        1.3150  ...      3.8611      4.7192   \n",
       "3      0.9948       418255  0.7759        1.2831  ...      8.6136      8.2618   \n",
       "4      0.9908       350797  0.7569        1.3108  ...      2.9761      4.4146   \n",
       "..        ...          ...     ...           ...  ...         ...         ...   \n",
       "893    0.9785       261028  0.7269        1.4499  ...      2.3704      2.7202   \n",
       "894    0.9466       386566  0.6695        1.5510  ...      3.5805      3.9910   \n",
       "895    0.9925       256255  0.7240        1.7159  ...      2.5090      2.6951   \n",
       "896    0.9604       248795  0.6954        1.6220  ...      2.6874      2.7991   \n",
       "897    0.9781       351472  0.6941        1.5405  ...      3.0369      3.0865   \n",
       "\n",
       "       EntropyRR    EntropyRG    EntropyRB  ALLdaub4RR  ALLdaub4RG  \\\n",
       "0   -59191263232 -50714214400 -39922372608     58.7255     54.9554   \n",
       "1   -34233065472 -37462601728 -31477794816     50.0259     52.8168   \n",
       "2   -93948354560 -74738221056 -60311207936     65.4772     59.2860   \n",
       "3   -32074307584 -32060925952 -29575010304     43.3900     44.1259   \n",
       "4   -39980974080 -35980042240 -25593278464     52.7743     50.9080   \n",
       "..           ...          ...          ...         ...         ...   \n",
       "893 -25296416768 -19168882688 -18473392128     49.0869     43.0422   \n",
       "894 -31605219328 -21945366528 -19277905920     46.8086     39.1046   \n",
       "895 -22242772992 -19594921984 -17592152064     44.1325     40.7986   \n",
       "896 -26048595968 -21299822592 -19809978368     51.2267     45.7162   \n",
       "897 -31983476736 -20482514944 -21219354624     47.3454     38.6966   \n",
       "\n",
       "     ALLdaub4RB  Class  predicted  \n",
       "0       47.8400  BERHI      BERHI  \n",
       "1       47.8315  BERHI      BERHI  \n",
       "2       51.9378  BERHI      BERHI  \n",
       "3       41.1882  BERHI      BERHI  \n",
       "4       42.6666  BERHI      BERHI  \n",
       "..          ...    ...        ...  \n",
       "893     42.4153  SOGAY      SOGAY  \n",
       "894     36.5502  SOGAY      SOGAY  \n",
       "895     40.9769  SOGAY      SOGAY  \n",
       "896     45.6260  SOGAY      SOGAY  \n",
       "897     39.6738  SOGAY      SOGAY  \n",
       "\n",
       "[898 rows x 36 columns]"
      ]
     },
     "execution_count": 123,
     "metadata": {},
     "output_type": "execute_result"
    }
   ],
   "source": [
    "pd.concat ([fruit, predict2],ignore_index = False, axis = 1).loc[:,]"
   ]
  },
  {
   "cell_type": "code",
   "execution_count": 124,
   "id": "b40f2944",
   "metadata": {},
   "outputs": [
    {
     "data": {
      "text/plain": [
       "<AxesSubplot:>"
      ]
     },
     "execution_count": 124,
     "metadata": {},
     "output_type": "execute_result"
    },
    {
     "data": {
      "image/png": "[encoded data removed]",
      "text/plain": [
       "<Figure size 720x360 with 1 Axes>"
      ]
     },
     "metadata": {},
     "output_type": "display_data"
    }
   ],
   "source": [
    "validate =pd.concat ([fruit, predict2],ignore_index = False, axis = 1).loc[:,[\"Class\", \"predicted\"]]\n",
    "Class = validate.Class.value_counts()\n",
    "Predict_class = validate.predicted.value_counts()\n",
    "concat= pd.concat([Class, Predict_class], ignore_index = False, axis =1)\n",
    "\n",
    "fig,ax=plt.subplots(figsize = (10,5))\n",
    "concat.plot(kind =\"bar\", ax = ax)\n"
   ]
  },
  {
   "cell_type": "markdown",
   "id": "1abb4a48-4c06-4f55-9022-2b27106bdd1f",
   "metadata": {},
   "source": [
    "## **Confusion Matrix**"
   ]
  },
  {
   "cell_type": "code",
   "execution_count": 125,
   "id": "08b222e9-3326-4648-940f-e15f28213ae1",
   "metadata": {},
   "outputs": [
    {
     "name": "stdout",
     "output_type": "stream",
     "text": [
      "              precision    recall  f1-score   support\n",
      "\n",
      "       BERHI       0.88      0.58      0.70        12\n",
      "      DEGLET       0.68      0.85      0.76        20\n",
      "       DOKOL       1.00      0.90      0.95        50\n",
      "       IRAQI       0.69      0.90      0.78        10\n",
      "      ROTANA       1.00      1.00      1.00        35\n",
      "      SAFAVI       1.00      1.00      1.00        33\n",
      "       SOGAY       0.81      0.85      0.83        20\n",
      "\n",
      "    accuracy                           0.91       180\n",
      "   macro avg       0.87      0.87      0.86       180\n",
      "weighted avg       0.92      0.91      0.91       180\n",
      "\n"
     ]
    }
   ],
   "source": [
    "cr = classification_report(y_test, y_preds)\n",
    "print(cr)"
   ]
  },
  {
   "cell_type": "code",
   "execution_count": 126,
   "id": "daad05ff-645b-4f9c-b9d6-8295eb2b820c",
   "metadata": {},
   "outputs": [
    {
     "data": {
      "text/html": [
       "<div>\n",
       "<style scoped>\n",
       "    .dataframe tbody tr th:only-of-type {\n",
       "        vertical-align: middle;\n",
       "    }\n",
       "\n",
       "    .dataframe tbody tr th {\n",
       "        vertical-align: top;\n",
       "    }\n",
       "\n",
       "    .dataframe thead th {\n",
       "        text-align: right;\n",
       "    }\n",
       "</style>\n",
       "<table border=\"1\" class=\"dataframe\">\n",
       "  <thead>\n",
       "    <tr style=\"text-align: right;\">\n",
       "      <th></th>\n",
       "      <th>BERHI</th>\n",
       "      <th>DEGLET</th>\n",
       "      <th>DOKOL</th>\n",
       "      <th>IRAQI</th>\n",
       "      <th>ROTANA</th>\n",
       "      <th>SAFAVI</th>\n",
       "      <th>SOGAY</th>\n",
       "    </tr>\n",
       "  </thead>\n",
       "  <tbody>\n",
       "    <tr>\n",
       "      <th>BERHI</th>\n",
       "      <td>7</td>\n",
       "      <td>0</td>\n",
       "      <td>0</td>\n",
       "      <td>4</td>\n",
       "      <td>0</td>\n",
       "      <td>0</td>\n",
       "      <td>1</td>\n",
       "    </tr>\n",
       "    <tr>\n",
       "      <th>DEGLET</th>\n",
       "      <td>0</td>\n",
       "      <td>17</td>\n",
       "      <td>0</td>\n",
       "      <td>0</td>\n",
       "      <td>0</td>\n",
       "      <td>0</td>\n",
       "      <td>3</td>\n",
       "    </tr>\n",
       "    <tr>\n",
       "      <th>DOKOL</th>\n",
       "      <td>0</td>\n",
       "      <td>5</td>\n",
       "      <td>45</td>\n",
       "      <td>0</td>\n",
       "      <td>0</td>\n",
       "      <td>0</td>\n",
       "      <td>0</td>\n",
       "    </tr>\n",
       "    <tr>\n",
       "      <th>IRAQI</th>\n",
       "      <td>1</td>\n",
       "      <td>0</td>\n",
       "      <td>0</td>\n",
       "      <td>9</td>\n",
       "      <td>0</td>\n",
       "      <td>0</td>\n",
       "      <td>0</td>\n",
       "    </tr>\n",
       "    <tr>\n",
       "      <th>ROTANA</th>\n",
       "      <td>0</td>\n",
       "      <td>0</td>\n",
       "      <td>0</td>\n",
       "      <td>0</td>\n",
       "      <td>35</td>\n",
       "      <td>0</td>\n",
       "      <td>0</td>\n",
       "    </tr>\n",
       "    <tr>\n",
       "      <th>SAFAVI</th>\n",
       "      <td>0</td>\n",
       "      <td>0</td>\n",
       "      <td>0</td>\n",
       "      <td>0</td>\n",
       "      <td>0</td>\n",
       "      <td>33</td>\n",
       "      <td>0</td>\n",
       "    </tr>\n",
       "    <tr>\n",
       "      <th>SOGAY</th>\n",
       "      <td>0</td>\n",
       "      <td>3</td>\n",
       "      <td>0</td>\n",
       "      <td>0</td>\n",
       "      <td>0</td>\n",
       "      <td>0</td>\n",
       "      <td>17</td>\n",
       "    </tr>\n",
       "  </tbody>\n",
       "</table>\n",
       "</div>"
      ],
      "text/plain": [
       "        BERHI  DEGLET  DOKOL  IRAQI  ROTANA  SAFAVI  SOGAY\n",
       "BERHI       7       0      0      4       0       0      1\n",
       "DEGLET      0      17      0      0       0       0      3\n",
       "DOKOL       0       5     45      0       0       0      0\n",
       "IRAQI       1       0      0      9       0       0      0\n",
       "ROTANA      0       0      0      0      35       0      0\n",
       "SAFAVI      0       0      0      0       0      33      0\n",
       "SOGAY       0       3      0      0       0       0     17"
      ]
     },
     "execution_count": 126,
     "metadata": {},
     "output_type": "execute_result"
    }
   ],
   "source": [
    "# confusion Matrix\n",
    "cm = confusion_matrix(y_test, y_preds)\n",
    "cmatrix = pd.DataFrame(cm, index= ['BERHI', 'DEGLET', 'DOKOL', 'IRAQI', 'ROTANA', 'SAFAVI', 'SOGAY'], \\\n",
    "columns =['BERHI', 'DEGLET', 'DOKOL', 'IRAQI', 'ROTANA', 'SAFAVI', 'SOGAY'])\n",
    "cmatrix"
   ]
  },
  {
   "cell_type": "code",
   "execution_count": 127,
   "id": "bd913004-69a3-4fbc-894e-d48a6af963e3",
   "metadata": {},
   "outputs": [
    {
     "data": {
      "image/png": "[encoded data removed]",
      "text/plain": [
       "<Figure size 864x432 with 2 Axes>"
      ]
     },
     "metadata": {},
     "output_type": "display_data"
    }
   ],
   "source": [
    "# plot the cm\n",
    "fig, ax = plt.subplots(figsize = (12,6))\n",
    "sns.heatmap(cmatrix/np.sum(cmatrix), linewidth=0.3,  fmt='0.2%',cmap = 'Reds',xticklabels = True, annot =True)\n",
    "ax.set(title = 'Confusion Matrix', xlabel = 'Predicted Class', ylabel = 'Actual Class');"
   ]
  },
  {
   "cell_type": "markdown",
   "id": "eb995e0a-9332-4663-b09a-47e84e2a7677",
   "metadata": {},
   "source": [
    "## **Finding and conclusion**\n",
    "1. => The model training score is 100% ie, considers all elements of the datsets\n",
    "2. => The model test score is 90.5% accuracy level"
   ]
  }
 ],
 "metadata": {
  "kernelspec": {
   "display_name": "Python 3.8.8 ('base')",
   "language": "python",
   "name": "python3"
  },
  "language_info": {
   "codemirror_mode": {
    "name": "ipython",
    "version": 3
   },
   "file_extension": ".py",
   "mimetype": "text/x-python",
   "name": "python",
   "nbconvert_exporter": "python",
   "pygments_lexer": "ipython3",
   "version": "3.8.8"
  },
  "vscode": {
   "interpreter": {
    "hash": "04432e9cb04e2fb3149b8a5784993b7cc60c7311097686f676b8575bd3fcad92"
   }
  }
 },
 "nbformat": 4,
 "nbformat_minor": 5
}
