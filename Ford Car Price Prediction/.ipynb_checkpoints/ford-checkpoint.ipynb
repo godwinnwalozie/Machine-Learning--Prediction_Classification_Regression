{
 "cells": [
  {
   "cell_type": "code",
   "execution_count": 1,
   "id": "6fcc6097-4965-4be7-96a2-47763c01a63b",
   "metadata": {},
   "outputs": [],
   "source": [
    "import pandas as pd\n",
    "import numpy as np\n",
    "import matplotlib.pyplot as plt\n",
    "import seaborn as sns\n",
    "from dateutil import parser\n",
    "import opendatasets as od\n",
    "from datetime import datetime, date, time\n",
    "from matplotlib.image import imread\n",
    "%matplotlib inline\n",
    "sns.set()"
   ]
  },
  {
   "cell_type": "code",
   "execution_count": 2,
   "id": "5050e3d5-6f3b-4b51-bf89-ab0effcd85fb",
   "metadata": {},
   "outputs": [
    {
     "data": {
      "text/html": [
       "<div>\n",
       "<style scoped>\n",
       "    .dataframe tbody tr th:only-of-type {\n",
       "        vertical-align: middle;\n",
       "    }\n",
       "\n",
       "    .dataframe tbody tr th {\n",
       "        vertical-align: top;\n",
       "    }\n",
       "\n",
       "    .dataframe thead th {\n",
       "        text-align: right;\n",
       "    }\n",
       "</style>\n",
       "<table border=\"1\" class=\"dataframe\">\n",
       "  <thead>\n",
       "    <tr style=\"text-align: right;\">\n",
       "      <th></th>\n",
       "      <th>model</th>\n",
       "      <th>year</th>\n",
       "      <th>price</th>\n",
       "      <th>transmission</th>\n",
       "      <th>mileage</th>\n",
       "      <th>fuelType</th>\n",
       "      <th>tax</th>\n",
       "      <th>mpg</th>\n",
       "      <th>engineSize</th>\n",
       "    </tr>\n",
       "  </thead>\n",
       "  <tbody>\n",
       "    <tr>\n",
       "      <th>0</th>\n",
       "      <td>Fiesta</td>\n",
       "      <td>2017</td>\n",
       "      <td>12000</td>\n",
       "      <td>Automatic</td>\n",
       "      <td>15944</td>\n",
       "      <td>Petrol</td>\n",
       "      <td>150</td>\n",
       "      <td>57.7</td>\n",
       "      <td>1.0</td>\n",
       "    </tr>\n",
       "    <tr>\n",
       "      <th>1</th>\n",
       "      <td>Focus</td>\n",
       "      <td>2018</td>\n",
       "      <td>14000</td>\n",
       "      <td>Manual</td>\n",
       "      <td>9083</td>\n",
       "      <td>Petrol</td>\n",
       "      <td>150</td>\n",
       "      <td>57.7</td>\n",
       "      <td>1.0</td>\n",
       "    </tr>\n",
       "    <tr>\n",
       "      <th>2</th>\n",
       "      <td>Focus</td>\n",
       "      <td>2017</td>\n",
       "      <td>13000</td>\n",
       "      <td>Manual</td>\n",
       "      <td>12456</td>\n",
       "      <td>Petrol</td>\n",
       "      <td>150</td>\n",
       "      <td>57.7</td>\n",
       "      <td>1.0</td>\n",
       "    </tr>\n",
       "    <tr>\n",
       "      <th>3</th>\n",
       "      <td>Fiesta</td>\n",
       "      <td>2019</td>\n",
       "      <td>17500</td>\n",
       "      <td>Manual</td>\n",
       "      <td>10460</td>\n",
       "      <td>Petrol</td>\n",
       "      <td>145</td>\n",
       "      <td>40.3</td>\n",
       "      <td>1.5</td>\n",
       "    </tr>\n",
       "    <tr>\n",
       "      <th>4</th>\n",
       "      <td>Fiesta</td>\n",
       "      <td>2019</td>\n",
       "      <td>16500</td>\n",
       "      <td>Automatic</td>\n",
       "      <td>1482</td>\n",
       "      <td>Petrol</td>\n",
       "      <td>145</td>\n",
       "      <td>48.7</td>\n",
       "      <td>1.0</td>\n",
       "    </tr>\n",
       "    <tr>\n",
       "      <th>...</th>\n",
       "      <td>...</td>\n",
       "      <td>...</td>\n",
       "      <td>...</td>\n",
       "      <td>...</td>\n",
       "      <td>...</td>\n",
       "      <td>...</td>\n",
       "      <td>...</td>\n",
       "      <td>...</td>\n",
       "      <td>...</td>\n",
       "    </tr>\n",
       "    <tr>\n",
       "      <th>17961</th>\n",
       "      <td>B-MAX</td>\n",
       "      <td>2017</td>\n",
       "      <td>8999</td>\n",
       "      <td>Manual</td>\n",
       "      <td>16700</td>\n",
       "      <td>Petrol</td>\n",
       "      <td>150</td>\n",
       "      <td>47.1</td>\n",
       "      <td>1.4</td>\n",
       "    </tr>\n",
       "    <tr>\n",
       "      <th>17962</th>\n",
       "      <td>B-MAX</td>\n",
       "      <td>2014</td>\n",
       "      <td>7499</td>\n",
       "      <td>Manual</td>\n",
       "      <td>40700</td>\n",
       "      <td>Petrol</td>\n",
       "      <td>30</td>\n",
       "      <td>57.7</td>\n",
       "      <td>1.0</td>\n",
       "    </tr>\n",
       "    <tr>\n",
       "      <th>17963</th>\n",
       "      <td>Focus</td>\n",
       "      <td>2015</td>\n",
       "      <td>9999</td>\n",
       "      <td>Manual</td>\n",
       "      <td>7010</td>\n",
       "      <td>Diesel</td>\n",
       "      <td>20</td>\n",
       "      <td>67.3</td>\n",
       "      <td>1.6</td>\n",
       "    </tr>\n",
       "    <tr>\n",
       "      <th>17964</th>\n",
       "      <td>KA</td>\n",
       "      <td>2018</td>\n",
       "      <td>8299</td>\n",
       "      <td>Manual</td>\n",
       "      <td>5007</td>\n",
       "      <td>Petrol</td>\n",
       "      <td>145</td>\n",
       "      <td>57.7</td>\n",
       "      <td>1.2</td>\n",
       "    </tr>\n",
       "    <tr>\n",
       "      <th>17965</th>\n",
       "      <td>Focus</td>\n",
       "      <td>2015</td>\n",
       "      <td>8299</td>\n",
       "      <td>Manual</td>\n",
       "      <td>5007</td>\n",
       "      <td>Petrol</td>\n",
       "      <td>22</td>\n",
       "      <td>57.7</td>\n",
       "      <td>1.0</td>\n",
       "    </tr>\n",
       "  </tbody>\n",
       "</table>\n",
       "<p>17966 rows × 9 columns</p>\n",
       "</div>"
      ],
      "text/plain": [
       "         model  year  price transmission  mileage fuelType  tax   mpg  \\\n",
       "0       Fiesta  2017  12000    Automatic    15944   Petrol  150  57.7   \n",
       "1        Focus  2018  14000       Manual     9083   Petrol  150  57.7   \n",
       "2        Focus  2017  13000       Manual    12456   Petrol  150  57.7   \n",
       "3       Fiesta  2019  17500       Manual    10460   Petrol  145  40.3   \n",
       "4       Fiesta  2019  16500    Automatic     1482   Petrol  145  48.7   \n",
       "...        ...   ...    ...          ...      ...      ...  ...   ...   \n",
       "17961    B-MAX  2017   8999       Manual    16700   Petrol  150  47.1   \n",
       "17962    B-MAX  2014   7499       Manual    40700   Petrol   30  57.7   \n",
       "17963    Focus  2015   9999       Manual     7010   Diesel   20  67.3   \n",
       "17964       KA  2018   8299       Manual     5007   Petrol  145  57.7   \n",
       "17965    Focus  2015   8299       Manual     5007   Petrol   22  57.7   \n",
       "\n",
       "       engineSize  \n",
       "0             1.0  \n",
       "1             1.0  \n",
       "2             1.0  \n",
       "3             1.5  \n",
       "4             1.0  \n",
       "...           ...  \n",
       "17961         1.4  \n",
       "17962         1.0  \n",
       "17963         1.6  \n",
       "17964         1.2  \n",
       "17965         1.0  \n",
       "\n",
       "[17966 rows x 9 columns]"
      ]
     },
     "execution_count": 2,
     "metadata": {},
     "output_type": "execute_result"
    }
   ],
   "source": [
    "ford = pd.read_csv('ford.csv')\n",
    "ford"
   ]
  },
  {
   "cell_type": "code",
   "execution_count": 3,
   "id": "230eaacf-7511-4a9b-9805-3bcbb1fa3f4f",
   "metadata": {},
   "outputs": [
    {
     "name": "stdout",
     "output_type": "stream",
     "text": [
      "<class 'pandas.core.frame.DataFrame'>\n",
      "RangeIndex: 17966 entries, 0 to 17965\n",
      "Data columns (total 9 columns):\n",
      " #   Column        Non-Null Count  Dtype  \n",
      "---  ------        --------------  -----  \n",
      " 0   model         17966 non-null  object \n",
      " 1   year          17966 non-null  int64  \n",
      " 2   price         17966 non-null  int64  \n",
      " 3   transmission  17966 non-null  object \n",
      " 4   mileage       17966 non-null  int64  \n",
      " 5   fuelType      17966 non-null  object \n",
      " 6   tax           17966 non-null  int64  \n",
      " 7   mpg           17966 non-null  float64\n",
      " 8   engineSize    17966 non-null  float64\n",
      "dtypes: float64(2), int64(4), object(3)\n",
      "memory usage: 1.2+ MB\n"
     ]
    }
   ],
   "source": [
    "ford.info()"
   ]
  },
  {
   "cell_type": "code",
   "execution_count": 4,
   "id": "09a73dac-b92f-4f9a-a4cd-ca585db81124",
   "metadata": {},
   "outputs": [
    {
     "data": {
      "text/plain": [
       "model           0\n",
       "year            0\n",
       "price           0\n",
       "transmission    0\n",
       "mileage         0\n",
       "fuelType        0\n",
       "tax             0\n",
       "mpg             0\n",
       "engineSize      0\n",
       "dtype: int64"
      ]
     },
     "execution_count": 4,
     "metadata": {},
     "output_type": "execute_result"
    }
   ],
   "source": [
    "ford.isna().sum()"
   ]
  },
  {
   "cell_type": "markdown",
   "id": "c0354ac0-7472-4cc7-9f32-0ba5f467e285",
   "metadata": {},
   "source": [
    "# **Lets do some Exploration and Data Analysis**"
   ]
  },
  {
   "cell_type": "code",
   "execution_count": 5,
   "id": "27055a15-0982-41c3-a9f8-4968a7f81ad9",
   "metadata": {},
   "outputs": [
    {
     "data": {
      "text/html": [
       "<div>\n",
       "<style scoped>\n",
       "    .dataframe tbody tr th:only-of-type {\n",
       "        vertical-align: middle;\n",
       "    }\n",
       "\n",
       "    .dataframe tbody tr th {\n",
       "        vertical-align: top;\n",
       "    }\n",
       "\n",
       "    .dataframe thead th {\n",
       "        text-align: right;\n",
       "    }\n",
       "</style>\n",
       "<table border=\"1\" class=\"dataframe\">\n",
       "  <thead>\n",
       "    <tr style=\"text-align: right;\">\n",
       "      <th></th>\n",
       "      <th>model</th>\n",
       "    </tr>\n",
       "  </thead>\n",
       "  <tbody>\n",
       "    <tr>\n",
       "      <th>Fiesta</th>\n",
       "      <td>6557</td>\n",
       "    </tr>\n",
       "    <tr>\n",
       "      <th>Focus</th>\n",
       "      <td>4588</td>\n",
       "    </tr>\n",
       "    <tr>\n",
       "      <th>Kuga</th>\n",
       "      <td>2225</td>\n",
       "    </tr>\n",
       "    <tr>\n",
       "      <th>EcoSport</th>\n",
       "      <td>1143</td>\n",
       "    </tr>\n",
       "    <tr>\n",
       "      <th>C-MAX</th>\n",
       "      <td>543</td>\n",
       "    </tr>\n",
       "  </tbody>\n",
       "</table>\n",
       "</div>"
      ],
      "text/plain": [
       "           model\n",
       " Fiesta     6557\n",
       " Focus      4588\n",
       " Kuga       2225\n",
       " EcoSport   1143\n",
       " C-MAX       543"
      ]
     },
     "execution_count": 5,
     "metadata": {},
     "output_type": "execute_result"
    }
   ],
   "source": [
    "model = ford.model.value_counts().to_frame()\n",
    "model.head()"
   ]
  },
  {
   "cell_type": "code",
   "execution_count": 6,
   "id": "ce29e852-92b4-40b1-b3a2-42098fc262bb",
   "metadata": {},
   "outputs": [
    {
     "data": {
      "image/png": "[encoded data removed]",
      "text/plain": [
       "<Figure size 720x504 with 1 Axes>"
      ]
     },
     "metadata": {},
     "output_type": "display_data"
    }
   ],
   "source": [
    "# check the models by count\n",
    "fig,ax = plt.subplots(figsize = (10,7))\n",
    "sns.barplot(data = model, x = model.model, y = model.index);\n",
    "ax.set(title = 'Ford Models by count',xlabel = 'count',ylabel = 'model');"
   ]
  },
  {
   "cell_type": "code",
   "execution_count": 7,
   "id": "be733dc1-8c2c-4b00-8947-c98faaf5106b",
   "metadata": {},
   "outputs": [
    {
     "data": {
      "image/png": "[encoded data removed]",
      "text/plain": [
       "<Figure size 720x504 with 1 Axes>"
      ]
     },
     "metadata": {},
     "output_type": "display_data"
    }
   ],
   "source": [
    "# model price by year\n",
    "fig,ax = plt.subplots(figsize = (10,7))\n",
    "mpy = ford.loc[:, ['model','price']]\n",
    "sns.barplot (data = mpy.groupby('model').mean().sort_values('price', ascending = False),\\\n",
    "            y = mpy.groupby('model').mean().sort_values('price', ascending = False).index, \\\n",
    "            x =  mpy.groupby('model').mean().sort_values('price', ascending = False).price, ax= ax);\n",
    "ax.set(title = 'Models by average price');"
   ]
  },
  {
   "cell_type": "code",
   "execution_count": 8,
   "id": "3c280ad3-3a60-47a0-bd2d-09e0535d1b03",
   "metadata": {},
   "outputs": [
    {
     "data": {
      "text/html": [
       "<div>\n",
       "<style scoped>\n",
       "    .dataframe tbody tr th:only-of-type {\n",
       "        vertical-align: middle;\n",
       "    }\n",
       "\n",
       "    .dataframe tbody tr th {\n",
       "        vertical-align: top;\n",
       "    }\n",
       "\n",
       "    .dataframe thead th {\n",
       "        text-align: right;\n",
       "    }\n",
       "</style>\n",
       "<table border=\"1\" class=\"dataframe\">\n",
       "  <thead>\n",
       "    <tr style=\"text-align: right;\">\n",
       "      <th></th>\n",
       "      <th>year</th>\n",
       "      <th>price</th>\n",
       "      <th>mileage</th>\n",
       "      <th>tax</th>\n",
       "      <th>mpg</th>\n",
       "      <th>engineSize</th>\n",
       "    </tr>\n",
       "  </thead>\n",
       "  <tbody>\n",
       "    <tr>\n",
       "      <th>year</th>\n",
       "      <td>1.000000</td>\n",
       "      <td>0.636009</td>\n",
       "      <td>-0.707818</td>\n",
       "      <td>0.298506</td>\n",
       "      <td>-0.022967</td>\n",
       "      <td>-0.137311</td>\n",
       "    </tr>\n",
       "    <tr>\n",
       "      <th>price</th>\n",
       "      <td>0.636009</td>\n",
       "      <td>1.000000</td>\n",
       "      <td>-0.530659</td>\n",
       "      <td>0.406857</td>\n",
       "      <td>-0.346419</td>\n",
       "      <td>0.411178</td>\n",
       "    </tr>\n",
       "    <tr>\n",
       "      <th>mileage</th>\n",
       "      <td>-0.707818</td>\n",
       "      <td>-0.530659</td>\n",
       "      <td>1.000000</td>\n",
       "      <td>-0.260451</td>\n",
       "      <td>0.120075</td>\n",
       "      <td>0.215035</td>\n",
       "    </tr>\n",
       "    <tr>\n",
       "      <th>tax</th>\n",
       "      <td>0.298506</td>\n",
       "      <td>0.406857</td>\n",
       "      <td>-0.260451</td>\n",
       "      <td>1.000000</td>\n",
       "      <td>-0.502980</td>\n",
       "      <td>0.184363</td>\n",
       "    </tr>\n",
       "  </tbody>\n",
       "</table>\n",
       "</div>"
      ],
      "text/plain": [
       "             year     price   mileage       tax       mpg  engineSize\n",
       "year     1.000000  0.636009 -0.707818  0.298506 -0.022967   -0.137311\n",
       "price    0.636009  1.000000 -0.530659  0.406857 -0.346419    0.411178\n",
       "mileage -0.707818 -0.530659  1.000000 -0.260451  0.120075    0.215035\n",
       "tax      0.298506  0.406857 -0.260451  1.000000 -0.502980    0.184363"
      ]
     },
     "execution_count": 8,
     "metadata": {},
     "output_type": "execute_result"
    }
   ],
   "source": [
    "ford.corr()[:4]"
   ]
  },
  {
   "cell_type": "code",
   "execution_count": 9,
   "id": "ea39062c-02e8-4b81-a9b7-054efe9482fb",
   "metadata": {},
   "outputs": [
    {
     "data": {
      "image/png": "[encoded data removed]",
      "text/plain": [
       "<Figure size 720x504 with 2 Axes>"
      ]
     },
     "metadata": {},
     "output_type": "display_data"
    }
   ],
   "source": [
    "fig,ax = plt.subplots(figsize = (10,7))\n",
    "sns.heatmap(ford.corr(),annot= True,ax=ax);"
   ]
  },
  {
   "cell_type": "markdown",
   "id": "49be500a-720d-4173-ab9d-0f678b3e9135",
   "metadata": {},
   "source": [
    "## **Feature correlations**\n",
    "# 1. higher price if engine size is larger\n",
    "# 2. higher price results in high tax\n",
    "# 3. higher price results i higher model year\n",
    "# 4. higher mileage result in lower price"
   ]
  },
  {
   "cell_type": "code",
   "execution_count": 10,
   "id": "95eb11c2-f8b4-440a-99b6-f4a53b44d5a0",
   "metadata": {},
   "outputs": [],
   "source": [
    "# split the data\n",
    "X= ford.drop('price', axis = 1)\n",
    "y =ford['price']"
   ]
  },
  {
   "cell_type": "code",
   "execution_count": 11,
   "id": "4852ff84-ac29-47b1-bcb5-6b987b31067d",
   "metadata": {},
   "outputs": [
    {
     "data": {
      "text/plain": [
       "(17966, 17966)"
      ]
     },
     "execution_count": 11,
     "metadata": {},
     "output_type": "execute_result"
    }
   ],
   "source": [
    "len(X) , len(y)"
   ]
  },
  {
   "cell_type": "markdown",
   "id": "3c79b64a-ac60-482f-9a35-374f10bee84c",
   "metadata": {},
   "source": [
    "# **Preprocessing => converting non numeric features to numeric**"
   ]
  },
  {
   "cell_type": "code",
   "execution_count": 12,
   "id": "64fa8076-a490-4d36-a16d-d6dfbee17a47",
   "metadata": {},
   "outputs": [
    {
     "data": {
      "text/plain": [
       "(17966, 38)"
      ]
     },
     "execution_count": 12,
     "metadata": {},
     "output_type": "execute_result"
    }
   ],
   "source": [
    "# changing the car categories into to numbers\n",
    "from sklearn.preprocessing import OneHotEncoder\n",
    "from sklearn.compose import ColumnTransformer\n",
    "\n",
    "# now defime our categorical features\n",
    "categorical_features  = ['model','transmission','fuelType']\n",
    "one_hot = OneHotEncoder()\n",
    "transformer = ColumnTransformer ([(\"one_hot\",\n",
    "                                   one_hot,\n",
    "                                   categorical_features)],\n",
    "                                 remainder= 'passthrough',sparse_threshold=0)   # will take in a turple\n",
    "                                 \n",
    "                                 \n",
    "new_X = transformer.fit_transform(ford)\n",
    "new_X.shape   # this is X that has undergone cleaning"
   ]
  },
  {
   "cell_type": "code",
   "execution_count": 13,
   "id": "de6861bc-b3fa-4538-a30f-c2462ddb5b4d",
   "metadata": {},
   "outputs": [
    {
     "data": {
      "text/plain": [
       "array([ 6995.  ,  8999.  ,  7998.  , ..., 24988.09, 10500.  , 19713.93])"
      ]
     },
     "execution_count": 13,
     "metadata": {},
     "output_type": "execute_result"
    }
   ],
   "source": [
    "# import model\n",
    "from sklearn.ensemble import RandomForestRegressor\n",
    "\n",
    "\n",
    "# split into train and test\n",
    "from sklearn.model_selection import train_test_split\n",
    "\n",
    "# split the data\n",
    "X= ford.drop('price', axis = 1)\n",
    "y =ford['price']\n",
    "\n",
    "np.random.seed(42)\n",
    "X_train, X_test, y_train, y_test = train_test_split(new_X, y, test_size = 0.2 )\n",
    "\n",
    "#****************************************************************************************************\n",
    "# fit the model\n",
    "model= RandomForestRegressor()  #clf can also be called model\n",
    "model.fit(X_train, y_train)\n",
    "\n",
    "\n",
    "# predict the model\n",
    "y_preds = model.predict(X_test)\n",
    "y_preds"
   ]
  },
  {
   "cell_type": "code",
   "execution_count": 14,
   "id": "e3731692-70bd-4df4-aff5-3e526e9ff554",
   "metadata": {},
   "outputs": [
    {
     "name": "stdout",
     "output_type": "stream",
     "text": [
      "Training Score:0.9999654172568951\n",
      "Test Score: 0.9999838454638043\n",
      "\n",
      "Classifier Cross Validation_Score: [0.99998601 0.99999676 0.99999432 0.99863456 0.99987798]\n",
      "Classifier Cross Validation_Score_Mean: 0.9996230915504946\n",
      "\n",
      "mean_absolute_error : 1.8688230383973494\n",
      "mean_squared_error : 362.0563000834745\n"
     ]
    }
   ],
   "source": [
    "# Evaluation of the model\n",
    "from sklearn.metrics import classification_report, mean_absolute_error, mean_squared_error\n",
    "\n",
    "# inbuilt score \n",
    "print(f'Training Score:{model.score(X_train, y_train)}') # inbuilt accuracy score\n",
    "print(f'Test Score: {model.score(X_test, y_test)}')     # inbuilt accuracy score\n",
    "\n",
    "print()\n",
    "# cross validation score\n",
    "from sklearn.model_selection import cross_val_score\n",
    "print(f\"Classifier Cross Validation_Score: {cross_val_score(model,new_X,y,cv= 5)}\") # cross validation\n",
    "print(f\"Classifier Cross Validation_Score_Mean: {np.mean(cross_val_score(model,new_X,y,cv= 5))}\") # cross validation\n",
    "\n",
    "print()\n",
    "# Mean Absolute error\n",
    "from sklearn.metrics import mean_absolute_error\n",
    "y_pred = model.predict(X_test)\n",
    "mean_absolute_error = mean_absolute_error(y_test, y_pred)\n",
    "print(f'mean_absolute_error : {mean_absolute_error}')\n",
    "\n",
    "# Mean Squared Values\n",
    "from sklearn.metrics import mean_squared_error\n",
    "mean_squared_error = mean_squared_error(y_test, y_pred)\n",
    "print(f'mean_squared_error : {mean_squared_error}')"
   ]
  },
  {
   "cell_type": "markdown",
   "id": "39949601-a303-4a27-aa95-02ec6cc601cd",
   "metadata": {},
   "source": [
    "## **Lets Fine tune the model's parameter  with RandomSearchCV**"
   ]
  },
  {
   "cell_type": "code",
   "execution_count": 15,
   "id": "f11df3c2-301e-4d4f-8398-f3cf8fd4d724",
   "metadata": {},
   "outputs": [
    {
     "name": "stdout",
     "output_type": "stream",
     "text": [
      "Fitting 5 folds for each of 5 candidates, totalling 25 fits\n",
      "[CV] END bootstrap=True, max_depth=20, max_features=sqrt, min_samples_leaf=4, min_samples_split=4, n_estimators=10; total time=   2.7s\n",
      "[CV] END bootstrap=True, max_depth=20, max_features=sqrt, min_samples_leaf=4, min_samples_split=4, n_estimators=10; total time=   0.1s\n",
      "[CV] END bootstrap=True, max_depth=20, max_features=sqrt, min_samples_leaf=4, min_samples_split=4, n_estimators=10; total time=   0.1s\n",
      "[CV] END bootstrap=True, max_depth=20, max_features=sqrt, min_samples_leaf=4, min_samples_split=4, n_estimators=10; total time=   0.1s\n",
      "[CV] END bootstrap=True, max_depth=20, max_features=sqrt, min_samples_leaf=4, min_samples_split=4, n_estimators=10; total time=   0.1s\n",
      "[CV] END bootstrap=True, max_depth=10, max_features=auto, min_samples_leaf=4, min_samples_split=2, n_estimators=100; total time=   0.9s\n",
      "[CV] END bootstrap=True, max_depth=10, max_features=auto, min_samples_leaf=4, min_samples_split=2, n_estimators=100; total time=   1.0s\n",
      "[CV] END bootstrap=True, max_depth=10, max_features=auto, min_samples_leaf=4, min_samples_split=2, n_estimators=100; total time=   1.0s\n",
      "[CV] END bootstrap=True, max_depth=10, max_features=auto, min_samples_leaf=4, min_samples_split=2, n_estimators=100; total time=   1.2s\n",
      "[CV] END bootstrap=True, max_depth=10, max_features=auto, min_samples_leaf=4, min_samples_split=2, n_estimators=100; total time=   1.1s\n",
      "[CV] END bootstrap=False, max_depth=10, max_features=auto, min_samples_leaf=4, min_samples_split=2, n_estimators=50; total time=   0.8s\n",
      "[CV] END bootstrap=False, max_depth=10, max_features=auto, min_samples_leaf=4, min_samples_split=2, n_estimators=50; total time=   0.8s\n",
      "[CV] END bootstrap=False, max_depth=10, max_features=auto, min_samples_leaf=4, min_samples_split=2, n_estimators=50; total time=   0.8s\n",
      "[CV] END bootstrap=False, max_depth=10, max_features=auto, min_samples_leaf=4, min_samples_split=2, n_estimators=50; total time=   0.8s\n",
      "[CV] END bootstrap=False, max_depth=10, max_features=auto, min_samples_leaf=4, min_samples_split=2, n_estimators=50; total time=   0.8s\n",
      "[CV] END bootstrap=False, max_depth=30, max_features=sqrt, min_samples_leaf=6, min_samples_split=4, n_estimators=100; total time=   0.5s\n",
      "[CV] END bootstrap=False, max_depth=30, max_features=sqrt, min_samples_leaf=6, min_samples_split=4, n_estimators=100; total time=   0.5s\n",
      "[CV] END bootstrap=False, max_depth=30, max_features=sqrt, min_samples_leaf=6, min_samples_split=4, n_estimators=100; total time=   0.5s\n",
      "[CV] END bootstrap=False, max_depth=30, max_features=sqrt, min_samples_leaf=6, min_samples_split=4, n_estimators=100; total time=   0.5s\n",
      "[CV] END bootstrap=False, max_depth=30, max_features=sqrt, min_samples_leaf=6, min_samples_split=4, n_estimators=100; total time=   0.5s\n",
      "[CV] END bootstrap=True, max_depth=30, max_features=auto, min_samples_leaf=4, min_samples_split=6, n_estimators=100; total time=   1.2s\n",
      "[CV] END bootstrap=True, max_depth=30, max_features=auto, min_samples_leaf=4, min_samples_split=6, n_estimators=100; total time=   1.3s\n",
      "[CV] END bootstrap=True, max_depth=30, max_features=auto, min_samples_leaf=4, min_samples_split=6, n_estimators=100; total time=   1.3s\n",
      "[CV] END bootstrap=True, max_depth=30, max_features=auto, min_samples_leaf=4, min_samples_split=6, n_estimators=100; total time=   1.0s\n",
      "[CV] END bootstrap=True, max_depth=30, max_features=auto, min_samples_leaf=4, min_samples_split=6, n_estimators=100; total time=   1.4s\n"
     ]
    },
    {
     "data": {
      "text/plain": [
       "RandomizedSearchCV(cv=5, estimator=RandomForestRegressor(n_jobs=-1), n_iter=5,\n",
       "                   param_distributions={'bootstrap': [True, False],\n",
       "                                        'max_depth': [None, 5, 10, 20, 30],\n",
       "                                        'max_features': ['auto', 'sqrt'],\n",
       "                                        'min_samples_leaf': [2, 4, 6],\n",
       "                                        'min_samples_split': [2, 4, 6],\n",
       "                                        'n_estimators': [10, 50, 100]},\n",
       "                   verbose=2)"
      ]
     },
     "execution_count": 15,
     "metadata": {},
     "output_type": "execute_result"
    }
   ],
   "source": [
    "# Randomized Search CV Tunining\n",
    "\n",
    "# import hyperparameter tuning with randomizedSearchCV\n",
    "from sklearn.model_selection import RandomizedSearchCV\n",
    "\n",
    "grid = {\"n_estimators\":[10,50,100],\n",
    "        \"max_depth\" : [None, 5, 10, 20, 30 ],\n",
    "        \"max_features\" :['auto',\"sqrt\"],\n",
    "        \"min_samples_split\" : [2,4,6],\n",
    "        \"min_samples_leaf\" : [2,4,6],\n",
    "       \"bootstrap\" : [True, False]\n",
    "       }\n",
    "\n",
    "# create seed\n",
    "np.random.seed(42)\n",
    "\n",
    "\n",
    "# train and split\n",
    "from sklearn.model_selection import train_test_split\n",
    "X_train, X_test, y_train,y_test = train_test_split(new_X,y, test_size = 0.2)\n",
    "\n",
    "# instantiate RandomForest Classifier\n",
    "clf = RandomForestRegressor(n_jobs = -1)  # n_jobs is the number of cores you want to use for computing\n",
    "\n",
    "# setup RandomizedSearchCV\n",
    "random =RandomizedSearchCV (estimator = clf,\n",
    "                          param_distributions = grid,\n",
    "                          n_iter = 5,\n",
    "                          cv=5,\n",
    "                          verbose = 2)\n",
    "\n",
    "# fint the RandomizedSearchCV version of fit\n",
    "random.fit(X_train, y_train)\n",
    "# print(‘Best hyper parameter:’, random.best_params_)"
   ]
  },
  {
   "cell_type": "code",
   "execution_count": 16,
   "id": "07c07874-819b-4ae1-803e-1132b8f452c6",
   "metadata": {},
   "outputs": [
    {
     "data": {
      "text/plain": [
       "{'n_estimators': 50,\n",
       " 'min_samples_split': 2,\n",
       " 'min_samples_leaf': 4,\n",
       " 'max_features': 'auto',\n",
       " 'max_depth': 10,\n",
       " 'bootstrap': False}"
      ]
     },
     "execution_count": 16,
     "metadata": {},
     "output_type": "execute_result"
    }
   ],
   "source": [
    "random.best_params_"
   ]
  },
  {
   "cell_type": "code",
   "execution_count": 17,
   "id": "7ffa6acb-72be-4676-ac5d-30af97b695ba",
   "metadata": {},
   "outputs": [
    {
     "data": {
      "text/plain": [
       "((3594,), (3594,))"
      ]
     },
     "execution_count": 17,
     "metadata": {},
     "output_type": "execute_result"
    }
   ],
   "source": [
    "# make predictions  with the best hyperparamaters\n",
    "rscv_preds = random.predict(X_test)\n",
    "rscv_preds.shape, y_test.shape\n",
    "# Evaluate predictiions\n",
    "#rs_metric = evaluate_preds(y_test, rs_y_preds)"
   ]
  },
  {
   "cell_type": "code",
   "execution_count": 18,
   "id": "de86d30a-aad5-4b00-b8a0-6d8345269dfc",
   "metadata": {},
   "outputs": [
    {
     "data": {
      "text/plain": [
       "0.9999837718903106"
      ]
     },
     "execution_count": 18,
     "metadata": {},
     "output_type": "execute_result"
    }
   ],
   "source": [
    "random.score(X_test, y_test)"
   ]
  }
 ],
 "metadata": {
  "kernelspec": {
   "display_name": "Python 3",
   "language": "python",
   "name": "python3"
  },
  "language_info": {
   "codemirror_mode": {
    "name": "ipython",
    "version": 3
   },
   "file_extension": ".py",
   "mimetype": "text/x-python",
   "name": "python",
   "nbconvert_exporter": "python",
   "pygments_lexer": "ipython3",
   "version": "3.8.8"
  }
 },
 "nbformat": 4,
 "nbformat_minor": 5
}
