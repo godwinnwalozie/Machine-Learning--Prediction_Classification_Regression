{
 "cells": [
  {
   "cell_type": "code",
   "execution_count": 1,
   "id": "1109b217-772c-4c88-877b-9325820f88d2",
   "metadata": {},
   "outputs": [],
   "source": [
    "import numpy as np\n",
    "import pandas as pd\n",
    "import os\n"
   ]
  },
  {
   "cell_type": "code",
   "execution_count": 13,
   "id": "d4403a96-b871-454d-bae5-35dee4ea29f5",
   "metadata": {},
   "outputs": [
    {
     "data": {
      "text/plain": [
       "['.ipynb_checkpoints',\n",
       " 'olist_customers_dataset.csv',\n",
       " 'olist_geolocation_dataset.csv',\n",
       " 'olist_orders_dataset.csv',\n",
       " 'olist_order_items_dataset.csv',\n",
       " 'olist_order_payments_dataset.csv',\n",
       " 'olist_order_reviews_dataset.csv',\n",
       " 'olist_products_dataset.csv',\n",
       " 'olist_sellers_dataset.csv',\n",
       " 'product_category_name_translation.csv']"
      ]
     },
     "execution_count": 13,
     "metadata": {},
     "output_type": "execute_result"
    }
   ],
   "source": [
    "# locate the file path\n",
    "url = 'C:/Users/godwi/GitHub/Machine-Learning--Prediction_Classification_Regression/E-Commerce/olist'\n",
    "path_url = os.listdir(url)\n",
    "path_url "
   ]
  },
  {
   "cell_type": "code",
   "execution_count": 17,
   "id": "29336ab8-daab-4298-a1dd-b945ef7fa21b",
   "metadata": {},
   "outputs": [],
   "source": [
    "# lets append the file path name\n",
    "path = []\n",
    "for url in path_url:\n",
    "    path.append('C:/Users/godwi/GitHub/Machine-Learning--Prediction_Classification_Regression/E-Commerce/olist'+url)"
   ]
  },
  {
   "cell_type": "code",
   "execution_count": 25,
   "id": "d44a291a-1d9e-4c63-a396-5fd6b0684cb6",
   "metadata": {},
   "outputs": [
    {
     "name": "stdout",
     "output_type": "stream",
     "text": [
      "['C:/Users/godwi/GitHub/Machine-Learning--Prediction_Classification_Regression/E-Commerce/olistproduct_category_name_translation.csv']\n"
     ]
    }
   ],
   "source": [
    "print(path[-1:])"
   ]
  },
  {
   "cell_type": "code",
   "execution_count": null,
   "id": "d17424d3-e391-440a-a879-faec3a1db307",
   "metadata": {},
   "outputs": [],
   "source": [
    "# now lets concatenate"
   ]
  }
 ],
 "metadata": {
  "kernelspec": {
   "display_name": "Python 3",
   "language": "python",
   "name": "python3"
  },
  "language_info": {
   "codemirror_mode": {
    "name": "ipython",
    "version": 3
   },
   "file_extension": ".py",
   "mimetype": "text/x-python",
   "name": "python",
   "nbconvert_exporter": "python",
   "pygments_lexer": "ipython3",
   "version": "3.8.8"
  }
 },
 "nbformat": 4,
 "nbformat_minor": 5
}
