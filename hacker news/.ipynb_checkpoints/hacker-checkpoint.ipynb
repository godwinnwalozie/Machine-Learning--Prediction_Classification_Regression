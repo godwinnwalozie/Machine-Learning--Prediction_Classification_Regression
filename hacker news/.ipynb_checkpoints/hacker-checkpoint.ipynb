{
 "cells": [
  {
   "cell_type": "markdown",
   "id": "029bc6f1-5570-4c19-be67-5b667b3a490b",
   "metadata": {},
   "source": [
    "## **This data set is Hacker News posts from the last 12 months (up to September 26 2016).**\n",
    "\n",
    "It includes the following columns:\n",
    "\n",
    "    title: title of the post (self explanatory)\n",
    "\n",
    "    url: the url of the item being linked to\n",
    "\n",
    "    num_points: the number of upvotes the post received\n",
    "\n",
    "    num_comments: the number of comments the post received\n",
    "\n",
    "    author: the name of the account that made the post\n",
    "\n",
    "    created_at: the date and time the post was made (the time zone is Eastern Time in the US)\n",
    "\n",
    "One fun project suggestion is a model to predict the number of votes a post will attract.\n",
    "\n",
    "The scraper is written, so I can keep this up-to-date and add more historical data. I can also scrape the comments. Just make the request in this dataset's forum."
   ]
  },
  {
   "cell_type": "code",
   "execution_count": 1,
   "id": "6dd0a1a5-834a-4ab0-a557-cf2f5eaf4573",
   "metadata": {},
   "outputs": [],
   "source": [
    "import numpy as np\n",
    "import pandas as pd"
   ]
  },
  {
   "cell_type": "code",
   "execution_count": 2,
   "id": "f4b4fc32-f1ed-454f-b781-9f1866376c97",
   "metadata": {},
   "outputs": [],
   "source": [
    "hack = pd.read_csv('HN_posts_year_to_Sep_26_2016.csv')"
   ]
  },
  {
   "cell_type": "code",
   "execution_count": 3,
   "id": "46f0bc40-4782-4cb8-9b0e-53368921b8de",
   "metadata": {},
   "outputs": [
    {
     "data": {
      "text/html": [
       "<div>\n",
       "<style scoped>\n",
       "    .dataframe tbody tr th:only-of-type {\n",
       "        vertical-align: middle;\n",
       "    }\n",
       "\n",
       "    .dataframe tbody tr th {\n",
       "        vertical-align: top;\n",
       "    }\n",
       "\n",
       "    .dataframe thead th {\n",
       "        text-align: right;\n",
       "    }\n",
       "</style>\n",
       "<table border=\"1\" class=\"dataframe\">\n",
       "  <thead>\n",
       "    <tr style=\"text-align: right;\">\n",
       "      <th></th>\n",
       "      <th>id</th>\n",
       "      <th>title</th>\n",
       "      <th>url</th>\n",
       "      <th>num_points</th>\n",
       "      <th>num_comments</th>\n",
       "      <th>author</th>\n",
       "      <th>created_at</th>\n",
       "    </tr>\n",
       "  </thead>\n",
       "  <tbody>\n",
       "    <tr>\n",
       "      <th>0</th>\n",
       "      <td>12579008</td>\n",
       "      <td>You have two days to comment if you want stem ...</td>\n",
       "      <td>http://www.regulations.gov/document?D=FDA-2015...</td>\n",
       "      <td>1</td>\n",
       "      <td>0</td>\n",
       "      <td>altstar</td>\n",
       "      <td>9/26/2016 3:26</td>\n",
       "    </tr>\n",
       "    <tr>\n",
       "      <th>1</th>\n",
       "      <td>12579005</td>\n",
       "      <td>SQLAR  the SQLite Archiver</td>\n",
       "      <td>https://www.sqlite.org/sqlar/doc/trunk/README.md</td>\n",
       "      <td>1</td>\n",
       "      <td>0</td>\n",
       "      <td>blacksqr</td>\n",
       "      <td>9/26/2016 3:24</td>\n",
       "    </tr>\n",
       "  </tbody>\n",
       "</table>\n",
       "</div>"
      ],
      "text/plain": [
       "         id                                              title  \\\n",
       "0  12579008  You have two days to comment if you want stem ...   \n",
       "1  12579005                         SQLAR  the SQLite Archiver   \n",
       "\n",
       "                                                 url  num_points  \\\n",
       "0  http://www.regulations.gov/document?D=FDA-2015...           1   \n",
       "1   https://www.sqlite.org/sqlar/doc/trunk/README.md           1   \n",
       "\n",
       "   num_comments    author      created_at  \n",
       "0             0   altstar  9/26/2016 3:26  \n",
       "1             0  blacksqr  9/26/2016 3:24  "
      ]
     },
     "execution_count": 3,
     "metadata": {},
     "output_type": "execute_result"
    }
   ],
   "source": [
    "hack.head(2)"
   ]
  },
  {
   "cell_type": "code",
   "execution_count": 4,
   "id": "a85f0c7a-de0f-464c-8447-4ff556269291",
   "metadata": {},
   "outputs": [
    {
     "data": {
      "text/html": [
       "<div>\n",
       "<style scoped>\n",
       "    .dataframe tbody tr th:only-of-type {\n",
       "        vertical-align: middle;\n",
       "    }\n",
       "\n",
       "    .dataframe tbody tr th {\n",
       "        vertical-align: top;\n",
       "    }\n",
       "\n",
       "    .dataframe thead th {\n",
       "        text-align: right;\n",
       "    }\n",
       "</style>\n",
       "<table border=\"1\" class=\"dataframe\">\n",
       "  <thead>\n",
       "    <tr style=\"text-align: right;\">\n",
       "      <th></th>\n",
       "      <th>id</th>\n",
       "      <th>title</th>\n",
       "      <th>url</th>\n",
       "      <th>num_points</th>\n",
       "      <th>num_comments</th>\n",
       "      <th>author</th>\n",
       "      <th>created_at</th>\n",
       "    </tr>\n",
       "  </thead>\n",
       "  <tbody>\n",
       "    <tr>\n",
       "      <th>170017</th>\n",
       "      <td>11116274</td>\n",
       "      <td>A Message to Our Customers</td>\n",
       "      <td>http://www.apple.com/customer-letter/</td>\n",
       "      <td>5771</td>\n",
       "      <td>967</td>\n",
       "      <td>epaga</td>\n",
       "      <td>2/17/2016 8:38</td>\n",
       "    </tr>\n",
       "    <tr>\n",
       "      <th>69169</th>\n",
       "      <td>11966167</td>\n",
       "      <td>UK votes to leave EU</td>\n",
       "      <td>http://www.bbc.co.uk/news/uk-politics-36615028</td>\n",
       "      <td>3125</td>\n",
       "      <td>2531</td>\n",
       "      <td>dmmalam</td>\n",
       "      <td>6/24/2016 3:48</td>\n",
       "    </tr>\n",
       "    <tr>\n",
       "      <th>9263</th>\n",
       "      <td>12494998</td>\n",
       "      <td>Pardon Snowden</td>\n",
       "      <td>https://www.pardonsnowden.org/</td>\n",
       "      <td>2553</td>\n",
       "      <td>781</td>\n",
       "      <td>erlend_sh</td>\n",
       "      <td>9/14/2016 8:31</td>\n",
       "    </tr>\n",
       "    <tr>\n",
       "      <th>57128</th>\n",
       "      <td>12073675</td>\n",
       "      <td>Tell HN: New features and a moderator</td>\n",
       "      <td>NaN</td>\n",
       "      <td>2381</td>\n",
       "      <td>451</td>\n",
       "      <td>dang</td>\n",
       "      <td>7/11/2016 19:34</td>\n",
       "    </tr>\n",
       "    <tr>\n",
       "      <th>136284</th>\n",
       "      <td>11390545</td>\n",
       "      <td>Ubuntu on Windows</td>\n",
       "      <td>http://blog.dustinkirkland.com/2016/03/ubuntu-...</td>\n",
       "      <td>2049</td>\n",
       "      <td>513</td>\n",
       "      <td>bpierre</td>\n",
       "      <td>3/30/2016 16:35</td>\n",
       "    </tr>\n",
       "  </tbody>\n",
       "</table>\n",
       "</div>"
      ],
      "text/plain": [
       "              id                                  title  \\\n",
       "170017  11116274             A Message to Our Customers   \n",
       "69169   11966167                   UK votes to leave EU   \n",
       "9263    12494998                         Pardon Snowden   \n",
       "57128   12073675  Tell HN: New features and a moderator   \n",
       "136284  11390545                      Ubuntu on Windows   \n",
       "\n",
       "                                                      url  num_points  \\\n",
       "170017              http://www.apple.com/customer-letter/        5771   \n",
       "69169      http://www.bbc.co.uk/news/uk-politics-36615028        3125   \n",
       "9263                       https://www.pardonsnowden.org/        2553   \n",
       "57128                                                 NaN        2381   \n",
       "136284  http://blog.dustinkirkland.com/2016/03/ubuntu-...        2049   \n",
       "\n",
       "        num_comments     author       created_at  \n",
       "170017           967      epaga   2/17/2016 8:38  \n",
       "69169           2531    dmmalam   6/24/2016 3:48  \n",
       "9263             781  erlend_sh   9/14/2016 8:31  \n",
       "57128            451       dang  7/11/2016 19:34  \n",
       "136284           513    bpierre  3/30/2016 16:35  "
      ]
     },
     "execution_count": 4,
     "metadata": {},
     "output_type": "execute_result"
    }
   ],
   "source": [
    "hack.sort_values('num_points',ascending = False).head()"
   ]
  },
  {
   "cell_type": "code",
   "execution_count": 5,
   "id": "e829b433-e6ed-484f-8a5c-fc95d373ccc6",
   "metadata": {},
   "outputs": [
    {
     "data": {
      "text/plain": [
       "(293119, 7)"
      ]
     },
     "execution_count": 5,
     "metadata": {},
     "output_type": "execute_result"
    }
   ],
   "source": [
    "hack.shape"
   ]
  },
  {
   "cell_type": "code",
   "execution_count": 6,
   "id": "7ed61c18-a321-4dde-9943-cc181dbdceba",
   "metadata": {},
   "outputs": [
    {
     "name": "stdout",
     "output_type": "stream",
     "text": [
      "<class 'pandas.core.frame.DataFrame'>\n",
      "RangeIndex: 293119 entries, 0 to 293118\n",
      "Data columns (total 7 columns):\n",
      " #   Column        Non-Null Count   Dtype \n",
      "---  ------        --------------   ----- \n",
      " 0   id            293119 non-null  int64 \n",
      " 1   title         293119 non-null  object\n",
      " 2   url           279256 non-null  object\n",
      " 3   num_points    293119 non-null  int64 \n",
      " 4   num_comments  293119 non-null  int64 \n",
      " 5   author        293119 non-null  object\n",
      " 6   created_at    293119 non-null  object\n",
      "dtypes: int64(3), object(4)\n",
      "memory usage: 15.7+ MB\n"
     ]
    }
   ],
   "source": [
    "# preprocessing\n",
    "hack.info()"
   ]
  },
  {
   "cell_type": "code",
   "execution_count": 7,
   "id": "28bc8218-291c-4edb-8411-dff024928702",
   "metadata": {},
   "outputs": [],
   "source": [
    "from sklearn.model_selection import train_test_split\n"
   ]
  },
  {
   "cell_type": "code",
   "execution_count": 8,
   "id": "e7809572-9e34-417f-950b-27ff4d8db651",
   "metadata": {},
   "outputs": [
    {
     "data": {
      "text/html": [
       "<div>\n",
       "<style scoped>\n",
       "    .dataframe tbody tr th:only-of-type {\n",
       "        vertical-align: middle;\n",
       "    }\n",
       "\n",
       "    .dataframe tbody tr th {\n",
       "        vertical-align: top;\n",
       "    }\n",
       "\n",
       "    .dataframe thead th {\n",
       "        text-align: right;\n",
       "    }\n",
       "</style>\n",
       "<table border=\"1\" class=\"dataframe\">\n",
       "  <thead>\n",
       "    <tr style=\"text-align: right;\">\n",
       "      <th></th>\n",
       "      <th>id</th>\n",
       "      <th>title</th>\n",
       "      <th>url</th>\n",
       "      <th>num_points</th>\n",
       "      <th>num_comments</th>\n",
       "      <th>author</th>\n",
       "      <th>created_at</th>\n",
       "    </tr>\n",
       "  </thead>\n",
       "  <tbody>\n",
       "    <tr>\n",
       "      <th>0</th>\n",
       "      <td>12579008</td>\n",
       "      <td>You have two days to comment if you want stem ...</td>\n",
       "      <td>http://www.regulations.gov/document?D=FDA-2015...</td>\n",
       "      <td>1</td>\n",
       "      <td>0</td>\n",
       "      <td>altstar</td>\n",
       "      <td>9/26/2016 3:26</td>\n",
       "    </tr>\n",
       "    <tr>\n",
       "      <th>1</th>\n",
       "      <td>12579005</td>\n",
       "      <td>SQLAR  the SQLite Archiver</td>\n",
       "      <td>https://www.sqlite.org/sqlar/doc/trunk/README.md</td>\n",
       "      <td>1</td>\n",
       "      <td>0</td>\n",
       "      <td>blacksqr</td>\n",
       "      <td>9/26/2016 3:24</td>\n",
       "    </tr>\n",
       "    <tr>\n",
       "      <th>2</th>\n",
       "      <td>12578997</td>\n",
       "      <td>What if we just printed a flatscreen televisio...</td>\n",
       "      <td>https://medium.com/vanmoof/our-secrets-out-f21...</td>\n",
       "      <td>1</td>\n",
       "      <td>0</td>\n",
       "      <td>pavel_lishin</td>\n",
       "      <td>9/26/2016 3:19</td>\n",
       "    </tr>\n",
       "    <tr>\n",
       "      <th>3</th>\n",
       "      <td>12578989</td>\n",
       "      <td>algorithmic music</td>\n",
       "      <td>http://cacm.acm.org/magazines/2011/7/109891-al...</td>\n",
       "      <td>1</td>\n",
       "      <td>0</td>\n",
       "      <td>poindontcare</td>\n",
       "      <td>9/26/2016 3:16</td>\n",
       "    </tr>\n",
       "    <tr>\n",
       "      <th>4</th>\n",
       "      <td>12578979</td>\n",
       "      <td>How the Data Vault Enables the Next-Gen Data W...</td>\n",
       "      <td>https://www.talend.com/blog/2016/05/12/talend-...</td>\n",
       "      <td>1</td>\n",
       "      <td>0</td>\n",
       "      <td>markgainor1</td>\n",
       "      <td>9/26/2016 3:14</td>\n",
       "    </tr>\n",
       "  </tbody>\n",
       "</table>\n",
       "</div>"
      ],
      "text/plain": [
       "         id                                              title  \\\n",
       "0  12579008  You have two days to comment if you want stem ...   \n",
       "1  12579005                         SQLAR  the SQLite Archiver   \n",
       "2  12578997  What if we just printed a flatscreen televisio...   \n",
       "3  12578989                                  algorithmic music   \n",
       "4  12578979  How the Data Vault Enables the Next-Gen Data W...   \n",
       "\n",
       "                                                 url  num_points  \\\n",
       "0  http://www.regulations.gov/document?D=FDA-2015...           1   \n",
       "1   https://www.sqlite.org/sqlar/doc/trunk/README.md           1   \n",
       "2  https://medium.com/vanmoof/our-secrets-out-f21...           1   \n",
       "3  http://cacm.acm.org/magazines/2011/7/109891-al...           1   \n",
       "4  https://www.talend.com/blog/2016/05/12/talend-...           1   \n",
       "\n",
       "   num_comments        author      created_at  \n",
       "0             0       altstar  9/26/2016 3:26  \n",
       "1             0      blacksqr  9/26/2016 3:24  \n",
       "2             0  pavel_lishin  9/26/2016 3:19  \n",
       "3             0  poindontcare  9/26/2016 3:16  \n",
       "4             0   markgainor1  9/26/2016 3:14  "
      ]
     },
     "execution_count": 8,
     "metadata": {},
     "output_type": "execute_result"
    }
   ],
   "source": [
    "hack.fillna('missing', inplace = True)\n",
    "hack.head()"
   ]
  },
  {
   "cell_type": "code",
   "execution_count": 9,
   "id": "11cbe30d-f5a8-4fca-abba-405893bdc879",
   "metadata": {},
   "outputs": [],
   "source": [
    "# check null values"
   ]
  },
  {
   "cell_type": "code",
   "execution_count": 10,
   "id": "fdbea451-00b6-4298-a277-c1ce4d0ec387",
   "metadata": {},
   "outputs": [
    {
     "data": {
      "text/plain": [
       "id              0\n",
       "title           0\n",
       "url             0\n",
       "num_points      0\n",
       "num_comments    0\n",
       "author          0\n",
       "created_at      0\n",
       "dtype: int64"
      ]
     },
     "execution_count": 10,
     "metadata": {},
     "output_type": "execute_result"
    }
   ],
   "source": [
    "hack.isna().sum()"
   ]
  },
  {
   "cell_type": "markdown",
   "id": "ae694e90-88f3-433d-a4b9-0443bd1ddf2f",
   "metadata": {},
   "source": [
    "# Install needed librarries"
   ]
  },
  {
   "cell_type": "code",
   "execution_count": 11,
   "id": "cc72fb7c-75fc-483b-8d30-649655be8dd8",
   "metadata": {},
   "outputs": [],
   "source": [
    "from sklearn.feature_extraction.text import TfidfVectorizer\n",
    "from sklearn.model_selection import train_test_split\n",
    "from sklearn.svm import LinearSVC\n",
    "from sklearn.metrics import classification_report, accuracy_score, confusion_matrix"
   ]
  },
  {
   "cell_type": "code",
   "execution_count": 12,
   "id": "a2c8dee5-01d7-43a6-ae7c-c1958dd34534",
   "metadata": {},
   "outputs": [],
   "source": [
    "import preprocess_kgptalkie as ps  # import the cleaning package\n",
    "import re # regular expression\n",
    "\n",
    "def get_clean(x):\n",
    "    x = str(x).lower().replace('\\\\', '').replace('_', ' ')\n",
    "    x = ps.cont_exp(x)\n",
    "    x = ps.remove_emails(x)\n",
    "    x = ps.remove_urls(x)\n",
    "    x = ps.remove_html_tags(x)\n",
    "    x = ps.remove_rt(x)\n",
    "    x = ps.remove_accented_chars(x)\n",
    "    x = ps.remove_special_chars(x)\n",
    "    x = re.sub(\"(.)\\\\1{2,}\", \"\\\\1\", x)\n",
    "    return x"
   ]
  },
  {
   "cell_type": "markdown",
   "id": "c898879b-c156-46c8-8f1c-bfb45aa85ef6",
   "metadata": {},
   "source": [
    "# Preprocessing - > cleaning up title, url and author features"
   ]
  },
  {
   "cell_type": "code",
   "execution_count": 13,
   "id": "39aa20c2-e731-4712-a58f-97d82c12872e",
   "metadata": {},
   "outputs": [],
   "source": [
    "X = hack.loc[:, ['title','url', 'author']]\n",
    "y= hack.num_points"
   ]
  },
  {
   "cell_type": "code",
   "execution_count": 14,
   "id": "3d637ce9-5350-4e4a-9481-6f3a767e92a6",
   "metadata": {},
   "outputs": [
    {
     "data": {
      "text/plain": [
       "0            www.regulations.gov\n",
       "1                 www.sqlite.org\n",
       "2                     medium.com\n",
       "3                   cacm.acm.org\n",
       "4                 www.talend.com\n",
       "                   ...          \n",
       "293114                       NaN\n",
       "293115    people.cs.uchicago.edu\n",
       "293116        dangerousminds.net\n",
       "293117              www.zend.com\n",
       "293118     newsroom.toyota.co.jp\n",
       "Name: url, Length: 293119, dtype: object"
      ]
     },
     "execution_count": 14,
     "metadata": {},
     "output_type": "execute_result"
    }
   ],
   "source": [
    "X.url = X.url.str.extract(\"^http[s]*://([0-9a-z\\-\\.]*)\",expand=False)\n",
    "X.url"
   ]
  },
  {
   "cell_type": "code",
   "execution_count": 15,
   "id": "acdca7ba-956d-49a3-bb6c-db502bd6219e",
   "metadata": {},
   "outputs": [
    {
     "name": "stderr",
     "output_type": "stream",
     "text": [
      "C:\\Users\\godwi\\anaconda3\\lib\\site-packages\\bs4\\__init__.py:329: MarkupResemblesLocatorWarning: \"con\" looks like a filename, not markup. You should probably open this file and pass the filehandle into Beautiful Soup.\n",
      "  warnings.warn(\n"
     ]
    }
   ],
   "source": [
    "X.title= X.title.apply(lambda x: get_clean(x))\n",
    "X.url = X.url.apply(lambda x : get_clean(x))\n",
    "X.author = X.author.apply(lambda x: get_clean(x))"
   ]
  },
  {
   "cell_type": "markdown",
   "id": "c76f9c97-5c0b-4c25-a785-fa5e40edc39f",
   "metadata": {},
   "source": [
    "# Training the model"
   ]
  },
  {
   "cell_type": "markdown",
   "id": "161d7df0-3865-4b03-b546-fc4c5c93c191",
   "metadata": {},
   "source": [
    "# tranforming data to sparse matrix\n",
    "X = tfidf.fit_transform(X)\n",
    "\n",
    "train\n",
    "X_train, X_test,y_train, y_test = train_test_split(X, y, test_size = 0.2, random_state = 42 )"
   ]
  },
  {
   "cell_type": "raw",
   "id": "8c6d6212-6a4c-47c8-8849-c3732e897abe",
   "metadata": {},
   "source": [
    "from sklearn.linear_model import SGDClassifier\n",
    "clf = SGDClassifier(loss=\"hinge\", penalty=\"l2\", max_iter=5)\n",
    ">>> clf.fit(X, y)\n",
    "SGDClassifier(max_iter=5)"
   ]
  }
 ],
 "metadata": {
  "kernelspec": {
   "display_name": "Python 3",
   "language": "python",
   "name": "python3"
  },
  "language_info": {
   "codemirror_mode": {
    "name": "ipython",
    "version": 3
   },
   "file_extension": ".py",
   "mimetype": "text/x-python",
   "name": "python",
   "nbconvert_exporter": "python",
   "pygments_lexer": "ipython3",
   "version": "3.8.8"
  }
 },
 "nbformat": 4,
 "nbformat_minor": 5
}
